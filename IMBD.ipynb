{
 "cells": [
  {
   "cell_type": "markdown",
   "metadata": {},
   "source": [
    "### IMBD TOP250 Movie Analysis and Recommendation"
   ]
  },
  {
   "cell_type": "markdown",
   "metadata": {},
   "source": [
    "#### Load libraries"
   ]
  },
  {
   "cell_type": "code",
   "execution_count": 217,
   "metadata": {},
   "outputs": [],
   "source": [
    "import requests\n",
    "from bs4 import BeautifulSoup\n",
    "import pandas as pd\n",
    "import re\n",
    "import csv\n",
    "import time\n",
    "import random"
   ]
  },
  {
   "cell_type": "markdown",
   "metadata": {},
   "source": [
    "#### Prepare useful information"
   ]
  },
  {
   "cell_type": "code",
   "execution_count": 2,
   "metadata": {},
   "outputs": [],
   "source": [
    "web = 'https://www.imdb.com/chart/top/?ref_=nv_mv_250'\n",
    "web2 = 'https://www.imdb.com/'\n",
    "headers = [\n",
    "        \"Mozilla/5.0 (Macintosh; Intel Mac OS X 10.6; rv2.0.1) Gecko/20100101 Firefox/4.0.1\",\n",
    "        \"Mozilla/5.0 (Windows NT 6.1; rv2.0.1) Gecko/20100101 Firefox/4.0.1\",\n",
    "        \"Opera/9.80 (Macintosh; Intel Mac OS X 10.6.8; U; en) Presto/2.8.131 Version/11.11\",\n",
    "        \"Opera/9.80 (Windows NT 6.1; U; en) Presto/2.8.131 Version/11.11\",\n",
    "        \"Mozilla/5.0 (Macintosh; Intel Mac OS X 10_7_0) AppleWebKit/535.11 (KHTML, like Gecko) Chrome/17.0.963.56 Safari/535.11\"]\n",
    "\n",
    "header = {'User-Agent':'Mozilla/5.0 (Windows NT 10.0; Win64; x64; rv:57.0) Gecko/20100101 Firefox/57.0'}\n",
    "\n",
    "pattern1 = 'Country:(.*) Language:(.*) Rele.*Budget:(.*)\\(.*Gro.*:(.*)Pro.*Co:(.*)See more.*Runtime:(.*)min'\n",
    "pattern2 = 'Country:(.*) Language:(.*) Rele.*Gro.*:(.*)Pro.*Co:(.*)See more.*Runtime:(.*)min'\n",
    "pattern3 = 'Country:(.*) Language:(.*) Rele.*Budget:(.*)\\(.*Pro.*Co:(.*)See more.*Runtime:(.*)min'\n",
    "pattern4 = 'Country:(.*) Language:(.*) Rele.*Gro.*:(.*)Pro.*Co:(.*)See more.*Runtime:(.*)min'"
   ]
  },
  {
   "cell_type": "markdown",
   "metadata": {},
   "source": [
    "#### Function\n",
    "- Parse the main page of IMBD"
   ]
  },
  {
   "cell_type": "code",
   "execution_count": 4,
   "metadata": {},
   "outputs": [],
   "source": [
    "# Get soup object\n",
    "def getSoup(url,header):\n",
    "    req = requests.get(url,headers=header)\n",
    "    bs = BeautifulSoup(req.content,'html')\n",
    "    return bs\n",
    "\n",
    "# get data\n",
    "def getData(bs):\n",
    "    data = bs.find('tbody', attrs = {'class': 'lister-list'})\n",
    "    # get titles and urls\n",
    "    film_info = data.find_all('td',attrs={'class':'titleColumn'})\n",
    "    titles =  [k.find('a').text for k in film_info]\n",
    "    urls =  [web2 + k.find('a').attrs['href'][:17] for k in film_info]\n",
    "    years = [k.find('span').text[1:5] for k in film_info]\n",
    "    # get score\n",
    "    score_info = data.find_all('td',attrs={'class':'imdbRating'})\n",
    "    scores = [k.text.replace('\\n','') for k in score_info]\n",
    "    # return data frame\n",
    "    data = pd.DataFrame({'Name':titles,'Score':scores,'Year':years,'Url':urls})      \n",
    "    return data"
   ]
  },
  {
   "cell_type": "markdown",
   "metadata": {},
   "source": [
    "- Parse the details of movie"
   ]
  },
  {
   "cell_type": "code",
   "execution_count": 215,
   "metadata": {},
   "outputs": [],
   "source": [
    "# ['USA', 'English', '25000000', '28786657', 'Castle Rock Entertainment', '142']\n",
    "# country, language, budget, gross revenue, production, runtime\n",
    "def getInfo_1(bs,p = pattern1):\n",
    "    info1 = bs.find('div',{'class':'article','id':'titleDetails'}).find_all('div',attrs={'class':'txt-block'})\n",
    "    info2 = ' '.join([s.text.replace('\\n','').strip() for s in info1])\n",
    "    info3 = re.findall(p,info2)\n",
    "    status = 0\n",
    "    if not info3: \n",
    "        info3, status = re.findall(pattern2,info2), 1\n",
    "    if not info3: \n",
    "        info3, status = re.findall(pattern3,info2), 2\n",
    "    d1 = [d.strip() for d in info3[0]]\n",
    "    if len(d1) < 6:\n",
    "        if status == 1:\n",
    "            d1.insert(2,'0')\n",
    "        elif status == 2:\n",
    "            d1.insert(3,'0')\n",
    "    temp = []\n",
    "    for i,n in enumerate(d1):\n",
    "        if i in (2,3):\n",
    "            n = ''.join(re.findall(r'\\d',n))\n",
    "        elif i == 5:\n",
    "            n = ''.join(re.findall(r'\\d',n.split('|')[0]))\n",
    "        temp.append(n)\n",
    "    return temp\n",
    "\n",
    "# ['R','Drama','2236434','7728', '225', 'Two imprisoned men bond over a number of years, finding solace and eventual redemption through acts of common decency.',\n",
    "# ['Frank Darabont'],['Stephen King', 'Frank Darabont'],['Tim Robbins', 'Morgan Freeman', 'Bob Gunton']]\n",
    "# Rating, Genera, Nums of Score, Nums of Review, Nums of critic, Story, Director, Writer, Stars\n",
    "def getInfo_2(bs):\n",
    "    d2 = bs.find('div',{'class':'title_wrapper'}).find_all('div',{'class':'subtext'})\n",
    "    t1 = [info.strip() for i,info in enumerate(d2[0].text.replace('\\n','').split('|')) if i in (0,2)]\n",
    "    d3 = bs.find('div',{'class':'ratings_wrapper'}).a.text\n",
    "    t2 = [''.join(re.findall(r'\\d',d3))]\n",
    "    d4 = bs.find('div',{'class':'titleReviewBarItem titleReviewbarItemBorder'})\n",
    "    d4 = d4.span.text.replace('\\n','').split('|')\n",
    "    t3 = [''.join(re.findall(r'\\d',d)) for d in d4]\n",
    "    d5 = bs.find('div',{'class':'plot_summary'}).find_all('div')\n",
    "    summary = [x.text.strip().replace('\\n','') for x in d5]\n",
    "    t4 = []\n",
    "    for i,n in enumerate(summary):\n",
    "        if i == 1:\n",
    "            names = re.findall(r'Dire.*:(.*)',n)[0].split(',')\n",
    "            res = [i.split('(')[0].strip() for i in names]\n",
    "            n = ', '.join(res)\n",
    "        elif i == 2:\n",
    "            names = re.findall(r'Write.*:(.*)',n)[0].split(',')\n",
    "            res = [i.split('(')[0].strip() for i in names]\n",
    "            if len(res) > 1:\n",
    "                temp = re.findall(r'(.*)\\|',res[1])\n",
    "                if temp: res[1] = temp[0].strip()\n",
    "            n = ', '.join(res)\n",
    "        elif i == 3:\n",
    "            stars = re.findall(r'Stars:(.*)\\|See',n)\n",
    "            res = [s.strip() for s in stars[0].split(',')]\n",
    "            n = ', '.join(res)\n",
    "        t4.append(n)\n",
    "    return t1 + t2 + t3 + t4"
   ]
  },
  {
   "cell_type": "markdown",
   "metadata": {},
   "source": [
    "#### Get the data of main page"
   ]
  },
  {
   "cell_type": "code",
   "execution_count": 6,
   "metadata": {},
   "outputs": [
    {
     "data": {
      "text/html": [
       "<div>\n",
       "<style scoped>\n",
       "    .dataframe tbody tr th:only-of-type {\n",
       "        vertical-align: middle;\n",
       "    }\n",
       "\n",
       "    .dataframe tbody tr th {\n",
       "        vertical-align: top;\n",
       "    }\n",
       "\n",
       "    .dataframe thead th {\n",
       "        text-align: right;\n",
       "    }\n",
       "</style>\n",
       "<table border=\"1\" class=\"dataframe\">\n",
       "  <thead>\n",
       "    <tr style=\"text-align: right;\">\n",
       "      <th></th>\n",
       "      <th>Name</th>\n",
       "      <th>Score</th>\n",
       "      <th>Year</th>\n",
       "      <th>Url</th>\n",
       "    </tr>\n",
       "  </thead>\n",
       "  <tbody>\n",
       "    <tr>\n",
       "      <th>0</th>\n",
       "      <td>The Shawshank Redemption</td>\n",
       "      <td>9.2</td>\n",
       "      <td>1994</td>\n",
       "      <td>https://www.imdb.com//title/tt0111161/</td>\n",
       "    </tr>\n",
       "    <tr>\n",
       "      <th>1</th>\n",
       "      <td>The Godfather</td>\n",
       "      <td>9.1</td>\n",
       "      <td>1972</td>\n",
       "      <td>https://www.imdb.com//title/tt0068646/</td>\n",
       "    </tr>\n",
       "    <tr>\n",
       "      <th>2</th>\n",
       "      <td>The Godfather: Part II</td>\n",
       "      <td>9.0</td>\n",
       "      <td>1974</td>\n",
       "      <td>https://www.imdb.com//title/tt0071562/</td>\n",
       "    </tr>\n",
       "    <tr>\n",
       "      <th>3</th>\n",
       "      <td>The Dark Knight</td>\n",
       "      <td>9.0</td>\n",
       "      <td>2008</td>\n",
       "      <td>https://www.imdb.com//title/tt0468569/</td>\n",
       "    </tr>\n",
       "    <tr>\n",
       "      <th>4</th>\n",
       "      <td>12 Angry Men</td>\n",
       "      <td>8.9</td>\n",
       "      <td>1957</td>\n",
       "      <td>https://www.imdb.com//title/tt0050083/</td>\n",
       "    </tr>\n",
       "  </tbody>\n",
       "</table>\n",
       "</div>"
      ],
      "text/plain": [
       "                       Name Score  Year  \\\n",
       "0  The Shawshank Redemption   9.2  1994   \n",
       "1             The Godfather   9.1  1972   \n",
       "2    The Godfather: Part II   9.0  1974   \n",
       "3           The Dark Knight   9.0  2008   \n",
       "4              12 Angry Men   8.9  1957   \n",
       "\n",
       "                                      Url  \n",
       "0  https://www.imdb.com//title/tt0111161/  \n",
       "1  https://www.imdb.com//title/tt0068646/  \n",
       "2  https://www.imdb.com//title/tt0071562/  \n",
       "3  https://www.imdb.com//title/tt0468569/  \n",
       "4  https://www.imdb.com//title/tt0050083/  "
      ]
     },
     "execution_count": 6,
     "metadata": {},
     "output_type": "execute_result"
    }
   ],
   "source": [
    "bs = getSoup(web,header)\n",
    "data = getData(bs)\n",
    "data.head()"
   ]
  },
  {
   "cell_type": "code",
   "execution_count": 216,
   "metadata": {},
   "outputs": [
    {
     "name": "stdout",
     "output_type": "stream",
     "text": [
      "https://www.imdb.com//title/tt0111161/\n"
     ]
    },
    {
     "data": {
      "text/plain": [
       "array(['https://www.imdb.com//title/tt0111161/',\n",
       "       'https://www.imdb.com//title/tt0068646/',\n",
       "       'https://www.imdb.com//title/tt0071562/',\n",
       "       'https://www.imdb.com//title/tt0468569/',\n",
       "       'https://www.imdb.com//title/tt0050083/'], dtype=object)"
      ]
     },
     "execution_count": 216,
     "metadata": {},
     "output_type": "execute_result"
    }
   ],
   "source": [
    "new_url = data['Url'].values[0]\n",
    "print(new_url)\n",
    "data['Url'][:5].values"
   ]
  },
  {
   "cell_type": "markdown",
   "metadata": {},
   "source": [
    "#### Save the data as 'test.csv'"
   ]
  },
  {
   "cell_type": "code",
   "execution_count": 218,
   "metadata": {},
   "outputs": [],
   "source": [
    "columns = ['Name','Country','Language','Budget','Gross_revenue','Production','Runtime','Rating',\n",
    "          'Genre','Nums_score','Nums_review','Nums_critic','Story','Director','Writer','Star']\n",
    "\n",
    "with open(\"test.csv\",\"w\",newline='') as file: \n",
    "    writer = csv.writer(file)\n",
    "    # columns_name\n",
    "    writer.writerow(columns)\n",
    "    for i,u in enumerate(data['Url'][:].values):\n",
    "        page = getSoup(u,header)\n",
    "        detail = getInfo_1(page) + getInfo_2(page)\n",
    "        content = [data['Name'][i]] + detail\n",
    "        writer.writerow(content)"
   ]
  },
  {
   "cell_type": "markdown",
   "metadata": {},
   "source": [
    "- Check the test.csv and manually change two odd numbers, then save as data.csv"
   ]
  },
  {
   "cell_type": "code",
   "execution_count": 226,
   "metadata": {},
   "outputs": [
    {
     "data": {
      "text/html": [
       "<div>\n",
       "<style scoped>\n",
       "    .dataframe tbody tr th:only-of-type {\n",
       "        vertical-align: middle;\n",
       "    }\n",
       "\n",
       "    .dataframe tbody tr th {\n",
       "        vertical-align: top;\n",
       "    }\n",
       "\n",
       "    .dataframe thead th {\n",
       "        text-align: right;\n",
       "    }\n",
       "</style>\n",
       "<table border=\"1\" class=\"dataframe\">\n",
       "  <thead>\n",
       "    <tr style=\"text-align: right;\">\n",
       "      <th></th>\n",
       "      <th>Name</th>\n",
       "      <th>Country1</th>\n",
       "      <th>Country2</th>\n",
       "      <th>Country3</th>\n",
       "      <th>Country4</th>\n",
       "      <th>Country5</th>\n",
       "      <th>Country6</th>\n",
       "      <th>Language1</th>\n",
       "      <th>Language2</th>\n",
       "      <th>Language3</th>\n",
       "      <th>...</th>\n",
       "      <th>Nums_review</th>\n",
       "      <th>Nums_critic</th>\n",
       "      <th>Story</th>\n",
       "      <th>Director1</th>\n",
       "      <th>Director2</th>\n",
       "      <th>Writer1</th>\n",
       "      <th>Writer2</th>\n",
       "      <th>Star1</th>\n",
       "      <th>Star2</th>\n",
       "      <th>Star3</th>\n",
       "    </tr>\n",
       "  </thead>\n",
       "  <tbody>\n",
       "    <tr>\n",
       "      <th>0</th>\n",
       "      <td>The Shawshank Redemption</td>\n",
       "      <td>USA</td>\n",
       "      <td>NaN</td>\n",
       "      <td>NaN</td>\n",
       "      <td>NaN</td>\n",
       "      <td>NaN</td>\n",
       "      <td>NaN</td>\n",
       "      <td>English</td>\n",
       "      <td>NaN</td>\n",
       "      <td>NaN</td>\n",
       "      <td>...</td>\n",
       "      <td>7738</td>\n",
       "      <td>225</td>\n",
       "      <td>Two imprisoned men bond over a number of years...</td>\n",
       "      <td>Frank Darabont</td>\n",
       "      <td>NaN</td>\n",
       "      <td>Stephen King</td>\n",
       "      <td>Frank Darabont</td>\n",
       "      <td>Tim Robbins</td>\n",
       "      <td>Morgan Freeman</td>\n",
       "      <td>Bob Gunton</td>\n",
       "    </tr>\n",
       "    <tr>\n",
       "      <th>1</th>\n",
       "      <td>The Godfather</td>\n",
       "      <td>USA</td>\n",
       "      <td>NaN</td>\n",
       "      <td>NaN</td>\n",
       "      <td>NaN</td>\n",
       "      <td>NaN</td>\n",
       "      <td>NaN</td>\n",
       "      <td>English</td>\n",
       "      <td>Italian</td>\n",
       "      <td>Latin</td>\n",
       "      <td>...</td>\n",
       "      <td>3726</td>\n",
       "      <td>248</td>\n",
       "      <td>The aging patriarch of an organized crime dyna...</td>\n",
       "      <td>Francis Ford Coppola</td>\n",
       "      <td>NaN</td>\n",
       "      <td>Mario Puzo</td>\n",
       "      <td>Francis Ford Coppola</td>\n",
       "      <td>Marlon Brando</td>\n",
       "      <td>Al Pacino</td>\n",
       "      <td>James Caan</td>\n",
       "    </tr>\n",
       "    <tr>\n",
       "      <th>2</th>\n",
       "      <td>The Godfather: Part II</td>\n",
       "      <td>USA</td>\n",
       "      <td>NaN</td>\n",
       "      <td>NaN</td>\n",
       "      <td>NaN</td>\n",
       "      <td>NaN</td>\n",
       "      <td>NaN</td>\n",
       "      <td>English</td>\n",
       "      <td>Italian</td>\n",
       "      <td>Spanish</td>\n",
       "      <td>...</td>\n",
       "      <td>964</td>\n",
       "      <td>176</td>\n",
       "      <td>The early life and career of Vito Corleone in ...</td>\n",
       "      <td>Francis Ford Coppola</td>\n",
       "      <td>NaN</td>\n",
       "      <td>Francis Ford Coppola</td>\n",
       "      <td>Mario Puzo</td>\n",
       "      <td>Al Pacino</td>\n",
       "      <td>Robert De Niro</td>\n",
       "      <td>Robert Duvall</td>\n",
       "    </tr>\n",
       "    <tr>\n",
       "      <th>3</th>\n",
       "      <td>The Dark Knight</td>\n",
       "      <td>USA</td>\n",
       "      <td>UK</td>\n",
       "      <td>NaN</td>\n",
       "      <td>NaN</td>\n",
       "      <td>NaN</td>\n",
       "      <td>NaN</td>\n",
       "      <td>English</td>\n",
       "      <td>Mandarin</td>\n",
       "      <td>NaN</td>\n",
       "      <td>...</td>\n",
       "      <td>6697</td>\n",
       "      <td>421</td>\n",
       "      <td>When the menace known as the Joker wreaks havo...</td>\n",
       "      <td>Christopher Nolan</td>\n",
       "      <td>NaN</td>\n",
       "      <td>Jonathan Nolan</td>\n",
       "      <td>Christopher Nolan</td>\n",
       "      <td>Christian Bale</td>\n",
       "      <td>Heath Ledger</td>\n",
       "      <td>Aaron Eckhart</td>\n",
       "    </tr>\n",
       "    <tr>\n",
       "      <th>4</th>\n",
       "      <td>12 Angry Men</td>\n",
       "      <td>USA</td>\n",
       "      <td>NaN</td>\n",
       "      <td>NaN</td>\n",
       "      <td>NaN</td>\n",
       "      <td>NaN</td>\n",
       "      <td>NaN</td>\n",
       "      <td>English</td>\n",
       "      <td>NaN</td>\n",
       "      <td>NaN</td>\n",
       "      <td>...</td>\n",
       "      <td>1511</td>\n",
       "      <td>140</td>\n",
       "      <td>A jury holdout attempts to prevent a miscarria...</td>\n",
       "      <td>Sidney Lumet</td>\n",
       "      <td>NaN</td>\n",
       "      <td>Reginald Rose</td>\n",
       "      <td>Reginald Rose</td>\n",
       "      <td>Henry Fonda</td>\n",
       "      <td>Lee J. Cobb</td>\n",
       "      <td>Martin Balsam</td>\n",
       "    </tr>\n",
       "  </tbody>\n",
       "</table>\n",
       "<p>5 rows × 33 columns</p>\n",
       "</div>"
      ],
      "text/plain": [
       "                       Name Country1 Country2 Country3 Country4 Country5  \\\n",
       "0  The Shawshank Redemption      USA      NaN      NaN      NaN      NaN   \n",
       "1             The Godfather      USA      NaN      NaN      NaN      NaN   \n",
       "2    The Godfather: Part II      USA      NaN      NaN      NaN      NaN   \n",
       "3           The Dark Knight      USA       UK      NaN      NaN      NaN   \n",
       "4              12 Angry Men      USA      NaN      NaN      NaN      NaN   \n",
       "\n",
       "  Country6 Language1  Language2 Language3  ... Nums_review Nums_critic  \\\n",
       "0      NaN   English        NaN       NaN  ...        7738         225   \n",
       "1      NaN   English    Italian     Latin  ...        3726         248   \n",
       "2      NaN   English    Italian   Spanish  ...         964         176   \n",
       "3      NaN   English   Mandarin       NaN  ...        6697         421   \n",
       "4      NaN   English        NaN       NaN  ...        1511         140   \n",
       "\n",
       "                                               Story             Director1  \\\n",
       "0  Two imprisoned men bond over a number of years...        Frank Darabont   \n",
       "1  The aging patriarch of an organized crime dyna...  Francis Ford Coppola   \n",
       "2  The early life and career of Vito Corleone in ...  Francis Ford Coppola   \n",
       "3  When the menace known as the Joker wreaks havo...     Christopher Nolan   \n",
       "4  A jury holdout attempts to prevent a miscarria...          Sidney Lumet   \n",
       "\n",
       "  Director2               Writer1                Writer2           Star1  \\\n",
       "0       NaN          Stephen King         Frank Darabont     Tim Robbins   \n",
       "1       NaN            Mario Puzo   Francis Ford Coppola   Marlon Brando   \n",
       "2       NaN  Francis Ford Coppola             Mario Puzo       Al Pacino   \n",
       "3       NaN        Jonathan Nolan      Christopher Nolan  Christian Bale   \n",
       "4       NaN         Reginald Rose          Reginald Rose     Henry Fonda   \n",
       "\n",
       "             Star2           Star3  \n",
       "0   Morgan Freeman      Bob Gunton  \n",
       "1        Al Pacino      James Caan  \n",
       "2   Robert De Niro   Robert Duvall  \n",
       "3     Heath Ledger   Aaron Eckhart  \n",
       "4      Lee J. Cobb   Martin Balsam  \n",
       "\n",
       "[5 rows x 33 columns]"
      ]
     },
     "execution_count": 226,
     "metadata": {},
     "output_type": "execute_result"
    }
   ],
   "source": [
    "data2 = pd.read_csv('data.csv',encoding='latin-1')\n",
    "data2.head()"
   ]
  },
  {
   "cell_type": "markdown",
   "metadata": {},
   "source": [
    "#### Form a new dataset by merge data and data2"
   ]
  },
  {
   "cell_type": "code",
   "execution_count": 227,
   "metadata": {},
   "outputs": [
    {
     "data": {
      "text/html": [
       "<div>\n",
       "<style scoped>\n",
       "    .dataframe tbody tr th:only-of-type {\n",
       "        vertical-align: middle;\n",
       "    }\n",
       "\n",
       "    .dataframe tbody tr th {\n",
       "        vertical-align: top;\n",
       "    }\n",
       "\n",
       "    .dataframe thead th {\n",
       "        text-align: right;\n",
       "    }\n",
       "</style>\n",
       "<table border=\"1\" class=\"dataframe\">\n",
       "  <thead>\n",
       "    <tr style=\"text-align: right;\">\n",
       "      <th></th>\n",
       "      <th>Name</th>\n",
       "      <th>Score</th>\n",
       "      <th>Year</th>\n",
       "      <th>Url</th>\n",
       "      <th>Country1</th>\n",
       "      <th>Country2</th>\n",
       "      <th>Country3</th>\n",
       "      <th>Country4</th>\n",
       "      <th>Country5</th>\n",
       "      <th>Country6</th>\n",
       "      <th>...</th>\n",
       "      <th>Nums_review</th>\n",
       "      <th>Nums_critic</th>\n",
       "      <th>Story</th>\n",
       "      <th>Director1</th>\n",
       "      <th>Director2</th>\n",
       "      <th>Writer1</th>\n",
       "      <th>Writer2</th>\n",
       "      <th>Star1</th>\n",
       "      <th>Star2</th>\n",
       "      <th>Star3</th>\n",
       "    </tr>\n",
       "  </thead>\n",
       "  <tbody>\n",
       "    <tr>\n",
       "      <th>0</th>\n",
       "      <td>The Shawshank Redemption</td>\n",
       "      <td>9.2</td>\n",
       "      <td>1994</td>\n",
       "      <td>https://www.imdb.com//title/tt0111161/</td>\n",
       "      <td>USA</td>\n",
       "      <td>NaN</td>\n",
       "      <td>NaN</td>\n",
       "      <td>NaN</td>\n",
       "      <td>NaN</td>\n",
       "      <td>NaN</td>\n",
       "      <td>...</td>\n",
       "      <td>7738</td>\n",
       "      <td>225</td>\n",
       "      <td>Two imprisoned men bond over a number of years...</td>\n",
       "      <td>Frank Darabont</td>\n",
       "      <td>NaN</td>\n",
       "      <td>Stephen King</td>\n",
       "      <td>Frank Darabont</td>\n",
       "      <td>Tim Robbins</td>\n",
       "      <td>Morgan Freeman</td>\n",
       "      <td>Bob Gunton</td>\n",
       "    </tr>\n",
       "    <tr>\n",
       "      <th>1</th>\n",
       "      <td>The Godfather</td>\n",
       "      <td>9.1</td>\n",
       "      <td>1972</td>\n",
       "      <td>https://www.imdb.com//title/tt0068646/</td>\n",
       "      <td>USA</td>\n",
       "      <td>NaN</td>\n",
       "      <td>NaN</td>\n",
       "      <td>NaN</td>\n",
       "      <td>NaN</td>\n",
       "      <td>NaN</td>\n",
       "      <td>...</td>\n",
       "      <td>3726</td>\n",
       "      <td>248</td>\n",
       "      <td>The aging patriarch of an organized crime dyna...</td>\n",
       "      <td>Francis Ford Coppola</td>\n",
       "      <td>NaN</td>\n",
       "      <td>Mario Puzo</td>\n",
       "      <td>Francis Ford Coppola</td>\n",
       "      <td>Marlon Brando</td>\n",
       "      <td>Al Pacino</td>\n",
       "      <td>James Caan</td>\n",
       "    </tr>\n",
       "    <tr>\n",
       "      <th>2</th>\n",
       "      <td>The Godfather: Part II</td>\n",
       "      <td>9.0</td>\n",
       "      <td>1974</td>\n",
       "      <td>https://www.imdb.com//title/tt0071562/</td>\n",
       "      <td>USA</td>\n",
       "      <td>NaN</td>\n",
       "      <td>NaN</td>\n",
       "      <td>NaN</td>\n",
       "      <td>NaN</td>\n",
       "      <td>NaN</td>\n",
       "      <td>...</td>\n",
       "      <td>964</td>\n",
       "      <td>176</td>\n",
       "      <td>The early life and career of Vito Corleone in ...</td>\n",
       "      <td>Francis Ford Coppola</td>\n",
       "      <td>NaN</td>\n",
       "      <td>Francis Ford Coppola</td>\n",
       "      <td>Mario Puzo</td>\n",
       "      <td>Al Pacino</td>\n",
       "      <td>Robert De Niro</td>\n",
       "      <td>Robert Duvall</td>\n",
       "    </tr>\n",
       "    <tr>\n",
       "      <th>3</th>\n",
       "      <td>The Dark Knight</td>\n",
       "      <td>9.0</td>\n",
       "      <td>2008</td>\n",
       "      <td>https://www.imdb.com//title/tt0468569/</td>\n",
       "      <td>USA</td>\n",
       "      <td>UK</td>\n",
       "      <td>NaN</td>\n",
       "      <td>NaN</td>\n",
       "      <td>NaN</td>\n",
       "      <td>NaN</td>\n",
       "      <td>...</td>\n",
       "      <td>6697</td>\n",
       "      <td>421</td>\n",
       "      <td>When the menace known as the Joker wreaks havo...</td>\n",
       "      <td>Christopher Nolan</td>\n",
       "      <td>NaN</td>\n",
       "      <td>Jonathan Nolan</td>\n",
       "      <td>Christopher Nolan</td>\n",
       "      <td>Christian Bale</td>\n",
       "      <td>Heath Ledger</td>\n",
       "      <td>Aaron Eckhart</td>\n",
       "    </tr>\n",
       "    <tr>\n",
       "      <th>4</th>\n",
       "      <td>12 Angry Men</td>\n",
       "      <td>8.9</td>\n",
       "      <td>1957</td>\n",
       "      <td>https://www.imdb.com//title/tt0050083/</td>\n",
       "      <td>USA</td>\n",
       "      <td>NaN</td>\n",
       "      <td>NaN</td>\n",
       "      <td>NaN</td>\n",
       "      <td>NaN</td>\n",
       "      <td>NaN</td>\n",
       "      <td>...</td>\n",
       "      <td>1511</td>\n",
       "      <td>140</td>\n",
       "      <td>A jury holdout attempts to prevent a miscarria...</td>\n",
       "      <td>Sidney Lumet</td>\n",
       "      <td>NaN</td>\n",
       "      <td>Reginald Rose</td>\n",
       "      <td>Reginald Rose</td>\n",
       "      <td>Henry Fonda</td>\n",
       "      <td>Lee J. Cobb</td>\n",
       "      <td>Martin Balsam</td>\n",
       "    </tr>\n",
       "  </tbody>\n",
       "</table>\n",
       "<p>5 rows × 36 columns</p>\n",
       "</div>"
      ],
      "text/plain": [
       "                       Name Score  Year  \\\n",
       "0  The Shawshank Redemption   9.2  1994   \n",
       "1             The Godfather   9.1  1972   \n",
       "2    The Godfather: Part II   9.0  1974   \n",
       "3           The Dark Knight   9.0  2008   \n",
       "4              12 Angry Men   8.9  1957   \n",
       "\n",
       "                                      Url Country1 Country2 Country3 Country4  \\\n",
       "0  https://www.imdb.com//title/tt0111161/      USA      NaN      NaN      NaN   \n",
       "1  https://www.imdb.com//title/tt0068646/      USA      NaN      NaN      NaN   \n",
       "2  https://www.imdb.com//title/tt0071562/      USA      NaN      NaN      NaN   \n",
       "3  https://www.imdb.com//title/tt0468569/      USA       UK      NaN      NaN   \n",
       "4  https://www.imdb.com//title/tt0050083/      USA      NaN      NaN      NaN   \n",
       "\n",
       "  Country5 Country6  ... Nums_review Nums_critic  \\\n",
       "0      NaN      NaN  ...        7738         225   \n",
       "1      NaN      NaN  ...        3726         248   \n",
       "2      NaN      NaN  ...         964         176   \n",
       "3      NaN      NaN  ...        6697         421   \n",
       "4      NaN      NaN  ...        1511         140   \n",
       "\n",
       "                                               Story             Director1  \\\n",
       "0  Two imprisoned men bond over a number of years...        Frank Darabont   \n",
       "1  The aging patriarch of an organized crime dyna...  Francis Ford Coppola   \n",
       "2  The early life and career of Vito Corleone in ...  Francis Ford Coppola   \n",
       "3  When the menace known as the Joker wreaks havo...     Christopher Nolan   \n",
       "4  A jury holdout attempts to prevent a miscarria...          Sidney Lumet   \n",
       "\n",
       "  Director2               Writer1                Writer2           Star1  \\\n",
       "0       NaN          Stephen King         Frank Darabont     Tim Robbins   \n",
       "1       NaN            Mario Puzo   Francis Ford Coppola   Marlon Brando   \n",
       "2       NaN  Francis Ford Coppola             Mario Puzo       Al Pacino   \n",
       "3       NaN        Jonathan Nolan      Christopher Nolan  Christian Bale   \n",
       "4       NaN         Reginald Rose          Reginald Rose     Henry Fonda   \n",
       "\n",
       "             Star2           Star3  \n",
       "0   Morgan Freeman      Bob Gunton  \n",
       "1        Al Pacino      James Caan  \n",
       "2   Robert De Niro   Robert Duvall  \n",
       "3     Heath Ledger   Aaron Eckhart  \n",
       "4      Lee J. Cobb   Martin Balsam  \n",
       "\n",
       "[5 rows x 36 columns]"
      ]
     },
     "execution_count": 227,
     "metadata": {},
     "output_type": "execute_result"
    }
   ],
   "source": [
    "result = pd.merge(data,data2,how='left',on=['Name'])\n",
    "result.head()"
   ]
  },
  {
   "cell_type": "markdown",
   "metadata": {},
   "source": [
    "#### Save new dataset as movie.csv for Tableau visualization"
   ]
  },
  {
   "cell_type": "code",
   "execution_count": 228,
   "metadata": {},
   "outputs": [],
   "source": [
    "result.to_csv('movie.csv')"
   ]
  },
  {
   "cell_type": "code",
   "execution_count": 230,
   "metadata": {},
   "outputs": [
    {
     "data": {
      "text/html": [
       "<div>\n",
       "<style scoped>\n",
       "    .dataframe tbody tr th:only-of-type {\n",
       "        vertical-align: middle;\n",
       "    }\n",
       "\n",
       "    .dataframe tbody tr th {\n",
       "        vertical-align: top;\n",
       "    }\n",
       "\n",
       "    .dataframe thead th {\n",
       "        text-align: right;\n",
       "    }\n",
       "</style>\n",
       "<table border=\"1\" class=\"dataframe\">\n",
       "  <thead>\n",
       "    <tr style=\"text-align: right;\">\n",
       "      <th></th>\n",
       "      <th>Gross_revenue</th>\n",
       "      <th>Runtime</th>\n",
       "      <th>Nums_score</th>\n",
       "      <th>Nums_review</th>\n",
       "      <th>Nums_critic</th>\n",
       "    </tr>\n",
       "  </thead>\n",
       "  <tbody>\n",
       "    <tr>\n",
       "      <th>count</th>\n",
       "      <td>2.500000e+02</td>\n",
       "      <td>250.000000</td>\n",
       "      <td>2.500000e+02</td>\n",
       "      <td>250.000000</td>\n",
       "      <td>250.000000</td>\n",
       "    </tr>\n",
       "    <tr>\n",
       "      <th>mean</th>\n",
       "      <td>1.901736e+08</td>\n",
       "      <td>129.820000</td>\n",
       "      <td>5.189005e+05</td>\n",
       "      <td>1059.748000</td>\n",
       "      <td>233.240000</td>\n",
       "    </tr>\n",
       "    <tr>\n",
       "      <th>std</th>\n",
       "      <td>3.333406e+08</td>\n",
       "      <td>32.410327</td>\n",
       "      <td>4.432655e+05</td>\n",
       "      <td>1258.530901</td>\n",
       "      <td>154.014389</td>\n",
       "    </tr>\n",
       "    <tr>\n",
       "      <th>min</th>\n",
       "      <td>0.000000e+00</td>\n",
       "      <td>45.000000</td>\n",
       "      <td>2.525900e+04</td>\n",
       "      <td>53.000000</td>\n",
       "      <td>5.000000</td>\n",
       "    </tr>\n",
       "    <tr>\n",
       "      <th>25%</th>\n",
       "      <td>2.229591e+06</td>\n",
       "      <td>108.000000</td>\n",
       "      <td>1.552185e+05</td>\n",
       "      <td>349.000000</td>\n",
       "      <td>130.000000</td>\n",
       "    </tr>\n",
       "    <tr>\n",
       "      <th>50%</th>\n",
       "      <td>4.654657e+07</td>\n",
       "      <td>126.000000</td>\n",
       "      <td>3.732985e+05</td>\n",
       "      <td>682.000000</td>\n",
       "      <td>184.000000</td>\n",
       "    </tr>\n",
       "    <tr>\n",
       "      <th>75%</th>\n",
       "      <td>2.436440e+08</td>\n",
       "      <td>145.750000</td>\n",
       "      <td>7.731212e+05</td>\n",
       "      <td>1242.750000</td>\n",
       "      <td>290.250000</td>\n",
       "    </tr>\n",
       "    <tr>\n",
       "      <th>max</th>\n",
       "      <td>2.797801e+09</td>\n",
       "      <td>321.000000</td>\n",
       "      <td>2.236965e+06</td>\n",
       "      <td>10004.000000</td>\n",
       "      <td>842.000000</td>\n",
       "    </tr>\n",
       "  </tbody>\n",
       "</table>\n",
       "</div>"
      ],
      "text/plain": [
       "       Gross_revenue     Runtime    Nums_score   Nums_review  Nums_critic\n",
       "count   2.500000e+02  250.000000  2.500000e+02    250.000000   250.000000\n",
       "mean    1.901736e+08  129.820000  5.189005e+05   1059.748000   233.240000\n",
       "std     3.333406e+08   32.410327  4.432655e+05   1258.530901   154.014389\n",
       "min     0.000000e+00   45.000000  2.525900e+04     53.000000     5.000000\n",
       "25%     2.229591e+06  108.000000  1.552185e+05    349.000000   130.000000\n",
       "50%     4.654657e+07  126.000000  3.732985e+05    682.000000   184.000000\n",
       "75%     2.436440e+08  145.750000  7.731212e+05   1242.750000   290.250000\n",
       "max     2.797801e+09  321.000000  2.236965e+06  10004.000000   842.000000"
      ]
     },
     "execution_count": 230,
     "metadata": {},
     "output_type": "execute_result"
    }
   ],
   "source": [
    "result.describe()"
   ]
  },
  {
   "cell_type": "code",
   "execution_count": 248,
   "metadata": {},
   "outputs": [
    {
     "name": "stdout",
     "output_type": "stream",
     "text": [
      "0 Name\n",
      "1 Score\n",
      "2 Year\n",
      "3 Url\n",
      "4 Country1\n",
      "5 Country2\n",
      "6 Country3\n",
      "7 Country4\n",
      "8 Country5\n",
      "9 Country6\n",
      "10 Language1\n",
      "11 Language2\n",
      "12 Language3\n",
      "13 Language4\n",
      "14 Language5\n",
      "15 Language6\n",
      "16 Gross_revenue\n",
      "17 Production1\n",
      "18 Production2\n",
      "19 Production3\n",
      "20 Runtime\n",
      "21 Rating\n",
      "22 Genre1\n",
      "23 Genre2\n",
      "24 Genre3\n",
      "25 Nums_score\n",
      "26 Nums_review\n",
      "27 Nums_critic\n",
      "28 Story\n",
      "29 Director1\n",
      "30 Director2\n",
      "31 Writer1\n",
      "32 Writer2\n",
      "33 Star1\n",
      "34 Star2\n",
      "35 Star3\n"
     ]
    }
   ],
   "source": [
    "for i,n in enumerate(list(result.columns)):\n",
    "    print(i,n)"
   ]
  },
  {
   "cell_type": "markdown",
   "metadata": {},
   "source": [
    "#### Fill Nan values as zero"
   ]
  },
  {
   "cell_type": "code",
   "execution_count": 241,
   "metadata": {},
   "outputs": [],
   "source": [
    "train = result.fillna(0)"
   ]
  },
  {
   "cell_type": "markdown",
   "metadata": {},
   "source": [
    "#### Choose all text features and merge them"
   ]
  },
  {
   "cell_type": "code",
   "execution_count": 256,
   "metadata": {},
   "outputs": [
    {
     "name": "stdout",
     "output_type": "stream",
     "text": [
      "{4, 5, 6, 7, 8, 9, 10, 11, 12, 13, 14, 15, 17, 18, 19, 21, 22, 23, 24, 28, 29, 30, 31, 32, 33, 34, 35}\n"
     ]
    }
   ],
   "source": [
    "index = list(range(4,16)) + list(range(17,20)) + list(range(21,25)) + list(range(28,36))\n",
    "index = set(index)\n",
    "print(index)"
   ]
  },
  {
   "cell_type": "code",
   "execution_count": 262,
   "metadata": {},
   "outputs": [],
   "source": [
    "temp = []\n",
    "for i in range(250):\n",
    "    info = [m for m in list(train.iloc[i,:])]\n",
    "    infos = [m.strip() for i,m in enumerate(info) if i in index and m]\n",
    "    text = ' '.join(infos)\n",
    "    temp.append(text)"
   ]
  },
  {
   "cell_type": "code",
   "execution_count": 263,
   "metadata": {},
   "outputs": [
    {
     "data": {
      "text/plain": [
       "250"
      ]
     },
     "execution_count": 263,
     "metadata": {},
     "output_type": "execute_result"
    }
   ],
   "source": [
    "len(temp)"
   ]
  },
  {
   "cell_type": "code",
   "execution_count": 275,
   "metadata": {},
   "outputs": [
    {
     "name": "stderr",
     "output_type": "stream",
     "text": [
      "C:\\ProgramData\\Anaconda3\\lib\\site-packages\\ipykernel_launcher.py:2: SettingWithCopyWarning: \n",
      "A value is trying to be set on a copy of a slice from a DataFrame.\n",
      "Try using .loc[row_indexer,col_indexer] = value instead\n",
      "\n",
      "See the caveats in the documentation: http://pandas.pydata.org/pandas-docs/stable/user_guide/indexing.html#returning-a-view-versus-a-copy\n",
      "  \n"
     ]
    },
    {
     "data": {
      "text/html": [
       "<div>\n",
       "<style scoped>\n",
       "    .dataframe tbody tr th:only-of-type {\n",
       "        vertical-align: middle;\n",
       "    }\n",
       "\n",
       "    .dataframe tbody tr th {\n",
       "        vertical-align: top;\n",
       "    }\n",
       "\n",
       "    .dataframe thead th {\n",
       "        text-align: right;\n",
       "    }\n",
       "</style>\n",
       "<table border=\"1\" class=\"dataframe\">\n",
       "  <thead>\n",
       "    <tr style=\"text-align: right;\">\n",
       "      <th></th>\n",
       "      <th>Name</th>\n",
       "      <th>Text</th>\n",
       "    </tr>\n",
       "  </thead>\n",
       "  <tbody>\n",
       "    <tr>\n",
       "      <th>0</th>\n",
       "      <td>The Shawshank Redemption</td>\n",
       "      <td>USA English Castle Rock Entertainment R Drama ...</td>\n",
       "    </tr>\n",
       "    <tr>\n",
       "      <th>1</th>\n",
       "      <td>The Godfather</td>\n",
       "      <td>USA English Italian Latin Paramount Pictures A...</td>\n",
       "    </tr>\n",
       "    <tr>\n",
       "      <th>2</th>\n",
       "      <td>The Godfather: Part II</td>\n",
       "      <td>USA English Italian Spanish Latin Sicilian Par...</td>\n",
       "    </tr>\n",
       "    <tr>\n",
       "      <th>3</th>\n",
       "      <td>The Dark Knight</td>\n",
       "      <td>USA UK English Mandarin Warner Bros. Legendary...</td>\n",
       "    </tr>\n",
       "    <tr>\n",
       "      <th>4</th>\n",
       "      <td>12 Angry Men</td>\n",
       "      <td>USA English Orion-Nova Productions Approved Cr...</td>\n",
       "    </tr>\n",
       "  </tbody>\n",
       "</table>\n",
       "</div>"
      ],
      "text/plain": [
       "                       Name                                               Text\n",
       "0  The Shawshank Redemption  USA English Castle Rock Entertainment R Drama ...\n",
       "1             The Godfather  USA English Italian Latin Paramount Pictures A...\n",
       "2    The Godfather: Part II  USA English Italian Spanish Latin Sicilian Par...\n",
       "3           The Dark Knight  USA UK English Mandarin Warner Bros. Legendary...\n",
       "4              12 Angry Men  USA English Orion-Nova Productions Approved Cr..."
      ]
     },
     "execution_count": 275,
     "metadata": {},
     "output_type": "execute_result"
    }
   ],
   "source": [
    "df1 = train[['Name']]\n",
    "df1['Text'] = temp\n",
    "df1['Text'].apply(lambda x:x.replace(',',''))\n",
    "df1['Text'].apply(lambda x:x.replace('.',''))\n",
    "df1.head()"
   ]
  },
  {
   "cell_type": "markdown",
   "metadata": {},
   "source": [
    "- One movie could be represent by one sentence"
   ]
  },
  {
   "cell_type": "code",
   "execution_count": 279,
   "metadata": {},
   "outputs": [
    {
     "name": "stdout",
     "output_type": "stream",
     "text": [
      "USA English Castle Rock Entertainment R Drama Two imprisoned men bond over a number of years, finding solace and eventual redemption through acts of common decency. Frank Darabont Stephen King Frank Darabont Tim Robbins Morgan Freeman Bob Gunton \n",
      "\n",
      "USA English Italian Latin Paramount Pictures Alfran Productions R Crime Drama The aging patriarch of an organized crime dynasty transfers control of his clandestine empire to his reluctant son. Francis Ford Coppola Mario Puzo Francis Ford Coppola Marlon Brando Al Pacino James Caan \n",
      "\n",
      "USA English Italian Spanish Latin Sicilian Paramount Pictures The Coppola Company American Zoetrope R Crime Drama The early life and career of Vito Corleone in 1920s New York City is portrayed, while his son, Michael, expands and tightens his grip on the family crime syndicate. Francis Ford Coppola Francis Ford Coppola Mario Puzo Al Pacino Robert De Niro Robert Duvall \n",
      "\n",
      "USA UK English Mandarin Warner Bros. Legendary Entertainment Syncopy PG-13 Action Crime Drama When the menace known as the Joker wreaks havoc and chaos on the people of Gotham, Batman must accept one of the greatest psychological and physical tests of his ability to fight injustice. Christopher Nolan Jonathan Nolan Christopher Nolan Christian Bale Heath Ledger Aaron Eckhart \n",
      "\n",
      "USA English Orion-Nova Productions Approved Crime Drama A jury holdout attempts to prevent a miscarriage of justice by forcing his colleagues to reconsider the evidence. Sidney Lumet Reginald Rose Reginald Rose Henry Fonda Lee J. Cobb Martin Balsam \n",
      "\n"
     ]
    }
   ],
   "source": [
    "for test in df1['Text'][0:5]:\n",
    "    print(test,'\\n')"
   ]
  },
  {
   "cell_type": "markdown",
   "metadata": {},
   "source": [
    "### Build Recommendation System"
   ]
  },
  {
   "cell_type": "markdown",
   "metadata": {},
   "source": [
    "#### Load libraries"
   ]
  },
  {
   "cell_type": "code",
   "execution_count": 283,
   "metadata": {},
   "outputs": [],
   "source": [
    "from gensim.models import Word2Vec\n",
    "import multiprocessing"
   ]
  },
  {
   "cell_type": "markdown",
   "metadata": {},
   "source": [
    "#### Prepare corpus and build Word2vec model"
   ]
  },
  {
   "cell_type": "code",
   "execution_count": 296,
   "metadata": {
    "collapsed": true
   },
   "outputs": [
    {
     "name": "stdout",
     "output_type": "stream",
     "text": [
      "[['USA', 'English', 'Castle', 'Rock', 'Entertainment', 'R', 'Drama', 'Two', 'imprisoned', 'men', 'bond', 'over', 'a', 'number', 'of', 'years,', 'finding', 'solace', 'and', 'eventual', 'redemption', 'through', 'acts', 'of', 'common', 'decency.', 'Frank', 'Darabont', 'Stephen', 'King', 'Frank', 'Darabont', 'Tim', 'Robbins', 'Morgan', 'Freeman', 'Bob', 'Gunton'], ['USA', 'English', 'Italian', 'Latin', 'Paramount', 'Pictures', 'Alfran', 'Productions', 'R', 'Crime', 'Drama', 'The', 'aging', 'patriarch', 'of', 'an', 'organized', 'crime', 'dynasty', 'transfers', 'control', 'of', 'his', 'clandestine', 'empire', 'to', 'his', 'reluctant', 'son.', 'Francis', 'Ford', 'Coppola', 'Mario', 'Puzo', 'Francis', 'Ford', 'Coppola', 'Marlon', 'Brando', 'Al', 'Pacino', 'James', 'Caan'], ['USA', 'English', 'Italian', 'Spanish', 'Latin', 'Sicilian', 'Paramount', 'Pictures', 'The', 'Coppola', 'Company', 'American', 'Zoetrope', 'R', 'Crime', 'Drama', 'The', 'early', 'life', 'and', 'career', 'of', 'Vito', 'Corleone', 'in', '1920s', 'New', 'York', 'City', 'is', 'portrayed,', 'while', 'his', 'son,', 'Michael,', 'expands', 'and', 'tightens', 'his', 'grip', 'on', 'the', 'family', 'crime', 'syndicate.', 'Francis', 'Ford', 'Coppola', 'Francis', 'Ford', 'Coppola', 'Mario', 'Puzo', 'Al', 'Pacino', 'Robert', 'De', 'Niro', 'Robert', 'Duvall'], ['USA', 'UK', 'English', 'Mandarin', 'Warner', 'Bros.', 'Legendary', 'Entertainment', 'Syncopy', 'PG-13', 'Action', 'Crime', 'Drama', 'When', 'the', 'menace', 'known', 'as', 'the', 'Joker', 'wreaks', 'havoc', 'and', 'chaos', 'on', 'the', 'people', 'of', 'Gotham,', 'Batman', 'must', 'accept', 'one', 'of', 'the', 'greatest', 'psychological', 'and', 'physical', 'tests', 'of', 'his', 'ability', 'to', 'fight', 'injustice.', 'Christopher', 'Nolan', 'Jonathan', 'Nolan', 'Christopher', 'Nolan', 'Christian', 'Bale', 'Heath', 'Ledger', 'Aaron', 'Eckhart'], ['USA', 'English', 'Orion-Nova', 'Productions', 'Approved', 'Crime', 'Drama', 'A', 'jury', 'holdout', 'attempts', 'to', 'prevent', 'a', 'miscarriage', 'of', 'justice', 'by', 'forcing', 'his', 'colleagues', 'to', 'reconsider', 'the', 'evidence.', 'Sidney', 'Lumet', 'Reginald', 'Rose', 'Reginald', 'Rose', 'Henry', 'Fonda', 'Lee', 'J.', 'Cobb', 'Martin', 'Balsam'], ['USA', 'Latin', 'English', 'Hebrew', 'German', 'Polish', 'Universal', 'Pictures', 'Amblin', 'Entertainment', 'R', 'Biography', 'Drama', 'History', 'In', 'German-occupied', 'Poland', 'during', 'World', 'War', 'II,', 'industrialist', 'Oskar', 'Schindler', 'gradually', 'becomes', 'concerned', 'for', 'his', 'Jewish', 'workforce', 'after', 'witnessing', 'their', 'persecution', 'by', 'the', 'Nazis.', 'Steven', 'Spielberg', 'Thomas', 'Keneally', 'Steven', 'Zaillian', 'Liam', 'Neeson', 'Ralph', 'Fiennes', 'Ben', 'Kingsley'], ['New', 'Zealand', 'USA', 'English', 'Quenya', 'Old', 'English', 'Sindarin', 'New', 'Line', 'Cinema', 'WingNut', 'Films', 'The', 'Saul', 'Zaentz', 'Company', 'PG-13', 'Adventure', 'Drama', 'Fantasy', 'Gandalf', 'and', 'Aragorn', 'lead', 'the', 'World', 'of', 'Men', 'against', \"Sauron's\", 'army', 'to', 'draw', 'his', 'gaze', 'from', 'Frodo', 'and', 'Sam', 'as', 'they', 'approach', 'Mount', 'Doom', 'with', 'the', 'One', 'Ring.', 'Peter', 'Jackson', 'J.R.R.', 'Tolkien', 'Fran', 'Walsh', 'Elijah', 'Wood', 'Viggo', 'Mortensen', 'Ian', 'McKellen'], ['USA', 'English', 'Spanish', 'French', 'Miramax', 'A', 'Band', 'Apart', 'Jersey', 'Films', 'R', 'Crime', 'Drama', 'The', 'lives', 'of', 'two', 'mob', 'hitmen,', 'a', 'boxer,', 'a', 'gangster', 'and', 'his', 'wife,', 'and', 'a', 'pair', 'of', 'diner', 'bandits', 'intertwine', 'in', 'four', 'tales', 'of', 'violence', 'and', 'redemption.', 'Quentin', 'Tarantino', 'Quentin', 'Tarantino', 'Roger', 'Avary', 'John', 'Travolta', 'Uma', 'Thurman', 'Samuel', 'L.', 'Jackson'], ['Italy', 'Spain', 'West', 'Germany', 'Italian', 'Produzioni', 'Europee', 'Associate', '(PEA)', 'Arturo', 'González', 'Producciones', 'Cinematográficas', 'Constantin', 'Film', 'R', 'Western', 'A', 'bounty', 'hunting', 'scam', 'joins', 'two', 'men', 'in', 'an', 'uneasy', 'alliance', 'against', 'a', 'third', 'in', 'a', 'race', 'to', 'find', 'a', 'fortune', 'in', 'gold', 'buried', 'in', 'a', 'remote', 'cemetery.', 'Sergio', 'Leone', 'Luciano', 'Vincenzoni', 'Sergio', 'Leone', 'Clint', 'Eastwood', 'Eli', 'Wallach', 'Lee', 'Van', 'Cleef'], ['New', 'Zealand', 'USA', 'English', 'Sindarin', 'New', 'Line', 'Cinema', 'WingNut', 'Films', 'The', 'Saul', 'Zaentz', 'Company', 'PG-13', 'Action', 'Adventure', 'Drama', 'A', 'meek', 'Hobbit', 'from', 'the', 'Shire', 'and', 'eight', 'companions', 'set', 'out', 'on', 'a', 'journey', 'to', 'destroy', 'the', 'powerful', 'One', 'Ring', 'and', 'save', 'Middle-earth', 'from', 'the', 'Dark', 'Lord', 'Sauron.', 'Peter', 'Jackson', 'J.R.R.', 'Tolkien', 'Fran', 'Walsh', 'Elijah', 'Wood', 'Ian', 'McKellen', 'Orlando', 'Bloom'], ['USA', 'Germany', 'English', 'Fox', '2000', 'Pictures', 'Regency', 'Enterprises', 'Linson', 'Films', 'R', 'Drama', 'An', 'insomniac', 'office', 'worker', 'and', 'a', 'devil-may-care', 'soapmaker', 'form', 'an', 'underground', 'fight', 'club', 'that', 'evolves', 'into', 'something', 'much,', 'much', 'more.', 'David', 'Fincher', 'Chuck', 'Palahniuk', 'Jim', 'Uhls', 'Brad', 'Pitt', 'Edward', 'Norton', 'Meat', 'Loaf'], ['USA', 'English', 'Paramount', 'Pictures', 'PG-13', 'Drama', 'Romance', 'The', 'presidencies', 'of', 'Kennedy', 'and', 'Johnson,', 'the', 'events', 'of', 'Vietnam,', 'Watergate', 'and', 'other', 'historical', 'events', 'unfold', 'through', 'the', 'perspective', 'of', 'an', 'Alabama', 'man', 'with', 'an', 'IQ', 'of', '75,', 'whose', 'only', 'desire', 'is', 'to', 'be', 'reunited', 'with', 'his', 'childhood', 'sweetheart.', 'Robert', 'Zemeckis', 'Winston', 'Groom', 'Eric', 'Roth', 'Tom', 'Hanks', 'Robin', 'Wright', 'Gary', 'Sinise'], ['USA', 'UK', 'English', 'Japanese', 'French', 'Warner', 'Bros.', 'Legendary', 'Entertainment', 'Syncopy', 'PG-13', 'Action', 'Adventure', 'Sci-Fi', 'A', 'thief', 'who', 'steals', 'corporate', 'secrets', 'through', 'the', 'use', 'of', 'dream-sharing', 'technology', 'is', 'given', 'the', 'inverse', 'task', 'of', 'planting', 'an', 'idea', 'into', 'the', 'mind', 'of', 'a', 'C.E.O.', 'Christopher', 'Nolan', 'Christopher', 'Nolan', 'Leonardo', 'DiCaprio', 'Joseph', 'Gordon-Levitt', 'Ellen', 'Page'], ['USA', 'English', 'Lucasfilm', 'PG', 'Action', 'Adventure', 'Fantasy', 'After', 'the', 'Rebels', 'are', 'brutally', 'overpowered', 'by', 'the', 'Empire', 'on', 'the', 'ice', 'planet', 'Hoth,', 'Luke', 'Skywalker', 'begins', 'Jedi', 'training', 'with', 'Yoda,', 'while', 'his', 'friends', 'are', 'pursued', 'by', 'Darth', 'Vader', 'and', 'a', 'bounty', 'hunter', 'named', 'Boba', 'Fett', 'all', 'over', 'the', 'galaxy.', 'Irvin', 'Kershner', 'Leigh', 'Brackett', 'Lawrence', 'Kasdan', 'Mark', 'Hamill', 'Harrison', 'Ford', 'Carrie', 'Fisher'], ['New', 'Zealand', 'USA', 'English', 'Sindarin', 'Old', 'English', 'New', 'Line', 'Cinema', 'WingNut', 'Films', 'The', 'Saul', 'Zaentz', 'Company', 'PG-13', 'Adventure', 'Drama', 'Fantasy', 'While', 'Frodo', 'and', 'Sam', 'edge', 'closer', 'to', 'Mordor', 'with', 'the', 'help', 'of', 'the', 'shifty', 'Gollum,', 'the', 'divided', 'fellowship', 'makes', 'a', 'stand', 'against', \"Sauron's\", 'new', 'ally,', 'Saruman,', 'and', 'his', 'hordes', 'of', 'Isengard.', 'Peter', 'Jackson', 'J.R.R.', 'Tolkien', 'Fran', 'Walsh', 'Elijah', 'Wood', 'Ian', 'McKellen', 'Viggo', 'Mortensen'], ['USA', 'English', 'Warner', 'Bros.', 'Village', 'Roadshow', 'Pictures', 'Groucho', 'Film', 'Partnership', 'R', 'Action', 'Sci-Fi', 'A', 'computer', 'hacker', 'learns', 'from', 'mysterious', 'rebels', 'about', 'the', 'true', 'nature', 'of', 'his', 'reality', 'and', 'his', 'role', 'in', 'the', 'war', 'against', 'its', 'controllers.', 'Lana', 'Wachowski', 'Lilly', 'Wachowski', 'Lilly', 'Wachowski', 'Lana', 'Wachowski', 'Keanu', 'Reeves', 'Laurence', 'Fishburne', 'Carrie-Anne', 'Moss'], ['USA', 'English', 'Italian', 'Warner', 'Bros.', 'R', 'Biography', 'Crime', 'Drama', 'The', 'story', 'of', 'Henry', 'Hill', 'and', 'his', 'life', 'in', 'the', 'mob,', 'covering', 'his', 'relationship', 'with', 'his', 'wife', 'Karen', 'Hill', 'and', 'his', 'mob', 'partners', 'Jimmy', 'Conway', 'and', 'Tommy', 'DeVito', 'in', 'the', 'Italian-American', 'crime', 'syndicate.', 'Martin', 'Scorsese', 'Nicholas', 'Pileggi', 'Nicholas', 'Pileggi', 'Robert', 'De', 'Niro', 'Ray', 'Liotta', 'Joe', 'Pesci'], ['USA', 'English', 'Fantasy', 'Films', 'R', 'Drama', 'A', 'criminal', 'pleads', 'insanity', 'and', 'is', 'admitted', 'to', 'a', 'mental', 'institution,', 'where', 'he', 'rebels', 'against', 'the', 'oppressive', 'nurse', 'and', 'rallies', 'up', 'the', 'scared', 'patients.', 'Milos', 'Forman', 'Lawrence', 'Hauben', 'Bo', 'Goldman', 'Jack', 'Nicholson', 'Louise', 'Fletcher', 'Will', 'Sampson'], ['Japan', 'Japanese', 'Toho', 'Company', 'Not', 'Rated', 'Action', 'Adventure', 'Drama', 'A', 'poor', 'village', 'under', 'attack', 'by', 'bandits', 'recruits', 'seven', 'unemployed', 'samurai', 'to', 'help', 'them', 'defend', 'themselves.', 'Akira', 'Kurosawa', 'Akira', 'Kurosawa', 'Shinobu', 'Hashimoto', 'Toshirô', 'Mifune', 'Takashi', 'Shimura', 'Keiko', 'Tsushima'], ['USA', 'English', 'Cecchi', 'Gori', 'Pictures', 'Juno', 'Pix', 'New', 'Line', 'Cinema', 'R', 'Crime', 'Drama', 'Mystery', 'Two', 'detectives,', 'a', 'rookie', 'and', 'a', 'veteran,', 'hunt', 'a', 'serial', 'killer', 'who', 'uses', 'the', 'seven', 'deadly', 'sins', 'as', 'his', 'motives.', 'David', 'Fincher', 'Andrew', 'Kevin', 'Walker', 'Morgan', 'Freeman', 'Brad', 'Pitt', 'Kevin', 'Spacey'], ['Italy', 'Italian', 'German', 'English', 'Melampo', 'Cinematografica', 'Cecchi', 'Gori', 'Group', 'Tiger', 'Cinematografica', 'PG-13', 'Comedy', 'Drama', 'Romance', 'When', 'an', 'open-minded', 'Jewish', 'librarian', 'and', 'his', 'son', 'become', 'victims', 'of', 'the', 'Holocaust,', 'he', 'uses', 'a', 'perfect', 'mixture', 'of', 'will,', 'humor,', 'and', 'imagination', 'to', 'protect', 'his', 'son', 'from', 'the', 'dangers', 'around', 'their', 'camp.', 'Roberto', 'Benigni', 'Vincenzo', 'Cerami', 'Roberto', 'Benigni', 'Roberto', 'Benigni', 'Nicoletta', 'Braschi', 'Giorgio', 'Cantarini'], ['Brazil', 'France', 'Germany', 'Portuguese', 'O2', 'Filmes', 'VideoFilmes', 'Globo', 'Filmes', 'R', 'Crime', 'Drama', 'In', 'the', 'slums', 'of', 'Rio,', 'two', \"kids'\", 'paths', 'diverge', 'as', 'one', 'struggles', 'to', 'become', 'a', 'photographer', 'and', 'the', 'other', 'a', 'kingpin.', 'Fernando', 'Meirelles', 'Kátia', 'Lund', 'Paulo', 'Lins', 'Bráulio', 'Mantovani', 'Alexandre', 'Rodrigues', 'Leandro', 'Firmino', 'Matheus', 'Nachtergaele'], ['USA', 'English', 'Latin', 'Strong', 'Heart/Demme', 'Production', 'Orion', 'Pictures', 'R', 'Crime', 'Drama', 'Thriller', 'A', 'young', 'F.B.I.', 'cadet', 'must', 'receive', 'the', 'help', 'of', 'an', 'incarcerated', 'and', 'manipulative', 'cannibal', 'killer', 'to', 'help', 'catch', 'another', 'serial', 'killer,', 'a', 'madman', 'who', 'skins', 'his', 'victims.', 'Jonathan', 'Demme', 'Thomas', 'Harris', 'Ted', 'Tally', 'Jodie', 'Foster', 'Anthony', 'Hopkins', 'Lawrence', 'A.', 'Bonney'], ['USA', 'English', 'French', 'Liberty', 'Films', '(II)', 'Passed', 'Drama', 'Family', 'Fantasy', 'An', 'angel', 'is', 'sent', 'from', 'Heaven', 'to', 'help', 'a', 'desperately', 'frustrated', 'businessman', 'by', 'showing', 'him', 'what', 'life', 'would', 'have', 'been', 'like', 'if', 'he', 'had', 'never', 'existed.', 'Frank', 'Capra', 'Frances', 'Goodrich', 'Albert', 'Hackett', 'James', 'Stewart', 'Donna', 'Reed', 'Lionel', 'Barrymore'], ['USA', 'English', 'Lucasfilm', 'Twentieth', 'Century', 'Fox', 'PG', 'Action', 'Adventure', 'Fantasy', 'Luke', 'Skywalker', 'joins', 'forces', 'with', 'a', 'Jedi', 'Knight,', 'a', 'cocky', 'pilot,', 'a', 'Wookiee', 'and', 'two', 'droids', 'to', 'save', 'the', 'galaxy', 'from', 'the', \"Empire's\", 'world-destroying', 'battle', 'station,', 'while', 'also', 'attempting', 'to', 'rescue', 'Princess', 'Leia', 'from', 'the', 'mysterious', 'Darth', 'Vader.', 'George', 'Lucas', 'George', 'Lucas', 'Mark', 'Hamill', 'Harrison', 'Ford', 'Carrie', 'Fisher'], ['USA', 'English', 'French', 'German', 'Czech', 'DreamWorks', 'Paramount', 'Pictures', 'Amblin', 'Entertainment', 'R', 'Drama', 'War', 'Following', 'the', 'Normandy', 'Landings,', 'a', 'group', 'of', 'U.S.', 'soldiers', 'go', 'behind', 'enemy', 'lines', 'to', 'retrieve', 'a', 'paratrooper', 'whose', 'brothers', 'have', 'been', 'killed', 'in', 'action.', 'Steven', 'Spielberg', 'Robert', 'Rodat', 'Tom', 'Hanks', 'Matt', 'Damon', 'Tom', 'Sizemore'], ['South', 'Korea', 'Korean', 'English', 'Barunson', 'E&A', 'CJ', 'E&M', 'Film', 'Financing', '&', 'Investment', 'Entertainment', '&', 'Comics', 'CJ', 'Entertainment', 'R', 'Comedy', 'Drama', 'Thriller', 'Greed', 'and', 'class', 'discrimination', 'threaten', 'the', 'newly', 'formed', 'symbiotic', 'relationship', 'between', 'the', 'wealthy', 'Park', 'family', 'and', 'the', 'destitute', 'Kim', 'clan.', 'Bong', 'Joon', 'Ho', 'Bong', 'Joon', 'Ho', 'Bong', 'Joon', 'Ho', 'Kang-ho', 'Song', 'Sun-kyun', 'Lee', 'Yeo-jeong', 'Jo'], ['Japan', 'Japanese', 'Tokuma', 'Shoten', 'Studio', 'Ghibli', 'Nippon', 'Television', 'Network', '(NTV)', 'PG', 'Animation', 'Adventure', 'Family', 'During', 'her', \"family's\", 'move', 'to', 'the', 'suburbs,', 'a', 'sullen', '10-year-old', 'girl', 'wanders', 'into', 'a', 'world', 'ruled', 'by', 'gods,', 'witches,', 'and', 'spirits,', 'and', 'where', 'humans', 'are', 'changed', 'into', 'beasts.', 'Hayao', 'Miyazaki', 'Hayao', 'Miyazaki', 'Daveigh', 'Chase', 'Suzanne', 'Pleshette', 'Miyu', 'Irino'], ['USA', 'English', 'French', 'Castle', 'Rock', 'Entertainment', 'Darkwoods', 'Productions', 'Warner', 'Bros.', 'R', 'Crime', 'Drama', 'Fantasy', 'The', 'lives', 'of', 'guards', 'on', 'Death', 'Row', 'are', 'affected', 'by', 'one', 'of', 'their', 'charges:', 'a', 'black', 'man', 'accused', 'of', 'child', 'murder', 'and', 'rape,', 'yet', 'who', 'has', 'a', 'mysterious', 'gift.', 'Frank', 'Darabont', 'Stephen', 'King', 'Frank', 'Darabont', 'Tom', 'Hanks', 'Michael', 'Clarke', 'Duncan', 'David', 'Morse'], ['USA', 'UK', 'Canada', 'English', 'Paramount', 'Pictures', 'Warner', 'Bros.', 'Legendary', 'Entertainment', 'PG-13', 'Adventure', 'Drama', 'Sci-Fi', 'A', 'team', 'of', 'explorers', 'travel', 'through', 'a', 'wormhole', 'in', 'space', 'in', 'an', 'attempt', 'to', 'ensure', \"humanity's\", 'survival.', 'Christopher', 'Nolan', 'Jonathan', 'Nolan', 'Christopher', 'Nolan', 'Matthew', 'McConaughey', 'Anne', 'Hathaway', 'Jessica', 'Chastain'], ['France', 'USA', 'English', 'Italian', 'French', 'Gaumont', 'Les', 'Films', 'du', 'Dauphin', 'Columbia', 'Pictures', 'R', 'Action', 'Crime', 'Drama', 'Mathilda,', 'a', '12-year-old', 'girl,', 'is', 'reluctantly', 'taken', 'in', 'by', 'Léon,', 'a', 'professional', 'assassin,', 'after', 'her', 'family', 'is', 'murdered.', 'An', 'unusual', 'relationship', 'forms', 'as', 'she', 'becomes', 'his', 'protégée', 'and', 'learns', 'the', \"assassin's\", 'trade.', 'Luc', 'Besson', 'Luc', 'Besson', 'Jean', 'Reno', 'Gary', 'Oldman', 'Natalie', 'Portman'], ['USA', 'Germany', 'English', 'Hungarian', 'Spanish', 'French', 'PolyGram', 'Filmed', 'Entertainment', 'Spelling', 'Films', 'International', 'Blue', 'Parrot', 'R', 'Crime', 'Mystery', 'Thriller', 'A', 'sole', 'survivor', 'tells', 'of', 'the', 'twisty', 'events', 'leading', 'up', 'to', 'a', 'horrific', 'gun', 'battle', 'on', 'a', 'boat,', 'which', 'began', 'when', 'five', 'criminals', 'met', 'at', 'a', 'seemingly', 'random', 'police', 'lineup.', 'Bryan', 'Singer', 'Christopher', 'McQuarrie', 'Kevin', 'Spacey', 'Gabriel', 'Byrne', 'Chazz', 'Palminteri'], ['Japan', 'Japanese', 'Shochiku', 'Not', 'Rated', 'Action', 'Drama', 'History', 'When', 'a', 'ronin', 'requesting', 'seppuku', 'at', 'a', 'feudal', \"lord's\", 'palace', 'is', 'told', 'of', 'the', 'brutal', 'suicide', 'of', 'another', 'ronin', 'who', 'previously', 'visited,', 'he', 'reveals', 'how', 'their', 'pasts', 'are', 'intertwined', '-', 'and', 'in', 'doing', 'so', 'challenges', 'the', \"clan's\", 'integrity.', 'Masaki', 'Kobayashi', 'Yasuhiko', 'Takiguchi', 'Shinobu', 'Hashimoto', 'Tatsuya', 'Nakadai', 'Akira', 'Ishihama', 'Shima', 'Iwashita'], ['USA', 'English', 'Swahili', 'Xhosa', 'Zulu', 'Walt', 'Disney', 'Pictures', 'Walt', 'Disney', 'Animation', 'Studios', 'G', 'Animation', 'Adventure', 'Drama', 'A', 'Lion', 'cub', 'crown', 'prince', 'is', 'tricked', 'by', 'a', 'treacherous', 'uncle', 'into', 'thinking', 'he', 'caused', 'his', \"father's\", 'death', 'and', 'flees', 'into', 'exile', 'in', 'despair,', 'only', 'to', 'learn', 'in', 'adulthood', 'his', 'identity', 'and', 'his', 'responsibilities.', 'Roger', 'Allers', 'Rob', 'Minkoff', 'Irene', 'Mecchi', 'Jonathan', 'Roberts', 'Matthew', 'Broderick', 'Jeremy', 'Irons', 'James', 'Earl', 'Jones'], ['USA', 'English', 'New', 'Line', 'Cinema', 'Savoy', 'Pictures', 'The', 'Turman-Morrissey', 'Company', 'R', 'Drama', 'A', 'former', 'neo-nazi', 'skinhead', 'tries', 'to', 'prevent', 'his', 'younger', 'brother', 'from', 'going', 'down', 'the', 'same', 'wrong', 'path', 'that', 'he', 'did.', 'Tony', 'Kaye', 'David', 'McKenna', 'Edward', 'Norton', 'Edward', 'Furlong', 'Beverly', \"D'Angelo\"], ['UK', 'France', 'Poland', 'Germany', 'English', 'German', 'Russian', 'R.P.', 'Productions', 'Heritage', 'Films', 'Studio', 'Babelsberg', 'R', 'Biography', 'Drama', 'Music', 'A', 'Polish', 'Jewish', 'musician', 'struggles', 'to', 'survive', 'the', 'destruction', 'of', 'the', 'Warsaw', 'ghetto', 'of', 'World', 'War', 'II.', 'Roman', 'Polanski', 'Ronald', 'Harwood', 'Wladyslaw', 'Szpilman', 'Adrien', 'Brody', 'Thomas', 'Kretschmann', 'Frank', 'Finlay'], ['USA', 'English', 'Spanish', 'Carolco', 'Pictures', 'Pacific', 'Western', 'Lightstorm', 'Entertainment', 'R', 'Action', 'Sci-Fi', 'A', 'cyborg,', 'identical', 'to', 'the', 'one', 'who', 'failed', 'to', 'kill', 'Sarah', 'Connor,', 'must', 'now', 'protect', 'her', 'teenage', 'son,', 'John', 'Connor,', 'from', 'a', 'more', 'advanced', 'and', 'powerful', 'cyborg.', 'James', 'Cameron', 'James', 'Cameron', 'William', 'Wisher', 'Arnold', 'Schwarzenegger', 'Linda', 'Hamilton', 'Edward', 'Furlong'], ['USA', 'English', 'Universal', 'Pictures', 'Amblin', 'Entertainment', 'U-Drive', 'Productions', 'PG', 'Adventure', 'Comedy', 'Sci-Fi', 'Marty', 'McFly,', 'a', '17-year-old', 'high', 'school', 'student,', 'is', 'accidentally', 'sent', 'thirty', 'years', 'into', 'the', 'past', 'in', 'a', 'time-traveling', 'DeLorean', 'invented', 'by', 'his', 'close', 'friend,', 'the', 'eccentric', 'scientist', 'Doc', 'Brown.', 'Robert', 'Zemeckis', 'Robert', 'Zemeckis', 'Bob', 'Gale', 'Michael', 'J.', 'Fox', 'Christopher', 'Lloyd', 'Lea', 'Thompson'], ['USA', 'English', 'Charles', 'Chaplin', 'Productions', 'G', 'Comedy', 'Drama', 'Family', 'The', 'Tramp', 'struggles', 'to', 'live', 'in', 'modern', 'industrial', 'society', 'with', 'the', 'help', 'of', 'a', 'young', 'homeless', 'woman.', 'Charles', 'Chaplin', 'Charles', 'Chaplin', 'Charles', 'Chaplin', 'Paulette', 'Goddard', 'Henry', 'Bergman'], ['USA', 'English', 'Shamley', 'Productions', 'R', 'Horror', 'Mystery', 'Thriller', 'A', 'Phoenix', 'secretary', 'embezzles', 'forty', 'thousand', 'dollars', 'from', 'her', \"employer's\", 'client,', 'goes', 'on', 'the', 'run,', 'and', 'checks', 'into', 'a', 'remote', 'motel', 'run', 'by', 'a', 'young', 'man', 'under', 'the', 'domination', 'of', 'his', 'mother.', 'Alfred', 'Hitchcock', 'Joseph', 'Stefano', 'Robert', 'Bloch', 'Anthony', 'Perkins', 'Janet', 'Leigh', 'Vera', 'Miles'], ['USA', 'UK', 'Malta', 'Morocco', 'English', 'DreamWorks', 'Universal', 'Pictures', 'Scott', 'Free', 'Productions', 'R', 'Action', 'Adventure', 'Drama', 'A', 'former', 'Roman', 'General', 'sets', 'out', 'to', 'exact', 'vengeance', 'against', 'the', 'corrupt', 'emperor', 'who', 'murdered', 'his', 'family', 'and', 'sent', 'him', 'into', 'slavery.', 'Ridley', 'Scott', 'David', 'Franzoni', 'David', 'Franzoni', 'Russell', 'Crowe', 'Joaquin', 'Phoenix', 'Connie', 'Nielsen'], ['USA', 'English', 'Charles', 'Chaplin', 'Productions', 'G', 'Comedy', 'Drama', 'Romance', 'With', 'the', 'aid', 'of', 'a', 'wealthy', 'erratic', 'tippler,', 'a', 'dewy-eyed', 'tramp', 'who', 'has', 'fallen', 'in', 'love', 'with', 'a', 'sightless', 'flower', 'girl', 'accumulates', 'money', 'to', 'be', 'able', 'to', 'help', 'her', 'medically.', 'Charles', 'Chaplin', 'Charles', 'Chaplin', 'Charles', 'Chaplin', 'Virginia', 'Cherrill', 'Florence', 'Lee'], ['USA', 'English', 'Cantonese', 'Warner', 'Bros.', 'Plan', 'B', 'Entertainment', 'Initial', 'Entertainment', 'Group', '(IEG)', 'R', 'Crime', 'Drama', 'Thriller', 'An', 'undercover', 'cop', 'and', 'a', 'mole', 'in', 'the', 'police', 'attempt', 'to', 'identify', 'each', 'other', 'while', 'infiltrating', 'an', 'Irish', 'gang', 'in', 'South', 'Boston.', 'Martin', 'Scorsese', 'William', 'Monahan', 'Alan', 'Mak', 'Leonardo', 'DiCaprio', 'Matt', 'Damon', 'Jack', 'Nicholson'], ['France', 'French', 'English', 'Quad', 'Productions', 'Ten', 'Films', 'Canal+', 'R', 'Biography', 'Comedy', 'Drama', 'After', 'he', 'becomes', 'a', 'quadriplegic', 'from', 'a', 'paragliding', 'accident,', 'an', 'aristocrat', 'hires', 'a', 'young', 'man', 'from', 'the', 'projects', 'to', 'be', 'his', 'caregiver.', 'Olivier', 'Nakache', 'Éric', 'Toledano', 'Olivier', 'Nakache', 'Philippe', 'Pozzo', 'di', 'Borgo', 'François', 'Cluzet', 'Omar', 'Sy', 'Anne', 'Le', 'Ny'], ['USA', 'English', 'Bold', 'Films', 'Blumhouse', 'Productions', 'Right', 'of', 'Way', 'Films', 'R', 'Drama', 'Music', 'A', 'promising', 'young', 'drummer', 'enrolls', 'at', 'a', 'cut-throat', 'music', 'conservatory', 'where', 'his', 'dreams', 'of', 'greatness', 'are', 'mentored', 'by', 'an', 'instructor', 'who', 'will', 'stop', 'at', 'nothing', 'to', 'realize', 'a', \"student's\", 'potential.', 'Damien', 'Chazelle', 'Damien', 'Chazelle', 'Miles', 'Teller', 'J.K.', 'Simmons', 'Melissa', 'Benoist'], ['UK', 'USA', 'English', 'Touchstone', 'Pictures', 'Warner', 'Bros.', 'Newmarket', 'Productions', 'PG-13', 'Drama', 'Mystery', 'Sci-Fi', 'After', 'a', 'tragic', 'accident,', 'two', 'stage', 'magicians', 'engage', 'in', 'a', 'battle', 'to', 'create', 'the', 'ultimate', 'illusion', 'while', 'sacrificing', 'everything', 'they', 'have', 'to', 'outwit', 'each', 'other.', 'Christopher', 'Nolan', 'Jonathan', 'Nolan', 'Christopher', 'Nolan', 'Christian', 'Bale', 'Hugh', 'Jackman', 'Scarlett', 'Johansson'], ['Italy', 'USA', 'Italian', 'English', 'Spanish', 'Rafran', 'Cinematografica', 'San', 'Marco', 'Paramount', 'Pictures', 'PG-13', 'Western', 'A', 'mysterious', 'stranger', 'with', 'a', 'harmonica', 'joins', 'forces', 'with', 'a', 'notorious', 'desperado', 'to', 'protect', 'a', 'beautiful', 'widow', 'from', 'a', 'ruthless', 'assassin', 'working', 'for', 'the', 'railroad.', 'Sergio', 'Leone', 'Sergio', 'Donati', 'Sergio', 'Leone', 'Henry', 'Fonda', 'Charles', 'Bronson', 'Claudia', 'Cardinale'], ['Japan', 'Japanese', 'Shinchosha', 'Company', 'Studio', 'Ghibli', 'Not', 'Rated', 'Animation', 'Drama', 'War', 'A', 'young', 'boy', 'and', 'his', 'little', 'sister', 'struggle', 'to', 'survive', 'in', 'Japan', 'during', 'World', 'War', 'II.', 'Isao', 'Takahata', 'Akiyuki', 'Nosaka', 'Isao', 'Takahata', 'Tsutomu', 'Tatsumi', 'Ayano', 'Shiraishi', 'Akemi', 'Yamaguchi'], ['USA', 'English', 'French', 'German', 'Italian', 'Warner', 'Bros.', 'PG', 'Drama', 'Romance', 'War', 'A', 'cynical', 'American', 'expatriate', 'struggles', 'to', 'decide', 'whether', 'or', 'not', 'he', 'should', 'help', 'his', 'former', 'lover', 'and', 'her', 'fugitive', 'husband', 'escape', 'French', 'Morocco.', 'Michael', 'Curtiz', 'Julius', 'J.', 'Epstein', 'Philip', 'G.', 'Epstein', 'Humphrey', 'Bogart', 'Ingrid', 'Bergman', 'Paul', 'Henreid'], ['Italy', 'France', 'Italian', 'Cristaldifilm', 'Les', 'Films', 'Ariane', 'Rai', '3', 'R', 'Drama', 'A', 'filmmaker', 'recalls', 'his', 'childhood', 'when', 'falling', 'in', 'love', 'with', 'the', 'pictures', 'at', 'the', 'cinema', 'of', 'his', 'home', 'village', 'and', 'forms', 'a', 'deep', 'friendship', 'with', 'the', \"cinema's\", 'projectionist.', 'Giuseppe', 'Tornatore', 'Giuseppe', 'Tornatore', 'Giuseppe', 'Tornatore', 'Philippe', 'Noiret', 'Enzo', 'Cannavale', 'Antonella', 'Attili'], ['USA', 'English', 'Alfred', 'J.', 'Hitchcock', 'Productions', 'PG', 'Mystery', 'Thriller', 'A', 'wheelchair-bound', 'photographer', 'spies', 'on', 'his', 'neighbors', 'from', 'his', 'apartment', 'window', 'and', 'becomes', 'convinced', 'one', 'of', 'them', 'has', 'committed', 'murder.', 'Alfred', 'Hitchcock', 'John', 'Michael', 'Hayes', 'Cornell', 'Woolrich', 'James', 'Stewart', 'Grace', 'Kelly', 'Wendell', 'Corey'], ['USA', 'Canada', 'English', 'Warner', 'Bros.', 'Village', 'Roadshow', 'Pictures', 'BRON', 'Studios', 'R', 'Crime', 'Drama', 'Thriller', 'In', 'Gotham', 'City,', 'mentally', 'troubled', 'comedian', 'Arthur', 'Fleck', 'is', 'disregarded', 'and', 'mistreated', 'by', 'society.', 'He', 'then', 'embarks', 'on', 'a', 'downward', 'spiral', 'of', 'revolution', 'and', 'bloody', 'crime.', 'This', 'path', 'brings', 'him', 'face-to-face', 'with', 'his', 'alter-ego:', 'the', 'Joker.', 'Todd', 'Phillips', 'Todd', 'Phillips', 'Scott', 'Silver', 'Joaquin', 'Phoenix', 'Robert', 'De', 'Niro', 'Zazie', 'Beetz'], ['UK', 'USA', 'English', 'Brandywine', 'Productions', 'Twentieth', 'Century-Fox', 'Productions', 'R', 'Horror', 'Sci-Fi', 'After', 'a', 'space', 'merchant', 'vessel', 'receives', 'an', 'unknown', 'transmission', 'as', 'a', 'distress', 'call,', 'one', 'of', 'the', 'crew', 'is', 'attacked', 'by', 'a', 'mysterious', 'life', 'form', 'and', 'they', 'soon', 'realize', 'that', 'its', 'life', 'cycle', 'has', 'merely', 'begun.', 'Ridley', 'Scott', 'Dan', \"O'Bannon\", 'Dan', \"O'Bannon\", 'Sigourney', 'Weaver', 'Tom', 'Skerritt', 'John', 'Hurt'], ['USA', 'English', 'French', 'Vietnamese', 'American', 'Zoetrope', 'Zoetrope', 'Studios', 'R', 'Drama', 'Mystery', 'War', 'A', 'U.S.', 'Army', 'officer', 'serving', 'in', 'Vietnam', 'is', 'tasked', 'with', 'assassinating', 'a', 'renegade', 'Special', 'Forces', 'Colonel', 'who', 'sees', 'himself', 'as', 'a', 'god.', 'Francis', 'Ford', 'Coppola', 'John', 'Milius', 'Francis', 'Ford', 'Coppola', 'Martin', 'Sheen', 'Marlon', 'Brando', 'Robert', 'Duvall'], ['USA', 'English', 'Newmarket', 'Capital', 'Group', 'Team', 'Todd', 'I', 'Remember', 'Productions', 'R', 'Mystery', 'Thriller', 'A', 'man', 'with', 'short-term', 'memory', 'loss', 'attempts', 'to', 'track', 'down', 'his', \"wife's\", 'murderer.', 'Christopher', 'Nolan', 'Christopher', 'Nolan', 'Jonathan', 'Nolan', 'Guy', 'Pearce', 'Carrie-Anne', 'Moss', 'Joe', 'Pantoliano'], ['USA', 'English', 'German', 'Hebrew', 'Spanish', 'Arabic', 'Nepali', 'Paramount', 'Pictures', 'Lucasfilm', 'PG', 'Action', 'Adventure', 'In', '1936,', 'archaeologist', 'and', 'adventurer', 'Indiana', 'Jones', 'is', 'hired', 'by', 'the', 'U.S.', 'government', 'to', 'find', 'the', 'Ark', 'of', 'the', 'Covenant', 'before', 'Adolf', \"Hitler's\", 'Nazis', 'can', 'obtain', 'its', 'awesome', 'powers.', 'Steven', 'Spielberg', 'Lawrence', 'Kasdan', 'George', 'Lucas', 'Harrison', 'Ford', 'Karen', 'Allen', 'Paul', 'Freeman'], ['USA', 'English', 'Esperanto', 'Charles', 'Chaplin', 'Productions', 'One', 'Production', 'Company', 'Passed', 'Comedy', 'Drama', 'War', 'Dictator', 'Adenoid', 'Hynkel', 'tries', 'to', 'expand', 'his', 'empire', 'while', 'a', 'poor', 'Jewish', 'barber', 'tries', 'to', 'avoid', 'persecution', 'from', \"Hynkel's\", 'regime.', 'Charles', 'Chaplin', 'Charles', 'Chaplin', 'Charles', 'Chaplin', 'Paulette', 'Goddard', 'Jack', 'Oakie'], ['Germany', 'France', 'German', 'Wiedemann', '&', 'Berg', 'Filmproduktion', 'Bayerischer', 'Rundfunk', '(BR)', 'ARTE', 'R', 'Drama', 'Mystery', 'Thriller', 'In', '1984', 'East', 'Berlin,', 'an', 'agent', 'of', 'the', 'secret', 'police,', 'conducting', 'surveillance', 'on', 'a', 'writer', 'and', 'his', 'lover,', 'finds', 'himself', 'becoming', 'increasingly', 'absorbed', 'by', 'their', 'lives.', 'Florian', 'Henckel', 'von', 'Donnersmarck', 'Florian', 'Henckel', 'von', 'Donnersmarck', 'Ulrich', 'Mühe', 'Martina', 'Gedeck', 'Sebastian', 'Koch'], ['USA', 'English', 'German', 'French', 'Italian', 'The', 'Weinstein', 'Company', 'Columbia', 'Pictures', 'R', 'Drama', 'Western', 'With', 'the', 'help', 'of', 'a', 'German', 'bounty', 'hunter,', 'a', 'freed', 'slave', 'sets', 'out', 'to', 'rescue', 'his', 'wife', 'from', 'a', 'brutal', 'Mississippi', 'plantation', 'owner.', 'Quentin', 'Tarantino', 'Quentin', 'Tarantino', 'Jamie', 'Foxx', 'Christoph', 'Waltz', 'Leonardo', 'DiCaprio'], ['USA', 'English', 'German', 'Latin', 'Bryna', 'Productions', 'Approved', 'Drama', 'War', 'After', 'refusing', 'to', 'attack', 'an', 'enemy', 'position,', 'a', 'general', 'accuses', 'the', 'soldiers', 'of', 'cowardice', 'and', 'their', 'commanding', 'officer', 'must', 'defend', 'them.', 'Stanley', 'Kubrick', 'Stanley', 'Kubrick', 'Calder', 'Willingham', 'Kirk', 'Douglas', 'Ralph', 'Meeker', 'Adolphe', 'Menjou'], ['UK', 'USA', 'English', 'Warner', 'Bros.', 'Hawk', 'Films', 'Peregrine', 'R', 'Drama', 'Horror', 'A', 'family', 'heads', 'to', 'an', 'isolated', 'hotel', 'for', 'the', 'winter', 'where', 'a', 'sinister', 'presence', 'influences', 'the', 'father', 'into', 'violence,', 'while', 'his', 'psychic', 'son', 'sees', 'horrific', 'forebodings', 'from', 'both', 'past', 'and', 'future.', 'Stanley', 'Kubrick', 'Stephen', 'King', 'Stanley', 'Kubrick', 'Jack', 'Nicholson', 'Shelley', 'Duvall', 'Danny', 'Lloyd'], ['USA', 'English', 'Marvel', 'Studios', 'Jason', 'Roberts', 'Productions', 'South', 'Pictures', 'PG-13', 'Action', 'Adventure', 'Sci-Fi', 'The', 'Avengers', 'and', 'their', 'allies', 'must', 'be', 'willing', 'to', 'sacrifice', 'all', 'in', 'an', 'attempt', 'to', 'defeat', 'the', 'powerful', 'Thanos', 'before', 'his', 'blitz', 'of', 'devastation', 'and', 'ruin', 'puts', 'an', 'end', 'to', 'the', 'universe.', 'Anthony', 'Russo', 'Joe', 'Russo', 'Christopher', 'Markus', 'Stephen', 'McFeely', 'Robert', 'Downey', 'Jr.', 'Chris', 'Hemsworth', 'Mark', 'Ruffalo'], ['USA', 'English', 'FortyFour', 'Studios', 'Pixar', 'Animation', 'Studios', 'Walt', 'Disney', 'Pictures', 'G', 'Animation', 'Adventure', 'Family', 'In', 'the', 'distant', 'future,', 'a', 'small', 'waste-collecting', 'robot', 'inadvertently', 'embarks', 'on', 'a', 'space', 'journey', 'that', 'will', 'ultimately', 'decide', 'the', 'fate', 'of', 'mankind.', 'Andrew', 'Stanton', 'Andrew', 'Stanton', 'Pete', 'Docter', 'Ben', 'Burtt', 'Elissa', 'Knight', 'Jeff', 'Garlin'], ['USA', 'English', 'Paramount', 'Pictures', 'Passed', 'Drama', 'Film-Noir', 'A', 'screenwriter', 'develops', 'a', 'dangerous', 'relationship', 'with', 'a', 'faded', 'film', 'star', 'determined', 'to', 'make', 'a', 'triumphant', 'return.', 'Billy', 'Wilder', 'Charles', 'Brackett', 'Billy', 'Wilder', 'William', 'Holden', 'Gloria', 'Swanson', 'Erich', 'von', 'Stroheim'], ['USA', 'English', 'Spanish', 'Sony', 'Pictures', 'Entertainment', '(SPE)', 'Columbia', 'Pictures', 'Marvel', 'Entertainment', 'PG', 'Animation', 'Action', 'Adventure', 'Teen', 'Miles', 'Morales', 'becomes', 'Spider-Man', 'of', 'his', 'reality,', 'crossing', 'his', 'path', 'with', 'five', 'counterparts', 'from', 'other', 'dimensions', 'to', 'stop', 'a', 'threat', 'for', 'all', 'realities.', 'Bob', 'Persichetti', 'Peter', 'Ramsey', 'Phil', 'Lord', 'Rodney', 'Rothman', 'Shameik', 'Moore', 'Jake', 'Johnson', 'Hailee', 'Steinfeld'], ['Japan', 'Japanese', 'DENTSU', 'Music', 'And', 'Entertainment', 'Nibariki', 'Nippon', 'Television', 'Network', '(NTV)', 'PG-13', 'Animation', 'Adventure', 'Fantasy', 'On', 'a', 'journey', 'to', 'find', 'the', 'cure', 'for', 'a', \"Tatarigami's\", 'curse,', 'Ashitaka', 'finds', 'himself', 'in', 'the', 'middle', 'of', 'a', 'war', 'between', 'the', 'forest', 'gods', 'and', 'Tatara,', 'a', 'mining', 'colony.', 'In', 'this', 'quest', 'he', 'also', 'meets', 'San,', 'the', 'Mononoke', 'Hime.', 'Hayao', 'Miyazaki', 'English', 'version)', 'Yôji', 'Matsuda', 'Yuriko', 'Ishida', 'Yûko', 'Tanaka'], ['UK', 'USA', 'English', 'Russian', 'Columbia', 'Pictures', 'Hawk', 'Films', 'PG', 'Comedy', 'An', 'insane', 'general', 'triggers', 'a', 'path', 'to', 'nuclear', 'holocaust', 'that', 'a', 'War', 'Room', 'full', 'of', 'politicians', 'and', 'generals', 'frantically', 'tries', 'to', 'stop.', 'Stanley', 'Kubrick', 'Stanley', 'Kubrick', 'Terry', 'Southern', 'Peter', 'Sellers', 'George', 'C.', 'Scott', 'Sterling', 'Hayden'], ['South', 'Korea', 'Korean', 'CJ', 'Entertainment', 'Egg', 'Films', 'CJ', 'E&M', 'Film', 'Financing', '&', 'Investment', 'Entertainment', '&', 'Comics', 'R', 'Action', 'Drama', 'Mystery', 'After', 'being', 'kidnapped', 'and', 'imprisoned', 'for', 'fifteen', 'years,', 'Oh', 'Dae-Su', 'is', 'released,', 'only', 'to', 'find', 'that', 'he', 'must', 'find', 'his', 'captor', 'in', 'five', 'days.', 'Chan-wook', 'Park', 'Garon', 'Tsuchiya', 'Nobuaki', 'Minegishi', 'Min-sik', 'Choi', 'Ji-Tae', 'Yoo', 'Hye-jeong', 'Kang'], ['USA', 'English', 'German', 'Edward', 'Small', 'Productions', 'Approved', 'Crime', 'Drama', 'Mystery', 'A', 'veteran', 'British', 'barrister', 'must', 'defend', 'his', 'client', 'in', 'a', 'murder', 'trial', 'that', 'has', 'surprise', 'after', 'surprise.', 'Billy', 'Wilder', 'Agatha', 'Christie', 'Billy', 'Wilder', 'Tyrone', 'Power', 'Marlene', 'Dietrich', 'Charles', 'Laughton'], ['India', 'Hindi', 'Rupam', 'Chitra', 'Not', 'Rated', 'Drama', 'Musical', 'The', 'story', 'of', 'a', 'terminally', 'ill', 'man', 'who', 'wishes', 'to', 'live', 'life', 'to', 'the', 'full', 'before', 'the', 'inevitable', 'occurs,', 'as', 'told', 'by', 'his', 'best', 'friend.', 'Hrishikesh', 'Mukherjee', 'Hrishikesh', 'Mukherjee', 'Hrishikesh', 'Mukherjee', 'Rajesh', 'Khanna', 'Amitabh', 'Bachchan', 'Sumita', 'Sanyal'], ['USA', 'English', 'Japanese', 'Xhosa', 'German', 'Marvel', 'Studios', 'PG-13', 'Action', 'Adventure', 'Drama', 'After', 'the', 'devastating', 'events', 'of', 'Avengers:', 'Infinity', 'War', '(2018),', 'the', 'universe', 'is', 'in', 'ruins.', 'With', 'the', 'help', 'of', 'remaining', 'allies,', 'the', 'Avengers', 'assemble', 'once', 'more', 'in', 'order', 'to', 'reverse', \"Thanos'\", 'actions', 'and', 'restore', 'balance', 'to', 'the', 'universe.', 'Anthony', 'Russo', 'Joe', 'Russo', 'Christopher', 'Markus', 'Stephen', 'McFeely', 'Robert', 'Downey', 'Jr.', 'Chris', 'Evans', 'Mark', 'Ruffalo'], ['UK', 'USA', 'English', 'Arabic', 'Warner', 'Bros.', 'Legendary', 'Entertainment', 'DC', 'Entertainment', 'PG-13', 'Action', 'Adventure', 'Eight', 'years', 'after', 'the', \"Joker's\", 'reign', 'of', 'anarchy,', 'Batman,', 'with', 'the', 'help', 'of', 'the', 'enigmatic', 'Catwoman,', 'is', 'forced', 'from', 'his', 'exile', 'to', 'save', 'Gotham', 'City', 'from', 'the', 'brutal', 'guerrilla', 'terrorist', 'Bane.', 'Christopher', 'Nolan', 'Jonathan', 'Nolan', 'Christopher', 'Nolan', 'Christian', 'Bale', 'Tom', 'Hardy', 'Anne', 'Hathaway'], ['USA', 'Italy', 'English', 'Italian', 'French', 'The', 'Ladd', 'Company', 'Warner', 'Bros.', 'Producers', 'Sales', 'Organization', '(PSO)', 'R', 'Crime', 'Drama', 'A', 'former', 'Prohibition-era', 'Jewish', 'gangster', 'returns', 'to', 'the', 'Lower', 'East', 'Side', 'of', 'Manhattan', 'over', 'thirty', 'years', 'later,', 'where', 'he', 'once', 'again', 'must', 'confront', 'the', 'ghosts', 'and', 'regrets', 'of', 'his', 'old', 'life.', 'Sergio', 'Leone', 'Harry', 'Grey', 'Leonardo', 'Benvenuti', 'Robert', 'De', 'Niro', 'James', 'Woods', 'Elizabeth', 'McGovern'], ['USA', 'UK', 'English', 'Twentieth', 'Century', 'Fox', 'Brandywine', 'Productions', 'Pinewood', 'Studios', 'R', 'Action', 'Adventure', 'Sci-Fi', 'Ellen', 'Ripley', 'is', 'rescued', 'by', 'a', 'deep', 'salvage', 'team', 'after', 'being', 'in', 'hypersleep', 'for', '57', 'years.', 'The', 'moon', 'that', 'the', 'Nostromo', 'visited', 'has', 'been', 'colonized,', 'but', 'contact', 'is', 'lost.', 'This', 'time,', 'colonial', 'marines', 'have', 'impressive', 'firepower,', 'but', 'will', 'that', 'be', 'enough?', 'James', 'Cameron', 'James', 'Cameron', 'David', 'Giler', 'Sigourney', 'Weaver', 'Michael', 'Biehn', 'Carrie', 'Henn'], ['Japan', 'Japanese', 'Amuse', 'CoMix', 'Wave', 'Films', 'East', 'Japan', 'Marketing', '&', 'Communications', 'Inc.', 'PG', 'Animation', 'Drama', 'Fantasy', 'Two', 'strangers', 'find', 'themselves', 'linked', 'in', 'a', 'bizarre', 'way.', 'When', 'a', 'connection', 'forms,', 'will', 'distance', 'be', 'the', 'only', 'thing', 'to', 'keep', 'them', 'apart?', 'Makoto', 'Shinkai', 'Makoto', 'Shinkai', 'Makoto', 'Shinkai', 'Ryûnosuke', 'Kamiki', 'Mone', 'Kamishiraishi', 'Ryô', 'Narita'], ['USA', 'English', 'Spanish', 'Walt', 'Disney', 'Pictures', 'Pixar', 'Animation', 'Studios', 'PG', 'Animation', 'Adventure', 'Family', 'Aspiring', 'musician', 'Miguel,', 'confronted', 'with', 'his', \"family's\", 'ancestral', 'ban', 'on', 'music,', 'enters', 'the', 'Land', 'of', 'the', 'Dead', 'to', 'find', 'his', 'great-great-grandfather,', 'a', 'legendary', 'singer.', 'Lee', 'Unkrich', 'Adrian', 'Molina', 'Lee', 'Unkrich', 'Jason', 'Katz', 'Anthony', 'Gonzalez', 'Gael', 'García', 'Bernal', 'Benjamin', 'Bratt'], ['USA', 'English', 'DreamWorks', 'Jinks/Cohen', 'Company', 'R', 'Drama', 'A', 'sexually', 'frustrated', 'suburban', 'father', 'has', 'a', 'mid-life', 'crisis', 'after', 'becoming', 'infatuated', 'with', 'his', \"daughter's\", 'best', 'friend.', 'Sam', 'Mendes', 'Alan', 'Ball', 'Kevin', 'Spacey', 'Annette', 'Bening', 'Thora', 'Birch'], ['USA', 'English', 'French', 'Latin', 'Scottish', 'Gaelic', 'Italian', 'Icon', 'Entertainment', 'International', 'The', 'Ladd', 'Company', 'B.H.', 'Finance', 'C.V.', 'R', 'Biography', 'Drama', 'History', 'When', 'his', 'secret', 'bride', 'is', 'executed', 'for', 'assaulting', 'an', 'English', 'soldier', 'who', 'tried', 'to', 'rape', 'her,', 'William', 'Wallace', 'begins', 'a', 'revolt', 'against', 'King', 'Edward', 'I', 'of', 'England.', 'Mel', 'Gibson', 'Randall', 'Wallace', 'Mel', 'Gibson', 'Sophie', 'Marceau', 'Patrick', 'McGoohan'], ['West', 'Germany', 'German', 'Bavaria', 'Film', 'Twin', 'Bros.', 'Productions', 'Radiant', 'Film', 'GmbH', 'R', 'Adventure', 'Drama', 'Thriller', 'The', 'claustrophobic', 'world', 'of', 'a', 'WWII', 'German', 'U-boat;', 'boredom,', 'filth', 'and', 'sheer', 'terror.', 'Wolfgang', 'Petersen', 'Wolfgang', 'Petersen', 'Lothar', 'G.', 'Buchheim', 'Jürgen', 'Prochnow', 'Herbert', 'Grönemeyer', 'Klaus', 'Wennemann'], ['India', 'Hindi', 'English', 'Vinod', 'Chopra', 'Productions', 'PG-13', 'Comedy', 'Drama', 'Two', 'friends', 'are', 'searching', 'for', 'their', 'long', 'lost', 'companion.', 'They', 'revisit', 'their', 'college', 'days', 'and', 'recall', 'the', 'memories', 'of', 'their', 'friend', 'who', 'inspired', 'them', 'to', 'think', 'differently,', 'even', 'as', 'the', 'rest', 'of', 'the', 'world', 'called', 'them', '\"idiots\".', 'Rajkumar', 'Hirani', 'Rajkumar', 'Hirani', 'Abhijat', 'Joshi', 'Aamir', 'Khan', 'Madhavan', 'Mona', 'Singh'], ['USA', 'English', 'Pixar', 'Animation', 'Studios', 'Walt', 'Disney', 'Pictures', 'Walt', 'Disney', 'Animation', 'Studios', 'G', 'Animation', 'Adventure', 'Comedy', 'A', 'cowboy', 'doll', 'is', 'profoundly', 'threatened', 'and', 'jealous', 'when', 'a', 'new', 'spaceman', 'figure', 'supplants', 'him', 'as', 'top', 'toy', 'in', 'a', \"boy's\", 'room.', 'John', 'Lasseter', 'John', 'Lasseter', 'Pete', 'Docter', 'Tom', 'Hanks', 'Tim', 'Allen', 'Don', 'Rickles'], ['Japan', 'Japanese', 'Kurosawa', 'Production', 'Co.', 'Toho', 'Company', 'Not', 'Rated', 'Crime', 'Drama', 'Mystery', 'An', 'executive', 'of', 'a', 'shoe', 'company', 'becomes', 'a', 'victim', 'of', 'extortion', 'when', 'his', \"chauffeur's\", 'son', 'is', 'kidnapped', 'and', 'held', 'for', 'ransom.', 'Akira', 'Kurosawa', 'Hideo', 'Oguni', 'Ryûzô', 'Kikushima', 'Toshirô', 'Mifune', 'Yutaka', 'Sada', 'Tatsuya', 'Nakadai'], ['India', 'Hindi', 'English', 'Aamir', 'Khan', 'Productions', 'PVR', 'Pictures', 'PG', 'Drama', 'Family', 'An', 'eight-year-old', 'boy', 'is', 'thought', 'to', 'be', 'a', 'lazy', 'trouble-maker,', 'until', 'the', 'new', 'art', 'teacher', 'has', 'the', 'patience', 'and', 'compassion', 'to', 'discover', 'the', 'real', 'problem', 'behind', 'his', 'struggles', 'in', 'school.', 'Aamir', 'Khan', 'Amole', 'Gupte', 'Amole', 'Gupte', 'Amole', 'Gupte', 'Darsheel', 'Safary', 'Aamir', 'Khan', 'Tisca', 'Chopra'], ['USA', 'UK', 'India', 'Spain', 'Canada', 'English', 'French', 'German', 'DreamWorks', 'Reliance', 'Entertainment', 'New', 'Republic', 'Pictures', 'R', 'Drama', 'War', 'April', '6th,', '1917.', 'As', 'a', 'regiment', 'assembles', 'to', 'wage', 'war', 'deep', 'in', 'enemy', 'territory,', 'two', 'soldiers', 'are', 'assigned', 'to', 'race', 'against', 'time', 'and', 'deliver', 'a', 'message', 'that', 'will', 'stop', '1,600', 'men', 'from', 'walking', 'straight', 'into', 'a', 'deadly', 'trap.', 'Sam', 'Mendes', 'Sam', 'Mendes', 'Krysty', 'Wilson-Cairns', 'Dean-Charles', 'Chapman', 'George', 'MacKay', 'Daniel', 'Mays'], ['USA', 'English', 'Lucasfilm', 'PG', 'Action', 'Adventure', 'Fantasy', 'After', 'a', 'daring', 'mission', 'to', 'rescue', 'Han', 'Solo', 'from', 'Jabba', 'the', 'Hutt,', 'the', 'Rebels', 'dispatch', 'to', 'Endor', 'to', 'destroy', 'the', 'second', 'Death', 'Star.', 'Meanwhile,', 'Luke', 'struggles', 'to', 'help', 'Darth', 'Vader', 'back', 'from', 'the', 'dark', 'side', 'without', 'falling', 'into', 'the', \"Emperor's\", 'trap.', 'Richard', 'Marquand', 'Lawrence', 'Kasdan', 'George', 'Lucas', 'Mark', 'Hamill', 'Harrison', 'Ford', 'Carrie', 'Fisher'], ['USA', 'France', 'Czechoslovakia', 'Italy', 'English', 'Italian', 'Latin', 'German', 'AMLF', 'The', 'Saul', 'Zaentz', 'Company', 'R', 'Biography', 'Drama', 'History', 'The', 'life,', 'success', 'and', 'troubles', 'of', 'Wolfgang', 'Amadeus', 'Mozart,', 'as', 'told', 'by', 'Antonio', 'Salieri,', 'the', 'contemporaneous', 'composer', 'who', 'was', 'insanely', 'jealous', 'of', \"Mozart's\", 'talent', 'and', 'claimed', 'to', 'have', 'murdered', 'him.', 'Milos', 'Forman', 'Peter', 'Shaffer', 'Peter', 'Shaffer', 'F.', 'Murray', 'Abraham', 'Tom', 'Hulce', 'Elizabeth', 'Berridge'], ['USA', 'English', 'Live', 'Entertainment', 'Dog', 'Eat', 'Dog', 'Productions', 'Inc.', 'R', 'Crime', 'Drama', 'Thriller', 'When', 'a', 'simple', 'jewelry', 'heist', 'goes', 'horribly', 'wrong,', 'the', 'surviving', 'criminals', 'begin', 'to', 'suspect', 'that', 'one', 'of', 'them', 'is', 'a', 'police', 'informant.', 'Quentin', 'Tarantino', 'Quentin', 'Tarantino', 'Quentin', 'Tarantino', 'Harvey', 'Keitel', 'Tim', 'Roth', 'Michael', 'Madsen'], ['Germany', 'USA', 'English', 'German', 'French', 'Italian', 'Universal', 'Pictures', 'The', 'Weinstein', 'Company', 'A', 'Band', 'Apart', 'R', 'Adventure', 'Drama', 'War', 'In', 'Nazi-occupied', 'France', 'during', 'World', 'War', 'II,', 'a', 'plan', 'to', 'assassinate', 'Nazi', 'leaders', 'by', 'a', 'group', 'of', 'Jewish', 'U.S.', 'soldiers', 'coincides', 'with', 'a', 'theatre', \"owner's\", 'vengeful', 'plans', 'for', 'the', 'same.', 'Quentin', 'Tarantino', 'Quentin', 'Tarantino', 'Brad', 'Pitt', 'Diane', 'Kruger', 'Eli', 'Roth'], ['USA', 'English', 'Be', 'Gentlemen', 'Limited', 'Partnership', 'Lawrence', 'Bender', 'Productions', 'Miramax', 'R', 'Drama', 'Romance', 'Will', 'Hunting,', 'a', 'janitor', 'at', 'M.I.T.,', 'has', 'a', 'gift', 'for', 'mathematics,', 'but', 'needs', 'help', 'from', 'a', 'psychologist', 'to', 'find', 'direction', 'in', 'his', 'life.', 'Gus', 'Van', 'Sant', 'Matt', 'Damon', 'Ben', 'Affleck', 'Robin', 'Williams', 'Matt', 'Damon', 'Ben', 'Affleck'], ['UK', 'USA', 'English', 'Russian', 'Metro-Goldwyn-Mayer', '(MGM)', 'Stanley', 'Kubrick', 'Productions', 'G', 'Adventure', 'Sci-Fi', 'After', 'discovering', 'a', 'mysterious', 'artifact', 'buried', 'beneath', 'the', 'Lunar', 'surface,', 'mankind', 'sets', 'off', 'on', 'a', 'quest', 'to', 'find', 'its', 'origins', 'with', 'help', 'from', 'intelligent', 'supercomputer', 'H.A.L.', '9000.', 'Stanley', 'Kubrick', 'Stanley', 'Kubrick', 'Arthur', 'C.', 'Clarke', 'Keir', 'Dullea', 'Gary', 'Lockwood', 'William', 'Sylvester'], ['USA', 'English', 'Alfred', 'J.', 'Hitchcock', 'Productions', 'PG', 'Mystery', 'Romance', 'Thriller', 'A', 'former', 'police', 'detective', 'juggles', 'wrestling', 'with', 'his', 'personal', 'demons', 'and', 'becoming', 'obsessed', 'with', 'a', 'hauntingly', 'beautiful', 'woman.', 'Alfred', 'Hitchcock', 'Alec', 'Coppel', 'Samuel', 'A.', 'Taylor', 'James', 'Stewart', 'Kim', 'Novak', 'Barbara', 'Bel', 'Geddes'], ['USA', 'English', 'Artisan', 'Entertainment', 'Thousand', 'Words', 'Sibling', 'Productions', 'R', 'Drama', 'The', 'drug-induced', 'utopias', 'of', 'four', 'Coney', 'Island', 'people', 'are', 'shattered', 'when', 'their', 'addictions', 'run', 'deep.', 'Darren', 'Aronofsky', 'Hubert', 'Selby', 'Jr.', 'Hubert', 'Selby', 'Jr.', 'Ellen', 'Burstyn', 'Jared', 'Leto', 'Jennifer', 'Connelly'], ['Germany', 'German', 'Nero-Film', 'AG', 'Not', 'Rated', 'Crime', 'Mystery', 'Thriller', 'When', 'the', 'police', 'in', 'a', 'German', 'city', 'are', 'unable', 'to', 'catch', 'a', 'child-murderer,', 'other', 'criminals', 'join', 'in', 'the', 'manhunt.', 'Fritz', 'Lang', 'Thea', 'von', 'Harbou', 'Fritz', 'Lang', 'Peter', 'Lorre', 'Ellen', 'Widmann', 'Inge', 'Landgut'], ['India', 'Hindi', 'Aamir', 'Khan', 'Productions', 'UTV', 'Motion', 'Pictures', 'Walt', 'Disney', 'Pictures', 'Not', 'Rated', 'Action', 'Biography', 'Drama', 'Former', 'wrestler', 'Mahavir', 'Singh', 'Phogat', 'and', 'his', 'two', 'wrestler', 'daughters', 'struggle', 'towards', 'glory', 'at', 'the', 'Commonwealth', 'Games', 'in', 'the', 'face', 'of', 'societal', 'oppression.', 'Nitesh', 'Tiwari', 'Piyush', 'Gupta', 'Shreyas', 'Jain', 'Aamir', 'Khan', 'Sakshi', 'Tanwar', 'Fatima', 'Sana', 'Shaikh'], ['USA', 'English', 'Focus', 'Features', 'Anonymous', 'Content', 'This', 'Is', 'That', 'Productions', 'R', 'Drama', 'Romance', 'Sci-Fi', 'When', 'their', 'relationship', 'turns', 'sour,', 'a', 'couple', 'undergoes', 'a', 'medical', 'procedure', 'to', 'have', 'each', 'other', 'erased', 'from', 'their', 'memories.', 'Michel', 'Gondry', 'Charlie', 'Kaufman', 'Michel', 'Gondry', 'Jim', 'Carrey', 'Kate', 'Winslet', 'Tom', 'Wilkinson'], ['USA', 'English', 'Italian', 'RKO', 'Radio', 'Pictures', 'Mercury', 'Productions', 'PG', 'Drama', 'Mystery', 'Following', 'the', 'death', 'of', 'publishing', 'tycoon', 'Charles', 'Foster', 'Kane,', 'reporters', 'scramble', 'to', 'uncover', 'the', 'meaning', 'of', 'his', 'final', 'utterance;', \"'Rosebud'.\", 'Orson', 'Welles', 'Herman', 'J.', 'Mankiewicz', 'Orson', 'Welles', 'Orson', 'Welles', 'Joseph', 'Cotten', 'Dorothy', 'Comingore'], ['Lebanon', 'USA', 'France', 'Cyprus', 'Qatar', 'UK', 'Arabic', 'Amharic', 'Mooz', 'Films', 'Cedrus', 'Invest', 'Bank', 'Sunnyland', 'Film', 'R', 'Drama', 'While', 'serving', 'a', 'five-year', 'sentence', 'for', 'a', 'violent', 'crime,', 'a', '12-year-old', 'boy', 'sues', 'his', 'parents', 'for', 'neglect.', 'Nadine', 'Labaki', 'Nadine', 'Labaki', 'Jihad', 'Hojeily', 'Zain', 'Al', 'Rafeea', 'Yordanos', 'Shiferaw', 'Boluwatife', 'Treasure', 'Bankole'], ['Denmark', 'Sweden', 'Danish', 'English', 'Polish', 'Danmarks', 'Radio', '(DR)', 'Det', 'Danske', 'Filminstitut', 'Eurimages', 'R', 'Drama', 'A', 'teacher', 'lives', 'a', 'lonely', 'life,', 'all', 'the', 'while', 'struggling', 'over', 'his', \"son's\", 'custody.', 'His', 'life', 'slowly', 'gets', 'better', 'as', 'he', 'finds', 'love', 'and', 'receives', 'good', 'news', 'from', 'his', 'son,', 'but', 'his', 'new', 'luck', 'is', 'about', 'to', 'be', 'brutally', 'shattered', 'by', 'an', 'innocent', 'little', 'lie.', 'Thomas', 'Vinterberg', 'Tobias', 'Lindholm', 'Thomas', 'Vinterberg', 'Mads', 'Mikkelsen', 'Thomas', 'Bo', 'Larsen', 'Annika', 'Wedderkopp'], ['UK', 'USA', 'English', 'Vietnamese', 'Natant', 'Stanley', 'Kubrick', 'Productions', 'Warner', 'Bros.', 'R', 'Drama', 'War', 'A', 'pragmatic', 'U.S.', 'Marine', 'observes', 'the', 'dehumanizing', 'effects', 'the', 'Vietnam', 'War', 'has', 'on', 'his', 'fellow', 'recruits', 'from', 'their', 'brutal', 'boot', 'camp', 'training', 'to', 'the', 'bloody', 'street', 'fighting', 'in', 'Hue.', 'Stanley', 'Kubrick', 'Stanley', 'Kubrick', 'Michael', 'Herr', 'Matthew', 'Modine', 'R.', 'Lee', 'Ermey', 'Vincent', \"D'Onofrio\"], ['USA', 'English', 'French', 'Metro-Goldwyn-Mayer', '(MGM)', 'Approved', 'Adventure', 'Mystery', 'Thriller', 'A', 'New', 'York', 'City', 'advertising', 'executive', 'goes', 'on', 'the', 'run', 'after', 'being', 'mistaken', 'for', 'a', 'government', 'agent', 'by', 'a', 'group', 'of', 'foreign', 'spies.', 'Alfred', 'Hitchcock', 'Ernest', 'Lehman', 'Cary', 'Grant', 'Eva', 'Marie', 'Saint', 'James', 'Mason'], ['UK', 'USA', 'English', 'Warner', 'Bros.', 'Polaris', 'Productions', 'Hawk', 'Films', 'R', 'Crime', 'Drama', 'Sci-Fi', 'In', 'the', 'future,', 'a', 'sadistic', 'gang', 'leader', 'is', 'imprisoned', 'and', 'volunteers', 'for', 'a', 'conduct-aversion', 'experiment,', 'but', 'it', \"doesn't\", 'go', 'as', 'planned.', 'Stanley', 'Kubrick', 'Stanley', 'Kubrick', 'Anthony', 'Burgess', 'Malcolm', 'McDowell', 'Patrick', 'Magee', 'Michael', 'Bates'], ['Italy', 'Italian', 'English', 'Produzioni', 'De', 'Sica', '(PDS)', 'Produzioni', 'De', 'Sica', 'Not', 'Rated', 'Drama', 'In', 'post-war', 'Italy,', 'a', 'working-class', \"man's\", 'bicycle', 'is', 'stolen.', 'He', 'and', 'his', 'son', 'set', 'out', 'to', 'find', 'it.', 'Vittorio', 'De', 'Sica', 'Cesare', 'Zavattini', 'Luigi', 'Bartolini', 'Lamberto', 'Maggiorani', 'Enzo', 'Staiola', 'Lianella', 'Carell'], ['USA', 'English', 'None', 'Charles', 'Chaplin', 'Productions', 'Passed', 'Comedy', 'Drama', 'Family', 'The', 'Tramp', 'cares', 'for', 'an', 'abandoned', 'child,', 'but', 'events', 'put', 'that', 'relationship', 'in', 'jeopardy.', 'Charles', 'Chaplin', 'Charles', 'Chaplin', 'Charles', 'Chaplin', 'Edna', 'Purviance', 'Jackie', 'Coogan'], ['UK', 'USA', 'English', 'Russian', 'Columbia', 'Pictures', 'SKA', 'Films', 'R', 'Comedy', 'Crime', 'Unscrupulous', 'boxing', 'promoters,', 'violent', 'bookmakers,', 'a', 'Russian', 'gangster,', 'incompetent', 'amateur', 'robbers', 'and', 'supposedly', 'Jewish', 'jewelers', 'fight', 'to', 'track', 'down', 'a', 'priceless', 'stolen', 'diamond.', 'Guy', 'Ritchie', 'Guy', 'Ritchie', 'Jason', 'Statham', 'Brad', 'Pitt', 'Benicio', 'Del', 'Toro'], ['USA', 'English', 'Metro-Goldwyn-Mayer', '(MGM)', 'G', 'Comedy', 'Musical', 'Romance', 'A', 'silent', 'film', 'production', 'company', 'and', 'cast', 'make', 'a', 'difficult', 'transition', 'to', 'sound.', 'Stanley', 'Donen', 'Gene', 'Kelly', 'Betty', 'Comden', 'Adolph', 'Green', 'Gene', 'Kelly', 'Donald', \"O'Connor\", 'Debbie', 'Reynolds'], ['USA', 'English', 'Spanish', 'Universal', 'Pictures', 'R', 'Crime', 'Drama', 'In', '1980', 'Miami,', 'a', 'determined', 'Cuban', 'immigrant', 'takes', 'over', 'a', 'drug', 'cartel', 'and', 'succumbs', 'to', 'greed.', 'Brian', 'De', 'Palma', 'Oliver', 'Stone', 'Al', 'Pacino', 'Michelle', 'Pfeiffer', 'Steven', 'Bauer'], ['USA', 'English', 'Spanish', 'Columbia', 'Pictures', 'Columbia', 'Pictures', 'Bill/Phillips', 'R', 'Crime', 'Drama', 'A', 'mentally', 'unstable', 'veteran', 'works', 'as', 'a', 'nighttime', 'taxi', 'driver', 'in', 'New', 'York', 'City,', 'where', 'the', 'perceived', 'decadence', 'and', 'sleaze', 'fuels', 'his', 'urge', 'for', 'violent', 'action', 'by', 'attempting', 'to', 'liberate', 'a', 'presidential', 'campaign', 'worker', 'and', 'an', 'underage', 'prostitute.', 'Martin', 'Scorsese', 'Paul', 'Schrader', 'Robert', 'De', 'Niro', 'Jodie', 'Foster', 'Cybill', 'Shepherd'], ['France', 'Germany', 'French', 'Russian', 'English', 'Claudie', 'Ossard', 'Productions', 'Union', 'Générale', 'Cinématographique', '(UGC)', 'Victoires', 'Productions', 'R', 'Comedy', 'Romance', 'Amélie', 'is', 'an', 'innocent', 'and', 'naive', 'girl', 'in', 'Paris', 'with', 'her', 'own', 'sense', 'of', 'justice.', 'She', 'decides', 'to', 'help', 'those', 'around', 'her', 'and,', 'along', 'the', 'way,', 'discovers', 'love.', 'Jean-Pierre', 'Jeunet', 'Guillaume', 'Laurant', 'Jean-Pierre', 'Jeunet', 'Audrey', 'Tautou', 'Mathieu', 'Kassovitz', 'Rufus'], ['UK', 'English', 'Arabic', 'Turkish', 'Horizon', 'Pictures', '(II)', 'Approved', 'Adventure', 'Biography', 'Drama', 'The', 'story', 'of', 'T.E.', 'Lawrence,', 'the', 'English', 'officer', 'who', 'successfully', 'united', 'and', 'led', 'the', 'diverse,', 'often', 'warring,', 'Arab', 'tribes', 'during', 'World', 'War', 'I', 'in', 'order', 'to', 'fight', 'the', 'Turks.', 'David', 'Lean', 'T.E.', 'Lawrence', 'Robert', 'Bolt', 'Peter', \"O'Toole\", 'Alec', 'Guinness', 'Anthony', 'Quinn'], ['USA', 'English', 'Zanuck/Brown', 'Productions', 'Universal', 'Pictures', 'PG', 'Comedy', 'Crime', 'Drama', 'Two', 'grifters', 'team', 'up', 'to', 'pull', 'off', 'the', 'ultimate', 'con.', 'George', 'Roy', 'Hill', 'David', 'S.', 'Ward', 'Paul', 'Newman', 'Robert', 'Redford', 'Robert', 'Shaw'], ['USA', 'English', 'Spanish', 'Walt', 'Disney', 'Pictures', 'Pixar', 'Animation', 'Studios', 'G', 'Animation', 'Adventure', 'Comedy', 'The', 'toys', 'are', 'mistakenly', 'delivered', 'to', 'a', 'day-care', 'center', 'instead', 'of', 'the', 'attic', 'right', 'before', 'Andy', 'leaves', 'for', 'college,', 'and', \"it's\", 'up', 'to', 'Woody', 'to', 'convince', 'the', 'other', 'toys', 'that', 'they', \"weren't\", 'abandoned', 'and', 'to', 'return', 'home.', 'Lee', 'Unkrich', 'John', 'Lasseter', 'Andrew', 'Stanton', 'Tom', 'Hanks', 'Tim', 'Allen', 'Joan', 'Cusack'], ['Germany', 'German', 'Universum', 'Film', '(UFA)', 'Not', 'Rated', 'Drama', 'Sci-Fi', 'In', 'a', 'futuristic', 'city', 'sharply', 'divided', 'between', 'the', 'working', 'class', 'and', 'the', 'city', 'planners,', 'the', 'son', 'of', 'the', \"city's\", 'mastermind', 'falls', 'in', 'love', 'with', 'a', 'working', 'class', 'prophet', 'who', 'predicts', 'the', 'coming', 'of', 'a', 'savior', 'to', 'mediate', 'their', 'differences.', 'Fritz', 'Lang', 'Thea', 'von', 'Harbou', 'Thea', 'von', 'Harbou', 'Brigitte', 'Helm', 'Alfred', 'Abel', 'Gustav', 'Fröhlich'], ['Japan', 'Japanese', 'Toho', 'Company', 'Not', 'Rated', 'Drama', 'A', 'bureaucrat', 'tries', 'to', 'find', 'a', 'meaning', 'in', 'his', 'life', 'after', 'he', 'discovers', 'he', 'has', 'terminal', 'cancer.', 'Akira', 'Kurosawa', 'Akira', 'Kurosawa', 'Shinobu', 'Hashimoto', 'Takashi', 'Shimura', 'Nobuo', 'Kaneko', \"Shin'ichi\", 'Himori'], ['Italy', 'Spain', 'West', 'Germany', 'Italian', 'English', 'Produzioni', 'Europee', 'Associate', '(PEA)', 'Arturo', 'González', 'Producciones', 'Cinematográficas', 'Constantin', 'Film', 'R', 'Western', 'Two', 'bounty', 'hunters', 'with', 'the', 'same', 'intentions', 'team', 'up', 'to', 'track', 'down', 'a', 'Western', 'outlaw.', 'Sergio', 'Leone', 'Sergio', 'Leone', 'Fulvio', 'Morsella', 'Clint', 'Eastwood', 'Lee', 'Van', 'Cleef', 'Gian', 'Maria', 'Volontè'], ['Iran', 'France', 'Persian', 'Asghar', 'Farhadi', 'Productions', 'Dreamlab', 'Films', 'MPA', 'APSA', 'Academy', 'Film', 'Fund', 'PG-13', 'Drama', 'A', 'married', 'couple', 'are', 'faced', 'with', 'a', 'difficult', 'decision', '-', 'to', 'improve', 'the', 'life', 'of', 'their', 'child', 'by', 'moving', 'to', 'another', 'country', 'or', 'to', 'stay', 'in', 'Iran', 'and', 'look', 'after', 'a', 'deteriorating', 'parent', 'who', 'has', \"Alzheimer's\", 'disease.', 'Asghar', 'Farhadi', 'Asghar', 'Farhadi', 'Payman', 'Maadi', 'Leila', 'Hatami', 'Sareh', 'Bayat'], ['USA', 'English', 'Paramount', 'Pictures', 'Passed', 'Crime', 'Drama', 'Film-Noir', 'An', 'insurance', 'representative', 'lets', 'himself', 'be', 'talked', 'by', 'a', 'seductive', 'housewife', 'into', 'a', 'murder/insurance', 'fraud', 'scheme', 'that', 'arouses', 'the', 'suspicion', 'of', 'an', 'insurance', 'investigator.', 'Billy', 'Wilder', 'Billy', 'Wilder', 'Raymond', 'Chandler', 'Fred', 'MacMurray', 'Barbara', 'Stanwyck', 'Edward', 'G.', 'Robinson'], ['USA', 'English', 'The', 'Mirisch', 'Corporation', 'Not', 'Rated', 'Comedy', 'Drama', 'Romance', 'A', 'man', 'tries', 'to', 'rise', 'in', 'his', 'company', 'by', 'letting', 'its', 'executives', 'use', 'his', 'apartment', 'for', 'trysts,', 'but', 'complications', 'and', 'a', 'romance', 'of', 'his', 'own', 'ensue.', 'Billy', 'Wilder', 'Billy', 'Wilder', 'I.A.L.', 'Diamond', 'Jack', 'Lemmon', 'Shirley', 'MacLaine', 'Fred', 'MacMurray'], ['Canada', 'France', 'French', 'Arabic', 'English', 'micro_scope', 'TS', 'Productions', 'Phi', 'Group', 'R', 'Drama', 'Mystery', 'War', 'Twins', 'journey', 'to', 'the', 'Middle', 'East', 'to', 'discover', 'their', 'family', 'history', 'and', 'fulfill', 'their', \"mother's\", 'last', 'wishes.', 'Denis', 'Villeneuve', 'Denis', 'Villeneuve', 'Wajdi', 'Mouawad', 'Lubna', 'Azabal', 'Mélissa', 'Désormeaux-Poulin', 'Maxim', 'Gaudette'], ['USA', 'English', 'Pakula-Mulligan', 'Brentwood', 'Productions', 'Approved', 'Crime', 'Drama', 'Atticus', 'Finch,', 'a', 'lawyer', 'in', 'the', 'Depression-era', 'South,', 'defends', 'a', 'black', 'man', 'against', 'an', 'undeserved', 'rape', 'charge,', 'and', 'his', 'children', 'against', 'prejudice.', 'Robert', 'Mulligan', 'Harper', 'Lee', 'Horton', 'Foote', 'Gregory', 'Peck', 'John', 'Megna', 'Frank', 'Overton'], ['USA', 'English', 'German', 'Greek', 'Arabic', 'Paramount', 'Pictures', 'Lucasfilm', 'PG-13', 'Action', 'Adventure', 'In', '1938,', 'after', 'his', 'father', 'Professor', 'Henry', 'Jones,', 'Sr.', 'goes', 'missing', 'while', 'pursuing', 'the', 'Holy', 'Grail,', 'Professor', 'Henry', '\"Indiana\"', 'Jones,', 'Jr.', 'finds', 'himself', 'up', 'against', 'Adolf', \"Hitler's\", 'Nazis', 'again', 'to', 'stop', 'them', 'from', 'obtaining', 'its', 'powers.', 'Steven', 'Spielberg', 'Jeffrey', 'Boam', 'George', 'Lucas', 'Harrison', 'Ford', 'Sean', 'Connery', 'Alison', 'Doody'], ['USA', 'English', 'Pixar', 'Animation', 'Studios', 'Walt', 'Disney', 'Pictures', 'PG', 'Animation', 'Adventure', 'Comedy', '78-year-old', 'Carl', 'Fredricksen', 'travels', 'to', 'Paradise', 'Falls', 'in', 'his', 'house', 'equipped', 'with', 'balloons,', 'inadvertently', 'taking', 'a', 'young', 'stowaway.', 'Pete', 'Docter', 'Bob', 'Peterson', 'Pete', 'Docter', 'Bob', 'Peterson', 'Edward', 'Asner', 'Jordan', 'Nagai', 'John', 'Ratzenberger'], ['USA', 'English', 'Regency', 'Enterprises', 'The', 'Wolper', 'Organization', 'Warner', 'Bros.', 'R', 'Crime', 'Drama', 'Mystery', 'As', 'corruption', 'grows', 'in', '1950s', 'Los', 'Angeles,', 'three', 'policemen', '-', 'one', 'strait-laced,', 'one', 'brutal,', 'and', 'one', 'sleazy', '-', 'investigate', 'a', 'series', 'of', 'murders', 'with', 'their', 'own', 'brand', 'of', 'justice.', 'Curtis', 'Hanson', 'James', 'Ellroy', 'Brian', 'Helgeland', 'Kevin', 'Spacey', 'Russell', 'Crowe', 'Guy', 'Pearce'], ['USA', 'English', 'Spanish', 'Warner', 'Bros.', 'Regency', 'Enterprises', 'Forward', 'Pass', 'R', 'Crime', 'Drama', 'Thriller', 'A', 'group', 'of', 'professional', 'bank', 'robbers', 'start', 'to', 'feel', 'the', 'heat', 'from', 'police', 'when', 'they', 'unknowingly', 'leave', 'a', 'clue', 'at', 'their', 'latest', 'heist.', 'Michael', 'Mann', 'Michael', 'Mann', 'Al', 'Pacino', 'Robert', 'De', 'Niro', 'Val', 'Kilmer'], ['UK', 'English', 'French', 'Latin', 'Python', '(Monty)', 'Pictures', 'Michael', 'White', 'Productions', 'National', 'Film', 'Trustee', 'Company', 'PG', 'Adventure', 'Comedy', 'Fantasy', 'King', 'Arthur', '(Graham', 'Chapman)', 'and', 'his', 'Knights', 'of', 'the', 'Round', 'Table', 'embark', 'on', 'a', 'surreal,', 'low-budget', 'search', 'for', 'the', 'Holy', 'Grail,', 'encountering', 'many,', 'very', 'silly', 'obstacles.', 'Terry', 'Gilliam', 'Terry', 'Jones', 'Graham', 'Chapman', 'John', 'Cleese', 'Graham', 'Chapman', 'John', 'Cleese', 'Eric', 'Idle'], ['USA', 'English', 'German', 'Italian', 'Japanese', 'Twentieth', 'Century', 'Fox', 'Gordon', 'Company', 'Silver', 'Pictures', 'R', 'Action', 'Thriller', 'An', 'NYPD', 'officer', 'tries', 'to', 'save', 'his', 'wife', 'and', 'several', 'others', 'taken', 'hostage', 'by', 'German', 'terrorists', 'during', 'a', 'Christmas', 'party', 'at', 'the', 'Nakatomi', 'Plaza', 'in', 'Los', 'Angeles.', 'John', 'McTiernan', 'Roderick', 'Thorp', 'Jeb', 'Stuart', 'Bruce', 'Willis', 'Alan', 'Rickman', 'Bonnie', 'Bedelia'], ['Japan', 'Japanese', 'Daiei', 'Not', 'Rated', 'Crime', 'Drama', 'Mystery', 'The', 'rape', 'of', 'a', 'bride', 'and', 'the', 'murder', 'of', 'her', 'samurai', 'husband', 'are', 'recalled', 'from', 'the', 'perspectives', 'of', 'a', 'bandit,', 'the', 'bride,', 'the', \"samurai's\", 'ghost', 'and', 'a', 'woodcutter.', 'Akira', 'Kurosawa', 'Ryûnosuke', 'Akutagawa', 'Akira', 'Kurosawa', 'Toshirô', 'Mifune', 'Machiko', 'Kyô', 'Masayuki', 'Mori'], ['Japan', 'Japanese', 'Kurosawa', 'Production', 'Co.', 'Toho', 'Company', 'Not', 'Rated', 'Action', 'Drama', 'Thriller', 'A', 'crafty', 'ronin', 'comes', 'to', 'a', 'town', 'divided', 'by', 'two', 'criminal', 'gangs', 'and', 'decides', 'to', 'play', 'them', 'against', 'each', 'other', 'to', 'free', 'the', 'town.', 'Akira', 'Kurosawa', 'Akira', 'Kurosawa', 'Akira', 'Kurosawa', 'Toshirô', 'Mifune', 'Eijirô', 'Tôno', 'Tatsuya', 'Nakadai'], ['USA', 'UK', 'English', 'Mandarin', 'Warner', 'Bros.', 'Syncopy', 'DC', 'Comics', 'PG-13', 'Action', 'Adventure', 'After', 'training', 'with', 'his', 'mentor,', 'Batman', 'begins', 'his', 'fight', 'to', 'free', 'crime-ridden', 'Gotham', 'City', 'from', 'corruption.', 'Christopher', 'Nolan', 'Bob', 'Kane', 'David', 'S.', 'Goyer', 'Christian', 'Bale', 'Michael', 'Caine', 'Ken', 'Watanabe'], ['Soviet', 'Union', 'Belarusian', 'Russian', 'German', 'Belarusfilm', 'Mosfilm', 'Not', 'Rated', 'Drama', 'War', 'After', 'finding', 'an', 'old', 'rifle,', 'a', 'young', 'boy', 'joins', 'the', 'Soviet', 'resistance', 'movement', 'against', 'ruthless', 'German', 'forces', 'and', 'experiences', 'the', 'horrors', 'of', 'World', 'War', 'II.', 'Elem', 'Klimov', 'Ales', 'Adamovich', 'Ales', 'Adamovich', 'Aleksey', 'Kravchenko', 'Olga', 'Mironova', 'Liubomiras', 'Laucevicius'], ['USA', 'China', 'English', 'Italian', 'Russian', 'German', 'Participant', 'DreamWorks', 'Innisfree', 'Pictures', 'PG-13', 'Biography', 'Comedy', 'Drama', 'A', 'working-class', 'Italian-American', 'bouncer', 'becomes', 'the', 'driver', 'of', 'an', 'African-American', 'classical', 'pianist', 'on', 'a', 'tour', 'of', 'venues', 'through', 'the', '1960s', 'American', 'South.', 'Peter', 'Farrelly', 'Nick', 'Vallelonga', 'Brian', 'Hayes', 'Currie', 'Viggo', 'Mortensen', 'Mahershala', 'Ali', 'Linda', 'Cardellini'], ['Iran', 'Persian', 'Kanun', 'parvaresh', 'fekri', 'PG', 'Drama', 'Family', 'Sport', 'After', 'a', 'boy', 'loses', 'his', \"sister's\", 'pair', 'of', 'shoes,', 'he', 'goes', 'on', 'a', 'series', 'of', 'adventures', 'in', 'order', 'to', 'find', 'them.', 'When', 'he', \"can't,\", 'he', 'tries', 'a', 'new', 'way', 'to', '\"win\"', 'a', 'new', 'pair.', 'Majid', 'Majidi', 'Majid', 'Majidi', 'Mohammad', 'Amir', 'Naji', 'Amir', 'Farrokh', 'Hashemian', 'Bahare', 'Seddiqi'], ['Germany', 'Austria', 'Italy', 'German', 'Russian', 'Constantin', 'Film', 'Norddeutscher', 'Rundfunk', '(NDR)', 'Westdeutscher', 'Rundfunk', '(WDR)', 'R', 'Biography', 'Drama', 'History', 'Traudl', 'Junge,', 'the', 'final', 'secretary', 'for', 'Adolf', 'Hitler,', 'tells', 'of', 'the', 'Nazi', \"dictator's\", 'final', 'days', 'in', 'his', 'Berlin', 'bunker', 'at', 'the', 'end', 'of', 'WWII.', 'Oliver', 'Hirschbiegel', 'Bernd', 'Eichinger', 'Joachim', 'Fest', 'Bruno', 'Ganz', 'Alexandra', 'Maria', 'Lara', 'Ulrich', 'Matthes'], ['USA', 'English', 'Warner', 'Bros.', 'Malpaso', 'Productions', 'R', 'Drama', 'Western', 'Retired', 'Old', 'West', 'gunslinger', 'William', 'Munny', '(Clint', 'Eastwood)', 'reluctantly', 'takes', 'on', 'one', 'last', 'job,', 'with', 'the', 'help', 'of', 'his', 'old', 'partner', 'Ned', 'Logan', '(Morgan', 'Freeman)', 'and', 'a', 'young', 'man,', 'The', '\"Schofield', 'Kid\"', '(Jaimz', 'Woolvett).', 'Clint', 'Eastwood', 'David', 'Webb', 'Peoples', 'Clint', 'Eastwood', 'Gene', 'Hackman', 'Morgan', 'Freeman'], ['USA', 'English', 'Ashton', 'Productions', 'The', 'Mirisch', 'Corporation', 'Not', 'Rated', 'Comedy', 'Music', 'Romance', 'After', 'two', 'male', 'musicians', 'witness', 'a', 'mob', 'hit,', 'they', 'flee', 'the', 'state', 'in', 'an', 'all-female', 'band', 'disguised', 'as', 'women,', 'but', 'further', 'complications', 'set', 'in.', 'Billy', 'Wilder', 'Billy', 'Wilder', 'I.A.L.', 'Diamond', 'Marilyn', 'Monroe', 'Tony', 'Curtis', 'Jack', 'Lemmon'], ['Japan', 'France', 'Japanese', 'Greenwich', 'Film', 'Productions', 'Herald', 'Ace', 'Nippon', 'Herald', 'Films', 'R', 'Action', 'Drama', 'War', 'In', 'Medieval', 'Japan,', 'an', 'elderly', 'warlord', 'retires,', 'handing', 'over', 'his', 'empire', 'to', 'his', 'three', 'sons.', 'However,', 'he', 'vastly', 'underestimates', 'how', 'the', 'new-found', 'power', 'will', 'corrupt', 'them', 'and', 'cause', 'them', 'to', 'turn', 'on', 'each', 'other...and', 'him.', 'Akira', 'Kurosawa', 'Akira', 'Kurosawa', 'Hideo', 'Oguni', 'Tatsuya', 'Nakadai', 'Akira', 'Terao', 'Jinpachi', 'Nezu'], ['Japan', 'Japanese', 'Buena', 'Vista', 'Home', 'Entertainment', 'DENTSU', 'Music', 'And', 'Entertainment', 'Mitsubishi', 'PG', 'Animation', 'Adventure', 'Family', 'When', 'an', 'unconfident', 'young', 'woman', 'is', 'cursed', 'with', 'an', 'old', 'body', 'by', 'a', 'spiteful', 'witch,', 'her', 'only', 'chance', 'of', 'breaking', 'the', 'spell', 'lies', 'with', 'a', 'self-indulgent', 'yet', 'insecure', 'young', 'wizard', 'and', 'his', 'companions', 'in', 'his', 'legged,', 'walking', 'castle.', 'Hayao', 'Miyazaki', 'Hayao', 'Miyazaki', 'Diana', 'Wynne', 'Jones', 'Chieko', 'Baishô', 'Takuya', 'Kimura', 'Tatsuya', 'Gashûin'], ['USA', 'English', 'German', 'French', 'Russian', 'Spanish', 'The', 'Mirisch', 'Company', 'Alpha', 'Not', 'Rated', 'Adventure', 'Drama', 'History', 'Allied', 'prisoners', 'of', 'war', 'plan', 'for', 'several', 'hundred', 'of', 'their', 'number', 'to', 'escape', 'from', 'a', 'German', 'camp', 'during', 'World', 'War', 'II.', 'John', 'Sturges', 'Paul', 'Brickhill', 'James', 'Clavell', 'Steve', 'McQueen', 'James', 'Garner', 'Richard', 'Attenborough'], ['USA', 'English', 'French', 'Twentieth', 'Century', 'Fox', 'Passed', 'Drama', 'A', 'seemingly', 'timid', 'but', 'secretly', 'ruthless', 'ingénue', 'insinuates', 'herself', 'into', 'the', 'lives', 'of', 'an', 'aging', 'Broadway', 'star', 'and', 'her', 'circle', 'of', 'theater', 'friends.', 'Joseph', 'L.', 'Mankiewicz', 'Joseph', 'L.', 'Mankiewicz', 'Bette', 'Davis', 'Anne', 'Baxter', 'George', 'Sanders'], ['USA', 'English', 'Universal', 'Pictures', 'DreamWorks', 'Imagine', 'Entertainment', 'PG-13', 'Biography', 'Drama', 'After', 'John', 'Nash,', 'a', 'brilliant', 'but', 'asocial', 'mathematician,', 'accepts', 'secret', 'work', 'in', 'cryptography,', 'his', 'life', 'takes', 'a', 'turn', 'for', 'the', 'nightmarish.', 'Ron', 'Howard', 'Akiva', 'Goldsman', 'Sylvia', 'Nasar', 'Russell', 'Crowe', 'Ed', 'Harris', 'Jennifer', 'Connelly'], ['France', 'USA', 'English', 'Universal', 'Pictures', 'Syalis', 'DA', 'Légende', 'Entreprises', 'R', 'Crime', 'Drama', 'A', 'tale', 'of', 'greed,', 'deception,', 'money,', 'power,', 'and', 'murder', 'occur', 'between', 'two', 'best', 'friends:', 'a', 'mafia', 'enforcer', 'and', 'a', 'casino', 'executive,', 'compete', 'against', 'each', 'other', 'over', 'a', 'gambling', 'empire,', 'and', 'over', 'a', 'fast', 'living', 'and', 'fast', 'loving', 'socialite.', 'Martin', 'Scorsese', 'Nicholas', 'Pileggi', 'Nicholas', 'Pileggi', 'Robert', 'De', 'Niro', 'Sharon', 'Stone', 'Joe', 'Pesci'], ['Mexico', 'Spain', 'Spanish', 'Estudios', 'Picasso', 'Wild', 'Bunch', 'Tequila', 'Gang', 'R', 'Drama', 'Fantasy', 'War', 'In', 'the', 'Falangist', 'Spain', 'of', '1944,', 'the', 'bookish', 'young', 'stepdaughter', 'of', 'a', 'sadistic', 'army', 'officer', 'escapes', 'into', 'an', 'eerie', 'but', 'captivating', 'fantasy', 'world.', 'Guillermo', 'del', 'Toro', 'Guillermo', 'del', 'Toro', 'Ivana', 'Baquero', 'Ariadna', 'Gil', 'Sergi', 'López'], ['Argentina', 'Spain', 'Spanish', 'Tornasol', 'Films', 'Haddock', 'Films', '100', 'Bares', 'R', 'Drama', 'Mystery', 'Romance', 'A', 'retired', 'legal', 'counselor', 'writes', 'a', 'novel', 'hoping', 'to', 'find', 'closure', 'for', 'one', 'of', 'his', 'past', 'unresolved', 'homicide', 'cases', 'and', 'for', 'his', 'unreciprocated', 'love', 'with', 'his', 'superior', '-', 'both', 'of', 'which', 'still', 'haunt', 'him', 'decades', 'later.', 'Juan', 'José', 'Campanella', 'Eduardo', 'Sacheri', 'Juan', 'José', 'Campanella', 'Ricardo', 'Darín', 'Soledad', 'Villamil', 'Pablo', 'Rago'], ['Japan', 'Japanese', 'Tokuma', 'Japan', 'Communications', 'Studio', 'Ghibli', 'Nibariki', 'G', 'Animation', 'Family', 'Fantasy', 'When', 'two', 'girls', 'move', 'to', 'the', 'country', 'to', 'be', 'near', 'their', 'ailing', 'mother,', 'they', 'have', 'adventures', 'with', 'the', 'wondrous', 'forest', 'spirits', 'who', 'live', 'nearby.', 'Hayao', 'Miyazaki', 'Hayao', 'Miyazaki', 'Hitoshi', 'Takagi', 'Noriko', 'Hidaka', 'Chika', 'Sakamoto'], ['USA', 'English', 'French', 'Red', 'Granite', 'Pictures', 'Appian', 'Way', 'Sikelia', 'Productions', 'R', 'Biography', 'Crime', 'Drama', 'Based', 'on', 'the', 'true', 'story', 'of', 'Jordan', 'Belfort,', 'from', 'his', 'rise', 'to', 'a', 'wealthy', 'stock-broker', 'living', 'the', 'high', 'life', 'to', 'his', 'fall', 'involving', 'crime,', 'corruption', 'and', 'the', 'federal', 'government.', 'Martin', 'Scorsese', 'Terence', 'Winter', 'Jordan', 'Belfort', 'Leonardo', 'DiCaprio', 'Jonah', 'Hill', 'Margot', 'Robbie'], ['UK', 'English', 'Summit', 'Entertainment', 'The', 'Steve', 'Tisch', 'Company', 'SKA', 'Films', 'R', 'Comedy', 'Crime', 'A', 'botched', 'card', 'game', 'in', 'London', 'triggers', 'four', 'friends,', 'thugs,', 'weed-growers,', 'hard', 'gangsters,', 'loan', 'sharks', 'and', 'debt', 'collectors', 'to', 'collide', 'with', 'each', 'other', 'in', 'a', 'series', 'of', 'unexpected', 'events,', 'all', 'for', 'the', 'sake', 'of', 'weed,', 'cash', 'and', 'two', 'antique', 'shotguns.', 'Guy', 'Ritchie', 'Guy', 'Ritchie', 'Jason', 'Flemyng', 'Dexter', 'Fletcher', 'Nick', 'Moran'], ['USA', 'English', 'Chartoff-Winkler', 'Productions', 'R', 'Biography', 'Drama', 'Sport', 'The', 'life', 'of', 'boxer', 'Jake', 'LaMotta,', 'whose', 'violence', 'and', 'temper', 'that', 'led', 'him', 'to', 'the', 'top', 'in', 'the', 'ring', 'destroyed', 'his', 'life', 'outside', 'of', 'it.', 'Martin', 'Scorsese', 'Jake', 'LaMotta', 'Joseph', 'Carter', 'Robert', 'De', 'Niro', 'Cathy', 'Moriarty', 'Joe', 'Pesci'], ['USA', 'Mexico', 'English', 'Spanish', 'Warner', 'Bros.', 'Passed', 'Adventure', 'Drama', 'Western', 'Two', 'Americans', 'searching', 'for', 'work', 'in', 'Mexico', 'convince', 'an', 'old', 'prospector', 'to', 'help', 'them', 'mine', 'for', 'gold', 'in', 'the', 'Sierra', 'Madre', 'Mountains.', 'John', 'Huston', 'John', 'Huston', 'B.', 'Traven', 'Humphrey', 'Bogart', 'Walter', 'Huston', 'Tim', 'Holt'], ['USA', 'English', 'German', 'Roxlom', 'Films', 'Inc.', 'Not', 'Rated', 'Drama', 'War', 'In', '1948,', 'an', 'American', 'court', 'in', 'occupied', 'Germany', 'tries', 'four', 'Nazis', 'judged', 'for', 'war', 'crimes.', 'Stanley', 'Kramer', 'Abby', 'Mann', 'Abby', 'Mann', 'Spencer', 'Tracy', 'Burt', 'Lancaster', 'Richard', 'Widmark'], ['USA', 'English', 'American', 'Sign', 'Language', 'Paramount', 'Vantage', 'Miramax', 'Ghoulardi', 'Film', 'Company', 'R', 'Drama', 'A', 'story', 'of', 'family,', 'religion,', 'hatred,', 'oil', 'and', 'madness,', 'focusing', 'on', 'a', 'turn-of-the-century', 'prospector', 'in', 'the', 'early', 'days', 'of', 'the', 'business.', 'Paul', 'Thomas', 'Anderson', 'Paul', 'Thomas', 'Anderson', 'Upton', 'Sinclair', 'Daniel', 'Day-Lewis', 'Paul', 'Dano', 'Ciarán', 'Hinds'], ['Turkey', 'Turkish', 'Avsar', 'Film', 'G', 'Drama', 'Family', 'The', 'family', 'of', 'a', 'left-wing', 'journalist', 'is', 'torn', 'apart', 'after', 'the', 'military', 'coup', 'of', 'Turkey', 'in', '1980.', 'Çagan', 'Irmak', 'Çagan', 'Irmak', 'Çetin', 'Tekindor', 'Fikret', 'Kuskan', 'Hümeyra'], ['UK', 'USA', 'English', 'Blueprint', 'Pictures', 'Film', '4', 'Fox', 'Searchlight', 'Pictures', 'R', 'Comedy', 'Crime', 'Drama', 'A', 'mother', 'personally', 'challenges', 'the', 'local', 'authorities', 'to', 'solve', 'her', \"daughter's\", 'murder', 'when', 'they', 'fail', 'to', 'catch', 'the', 'culprit.', 'Martin', 'McDonagh', 'Martin', 'McDonagh', 'Frances', 'McDormand', 'Woody', 'Harrelson', 'Sam', 'Rockwell'], ['USA', 'English', 'None', 'Charles', 'Chaplin', 'Productions', 'Not', 'Rated', 'Adventure', 'Comedy', 'Drama', 'A', 'prospector', 'goes', 'to', 'the', 'Klondike', 'in', 'search', 'of', 'gold', 'and', 'finds', 'it', 'and', 'more.', 'Charles', 'Chaplin', 'Charles', 'Chaplin', 'Charles', 'Chaplin', 'Mack', 'Swain', 'Tom', 'Murray'], ['USA', 'English', 'Warner', 'Bros.', 'PG', 'Crime', 'Thriller', 'A', 'tennis', 'player', 'tries', 'to', 'arrange', 'his', \"wife's\", 'murder', 'after', 'learning', 'of', 'her', 'affair.', 'Alfred', 'Hitchcock', 'Frederick', 'Knott', 'Frederick', 'Knott', 'Ray', 'Milland', 'Grace', 'Kelly', 'Robert', 'Cummings'], ['USA', 'English', 'Cantonese', 'Spanish', 'Paramount', 'Pictures', 'Penthouse', 'Video', 'Long', 'Road', 'Productions', 'R', 'Drama', 'Mystery', 'Thriller', 'A', 'private', 'detective', 'hired', 'to', 'expose', 'an', 'adulterer', 'finds', 'himself', 'caught', 'up', 'in', 'a', 'web', 'of', 'deceit,', 'corruption,', 'and', 'murder.', 'Roman', 'Polanski', 'Robert', 'Towne', 'Jack', 'Nicholson', 'Faye', 'Dunaway', 'John', 'Huston'], ['USA', 'UK', 'Germany', 'English', 'Warner', 'Bros.', 'Virtual', 'Studios', 'Silver', 'Pictures', 'R', 'Action', 'Drama', 'Sci-Fi', 'In', 'a', 'future', 'British', 'tyranny,', 'a', 'shadowy', 'freedom', 'fighter,', 'known', 'only', 'by', 'the', 'alias', 'of', '\"V\",', 'plots', 'to', 'overthrow', 'it', 'with', 'the', 'help', 'of', 'a', 'young', 'woman.', 'James', 'McTeigue', 'Lilly', 'Wachowski', 'Lana', 'Wachowski', 'Hugo', 'Weaving', 'Natalie', 'Portman', 'Rupert', 'Graves'], ['Sweden', 'Swedish', 'Latin', 'Svensk', 'Filmindustri', '(SF)', 'Not', 'Rated', 'Drama', 'Fantasy', 'A', 'man', 'seeks', 'answers', 'about', 'life,', 'death,', 'and', 'the', 'existence', 'of', 'God', 'as', 'he', 'plays', 'chess', 'against', 'the', 'Grim', 'Reaper', 'during', 'the', 'Black', 'Plague.', 'Ingmar', 'Bergman', 'Ingmar', 'Bergman', 'Ingmar', 'Bergman', 'Max', 'von', 'Sydow', 'Gunnar', 'Björnstrand', 'Bengt', 'Ekerot'], ['USA', 'Mexico', 'English', 'Spanish', 'Paramount', 'Vantage', 'Miramax', 'Scott', 'Rudin', 'Productions', 'R', 'Crime', 'Drama', 'Thriller', 'Violence', 'and', 'mayhem', 'ensue', 'after', 'a', 'hunter', 'stumbles', 'upon', 'a', 'drug', 'deal', 'gone', 'wrong', 'and', 'more', 'than', 'two', 'million', 'dollars', 'in', 'cash', 'near', 'the', 'Rio', 'Grande.', 'Ethan', 'Coen', 'Joel', 'Coen', 'Joel', 'Coen', 'Ethan', 'Coen', 'Tommy', 'Lee', 'Jones', 'Javier', 'Bardem', 'Josh', 'Brolin'], ['USA', 'English', 'Pixar', 'Animation', 'Studios', 'Walt', 'Disney', 'Pictures', 'PG', 'Animation', 'Adventure', 'Comedy', 'After', 'young', 'Riley', 'is', 'uprooted', 'from', 'her', 'Midwest', 'life', 'and', 'moved', 'to', 'San', 'Francisco,', 'her', 'emotions', '-', 'Joy,', 'Fear,', 'Anger,', 'Disgust', 'and', 'Sadness', '-', 'conflict', 'on', 'how', 'best', 'to', 'navigate', 'a', 'new', 'city,', 'house,', 'and', 'school.', 'Pete', 'Docter', 'Ronnie', 'Del', 'Carmen', 'Pete', 'Docter', 'Ronnie', 'Del', 'Carmen', 'Amy', 'Poehler', 'Bill', 'Hader', 'Lewis', 'Black'], ['USA', 'English', 'Spanish', 'Lionsgate', 'Mimran', 'Schur', 'Pictures', 'Solaris', 'PG-13', 'Drama', 'Sport', 'The', 'youngest', 'son', 'of', 'an', 'alcoholic', 'former', 'boxer', 'returns', 'home,', 'where', \"he's\", 'trained', 'by', 'his', 'father', 'for', 'competition', 'in', 'a', 'mixed', 'martial', 'arts', 'tournament', '-', 'a', 'path', 'that', 'puts', 'the', 'fighter', 'on', 'a', 'collision', 'course', 'with', 'his', 'estranged,', 'older', 'brother.', 'Gavin', \"O'Connor\", 'Gavin', \"O'Connor\", 'Anthony', 'Tambakis', 'Tom', 'Hardy', 'Nick', 'Nolte', 'Joel', 'Edgerton'], ['USA', 'English', 'German', 'Paramount', 'Pictures', 'Phoenix', 'Pictures', 'Sikelia', 'Productions', 'R', 'Mystery', 'Thriller', 'In', '1954,', 'a', 'U.S.', 'Marshal', 'investigates', 'the', 'disappearance', 'of', 'a', 'murderer', 'who', 'escaped', 'from', 'a', 'hospital', 'for', 'the', 'criminally', 'insane.', 'Martin', 'Scorsese', 'Laeta', 'Kalogridis', 'Dennis', 'Lehane', 'Leonardo', 'DiCaprio', 'Emily', 'Mortimer', 'Mark', 'Ruffalo'], ['UK', 'English', 'Channel', 'Four', 'Films', 'Figment', 'Films', 'The', 'Noel', 'Gay', 'Motion', 'Picture', 'Company', 'R', 'Drama', 'Renton,', 'deeply', 'immersed', 'in', 'the', 'Edinburgh', 'drug', 'scene,', 'tries', 'to', 'clean', 'up', 'and', 'get', 'out,', 'despite', 'the', 'allure', 'of', 'the', 'drugs', 'and', 'influence', 'of', 'friends.', 'Danny', 'Boyle', 'Irvine', 'Welsh', 'John', 'Hodge', 'Ewan', 'McGregor', 'Ewen', 'Bremner', 'Jonny', 'Lee', 'Miller'], ['USA', 'UK', 'English', 'Brooksfilms', 'PG', 'Biography', 'Drama', 'A', 'Victorian', 'surgeon', 'rescues', 'a', 'heavily', 'disfigured', 'man', 'who', 'is', 'mistreated', 'while', 'scraping', 'a', 'living', 'as', 'a', 'side-show', 'freak.', 'Behind', 'his', 'monstrous', 'façade,', 'there', 'is', 'revealed', 'a', 'person', 'of', 'kindness,', 'intelligence', 'and', 'sophistication.', 'David', 'Lynch', 'Christopher', 'De', 'Vore', 'Eric', 'Bergren', 'Anthony', 'Hopkins', 'John', 'Hurt', 'Anne', 'Bancroft'], ['USA', 'English', 'Latin', 'Spanish', 'Hollywood', 'Pictures', 'Spyglass', 'Entertainment', 'The', 'Kennedy/Marshall', 'Company', 'PG-13', 'Drama', 'Mystery', 'Thriller', 'A', 'boy', 'who', 'communicates', 'with', 'spirits', 'seeks', 'the', 'help', 'of', 'a', 'disheartened', 'child', 'psychologist.', 'M.', 'Night', 'Shyamalan', 'M.', 'Night', 'Shyamalan', 'Bruce', 'Willis', 'Haley', 'Joel', 'Osment', 'Toni', 'Collette'], ['USA', 'English', 'Norwegian', 'Universal', 'Pictures', 'Turman-Foster', 'Company', 'R', 'Horror', 'Mystery', 'Sci-Fi', 'A', 'research', 'team', 'in', 'Antarctica', 'is', 'hunted', 'by', 'a', 'shape-shifting', 'alien', 'that', 'assumes', 'the', 'appearance', 'of', 'its', 'victims.', 'John', 'Carpenter', 'Bill', 'Lancaster', 'John', 'W.', 'Campbell', 'Jr.', 'Kurt', 'Russell', 'Wilford', 'Brimley', 'Keith', 'David'], ['USA', 'English', 'Selznick', 'International', 'Pictures', 'Metro-Goldwyn-Mayer', '(MGM)', 'Passed', 'Drama', 'History', 'Romance', 'A', 'manipulative', 'woman', 'and', 'a', 'roguish', 'man', 'conduct', 'a', 'turbulent', 'romance', 'during', 'the', 'American', 'Civil', 'War', 'and', 'Reconstruction', 'periods.', 'Victor', 'Fleming', 'George', 'Cukor', 'Margaret', 'Mitchell', 'Sidney', 'Howard', 'Clark', 'Gable', 'Vivien', 'Leigh', 'Thomas', 'Mitchell'], ['Ireland', 'Canada', 'UK', 'USA', 'English', 'Element', 'Pictures', 'Film', '4', 'FilmNation', 'Entertainment', 'R', 'Drama', 'Thriller', 'Held', 'captive', 'for', '7', 'years', 'in', 'an', 'enclosed', 'space,', 'a', 'woman', 'and', 'her', 'young', 'son', 'finally', 'gain', 'their', 'freedom,', 'allowing', 'the', 'boy', 'to', 'experience', 'the', 'outside', 'world', 'for', 'the', 'first', 'time.', 'Lenny', 'Abrahamson', 'Emma', 'Donoghue', 'Emma', 'Donoghue', 'Brie', 'Larson', 'Jacob', 'Tremblay', 'Sean', 'Bridgers'], ['USA', 'English', 'Spanish', 'Universal', 'Pictures', 'Amblin', 'Entertainment', 'PG-13', 'Action', 'Adventure', 'Sci-Fi', 'A', 'pragmatic', 'paleontologist', 'visiting', 'an', 'almost', 'complete', 'theme', 'park', 'is', 'tasked', 'with', 'protecting', 'a', 'couple', 'of', 'kids', 'after', 'a', 'power', 'failure', 'causes', 'the', \"park's\", 'cloned', 'dinosaurs', 'to', 'run', 'loose.', 'Steven', 'Spielberg', 'Michael', 'Crichton', 'Michael', 'Crichton', 'Sam', 'Neill', 'Laura', 'Dern', 'Jeff', 'Goldblum'], ['Sweden', 'Swedish', 'Latin', 'Svensk', 'Filmindustri', '(SF)', 'Not', 'Rated', 'Drama', 'Romance', 'After', 'living', 'a', 'life', 'marked', 'by', 'coldness,', 'an', 'aging', 'professor', 'is', 'forced', 'to', 'confront', 'the', 'emptiness', 'of', 'his', 'existence.', 'Ingmar', 'Bergman', 'Ingmar', 'Bergman', 'Victor', 'Sjöström', 'Bibi', 'Andersson', 'Ingrid', 'Thulin'], ['USA', 'English', 'German', 'Cantonese', 'Japanese', 'Hungarian', 'Arabic', 'The', 'Ladd', 'Company', 'Shaw', 'Brothers', 'Warner', 'Bros.', 'R', 'Action', 'Sci-Fi', 'Thriller', 'A', 'blade', 'runner', 'must', 'pursue', 'and', 'terminate', 'four', 'replicants', 'who', 'stole', 'a', 'ship', 'in', 'space,', 'and', 'have', 'returned', 'to', 'Earth', 'to', 'find', 'their', 'creator.', 'Ridley', 'Scott', 'Hampton', 'Fancher', 'David', 'Webb', 'Peoples', 'Harrison', 'Ford', 'Rutger', 'Hauer', 'Sean', 'Young'], ['UK', 'USA', 'English', 'Japanese', 'Thai', 'Horizon', 'Pictures', '(II)', 'PG', 'Adventure', 'Drama', 'War', 'British', 'POWs', 'are', 'forced', 'to', 'build', 'a', 'railway', 'bridge', 'across', 'the', 'river', 'Kwai', 'for', 'their', 'Japanese', 'captors,', 'not', 'knowing', 'that', 'the', 'allied', 'forces', 'are', 'planning', 'to', 'destroy', 'it.', 'David', 'Lean', 'Pierre', 'Boulle', 'Carl', 'Foreman', 'William', 'Holden', 'Alec', 'Guinness', 'Jack', 'Hawkins'], ['USA', 'Australia', 'English', 'Pixar', 'Animation', 'Studios', 'Walt', 'Disney', 'Pictures', 'G', 'Animation', 'Adventure', 'Comedy', 'After', 'his', 'son', 'is', 'captured', 'in', 'the', 'Great', 'Barrier', 'Reef', 'and', 'taken', 'to', 'Sydney,', 'a', 'timid', 'clownfish', 'sets', 'out', 'on', 'a', 'journey', 'to', 'bring', 'him', 'home.', 'Andrew', 'Stanton', 'Lee', 'Unkrich', 'Andrew', 'Stanton', 'Andrew', 'Stanton', 'Albert', 'Brooks', 'Ellen', 'DeGeneres', 'Alexander', 'Gould'], ['Soviet', 'Union', 'Russian', 'Mosfilm', 'Vtoroe', 'Tvorcheskoe', 'Obedinenie', 'Not', 'Rated', 'Drama', 'Sci-Fi', 'A', 'guide', 'leads', 'two', 'men', 'through', 'an', 'area', 'known', 'as', 'the', 'Zone', 'to', 'find', 'a', 'room', 'that', 'grants', 'wishes.', 'Andrei', 'Tarkovsky', 'Arkadiy', 'Strugatskiy', 'Boris', 'Strugatskiy', 'Alisa', 'Freyndlikh', 'Aleksandr', 'Kaydanovskiy', 'Anatoliy', 'Solonitsyn'], ['USA', 'English', 'Horizon', 'Pictures', 'Not', 'Rated', 'Crime', 'Drama', 'Thriller', 'An', 'ex-prize', 'fighter', 'turned', 'longshoreman', 'struggles', 'to', 'stand', 'up', 'to', 'his', 'corrupt', 'union', 'bosses.', 'Elia', 'Kazan', 'Budd', 'Schulberg', 'Budd', 'Schulberg', 'Marlon', 'Brando', 'Karl', 'Malden', 'Lee', 'J.', 'Cobb'], ['UK', 'English', 'German', 'Russian', 'London', 'Film', 'Productions', 'Not', 'Rated', 'Film-Noir', 'Mystery', 'Thriller', 'Pulp', 'novelist', 'Holly', 'Martins', 'travels', 'to', 'shadowy,', 'postwar', 'Vienna,', 'only', 'to', 'find', 'himself', 'investigating', 'the', 'mysterious', 'death', 'of', 'an', 'old', 'friend,', 'Harry', 'Lime.', 'Carol', 'Reed', 'Graham', 'Greene', 'Graham', 'Greene', 'Orson', 'Welles', 'Joseph', 'Cotten', 'Alida', 'Valli'], ['USA', 'UK', 'English', 'PolyGram', 'Filmed', 'Entertainment', 'Working', 'Title', 'Films', 'R', 'Crime', 'Drama', 'Thriller', 'Jerry', \"Lundegaard's\", 'inept', 'crime', 'falls', 'apart', 'due', 'to', 'his', 'and', 'his', \"henchmen's\", 'bungling', 'and', 'the', 'persistent', 'police', 'work', 'of', 'the', 'quite', 'pregnant', 'Marge', 'Gunderson.', 'Joel', 'Coen', 'Ethan', 'Coen', 'Ethan', 'Coen', 'Joel', 'Coen', 'William', 'H.', 'Macy', 'Frances', 'McDormand', 'Steve', 'Buscemi'], ['USA', 'Japan', 'English', 'Japanese', 'French', 'Miramax', 'A', 'Band', 'Apart', 'Super', 'Cool', 'ManChu', 'R', 'Action', 'Crime', 'Thriller', 'After', 'awakening', 'from', 'a', 'four-year', 'coma,', 'a', 'former', 'assassin', 'wreaks', 'vengeance', 'on', 'the', 'team', 'of', 'assassins', 'who', 'betrayed', 'her.', 'Quentin', 'Tarantino', 'Quentin', 'Tarantino', 'Quentin', 'Tarantino', 'Uma', 'Thurman', 'David', 'Carradine', 'Daryl', 'Hannah'], ['USA', 'English', 'Paramount', 'Pictures', 'Scott', 'Rudin', 'Productions', 'PG', 'Comedy', 'Drama', 'Sci-Fi', 'An', 'insurance', 'salesman', 'discovers', 'his', 'whole', 'life', 'is', 'actually', 'a', 'reality', 'TV', 'show.', 'Peter', 'Weir', 'Andrew', 'Niccol', 'Jim', 'Carrey', 'Ed', 'Harris', 'Laura', 'Linney'], ['Germany', 'USA', 'English', 'Hmong', 'Matten', 'Productions', 'Double', 'Nickel', 'Entertainment', 'Gerber', 'Pictures', 'R', 'Drama', 'Disgruntled', 'Korean', 'War', 'veteran', 'Walt', 'Kowalski', 'sets', 'out', 'to', 'reform', 'his', 'neighbor,', 'Thao', 'Lor,', 'a', 'Hmong', 'teenager', 'who', 'tried', 'to', 'steal', \"Kowalski's\", 'prized', 'possession:', 'a', '1972', 'Gran', 'Torino.', 'Clint', 'Eastwood', 'Nick', 'Schenk', 'Dave', 'Johannson', 'Clint', 'Eastwood', 'Bee', 'Vang', 'Christopher', 'Carley'], ['Japan', 'Japanese', 'English', 'Shochiku', 'Not', 'Rated', 'Drama', 'An', 'old', 'couple', 'visit', 'their', 'children', 'and', 'grandchildren', 'in', 'the', 'city,', 'but', 'receive', 'little', 'attention.', 'Yasujirô', 'Ozu', 'Kôgo', 'Noda', 'Yasujirô', 'Ozu', 'Chishû', 'Ryû', 'Chieko', 'Higashiyama', 'Sô', 'Yamamura'], ['USA', 'English', 'Russian', 'Vietnamese', 'French', 'EMI', 'Films', 'Universal', 'Pictures', 'R', 'Drama', 'War', 'An', 'in-depth', 'examination', 'of', 'the', 'ways', 'in', 'which', 'the', 'U.S.', 'Vietnam', 'War', 'impacts', 'and', 'disrupts', 'the', 'lives', 'of', 'people', 'in', 'a', 'small', 'industrial', 'town', 'in', 'Pennsylvania.', 'Michael', 'Cimino', 'Michael', 'Cimino', 'Deric', 'Washburn', 'Robert', 'De', 'Niro', 'Christopher', 'Walken', 'John', 'Cazale'], ['South', 'Korea', 'Korean', 'English', 'CJ', 'Entertainment', 'Muhan', 'Investment', 'Sidus', 'Not', 'Rated', 'Action', 'Crime', 'Drama', 'In', 'a', 'small', 'Korean', 'province', 'in', '1986,', 'two', 'detectives', 'struggle', 'with', 'the', 'case', 'of', 'multiple', 'young', 'women', 'being', 'found', 'raped', 'and', 'murdered', 'by', 'an', 'unknown', 'culprit.', 'Bong', 'Joon', 'Ho', 'Bong', 'Joon', 'Ho', 'Kwang-rim', 'Kim', 'Kang-ho', 'Song', 'Sang-kyung', 'Kim', 'Roe-ha', 'Kim'], ['Argentina', 'Spain', 'France', 'UK', 'Spanish', 'British', 'Film', 'Institute', '(BFI)', 'Canal+', 'Corner', 'Producciones', 'R', 'Comedy', 'Drama', 'Thriller', 'Six', 'short', 'stories', 'that', 'explore', 'the', 'extremities', 'of', 'human', 'behavior', 'involving', 'people', 'in', 'distress.', 'Damián', 'Szifron', 'Germán', 'Servidio', 'Damián', 'Szifron', 'Darío', 'Grandinetti', 'María', 'Marull', 'Mónica', 'Villa'], ['Spain', 'English', 'Saami', 'The', 'SPA', 'Studios', 'Atresmedia', 'Cine', 'PG', 'Animation', 'Adventure', 'Comedy', 'A', 'simple', 'act', 'of', 'kindness', 'always', 'sparks', 'another,', 'even', 'in', 'a', 'frozen,', 'faraway', 'place.', 'When', \"Smeerensburg's\", 'new', 'postman,', 'Jesper,', 'befriends', 'toymaker', 'Klaus,', 'their', 'gifts', 'melt', 'an', 'age-old', 'feud', 'and', 'deliver', 'a', 'sleigh', 'full', 'of', 'holiday', 'traditions.', 'Sergio', 'Pablos', 'Carlos', 'Martínez', 'López', 'Sergio', 'Pablos', 'Sergio', 'Pablos', 'Jason', 'Schwartzman', 'J.K.', 'Simmons', 'Rashida', 'Jones'], ['Turkey', 'France', 'Bulgaria', 'Turkish', 'Artcam', 'International', 'Filma-Cass', 'Geopoly', 'TV-MA', 'Crime', 'Drama', 'Thriller', 'Baran', 'the', 'Bandit,', 'released', 'from', 'prison', 'after', '35', 'years,', 'searches', 'for', 'vengeance', 'and', 'his', 'lover.', 'Yavuz', 'Turgul', 'Yavuz', 'Turgul', 'Sener', 'Sen', 'Ugur', 'Yücel', 'Sermin', 'Hürmeriç'], ['India', 'Hindi', 'English', 'Matchbox', 'Pictures', 'Viacom18', 'Motion', 'Pictures', 'Not', 'Rated', 'Crime', 'Thriller', 'A', 'series', 'of', 'mysterious', 'events', 'change', 'the', 'life', 'of', 'a', 'blind', 'pianist,', 'who', 'must', 'now', 'report', 'a', 'crime', 'that', 'he', 'should', 'technically', 'know', 'nothing', 'of.', 'Sriram', 'Raghavan', 'Arijit', 'Biswas', 'Yogesh', 'Chandekar', 'Ayushmann', 'Khurrana', 'Tabu', 'Radhika', 'Apte'], ['Australia', 'English', 'Yiddish', 'Melodrama', 'Pictures', 'Not', 'Rated', 'Animation', 'Comedy', 'Drama', 'A', 'tale', 'of', 'friendship', 'between', 'two', 'unlikely', 'pen', 'pals:', 'Mary,', 'a', 'lonely,', 'eight-year-old', 'girl', 'living', 'in', 'the', 'suburbs', 'of', 'Melbourne,', 'and', 'Max,', 'a', 'forty-four-year', 'old,', 'severely', 'obese', 'man', 'living', 'in', 'New', 'York.', 'Adam', 'Elliot', 'Adam', 'Elliot', 'Toni', 'Collette', 'Philip', 'Seymour', 'Hoffman', 'Eric', 'Bana'], ['USA', 'UK', 'English', 'German', 'Hebrew', 'Spanish', 'Polygram', 'Filmed', 'Entertainment', 'Working', 'Title', 'Films', 'R', 'Comedy', 'Crime', 'Sport', 'Jeff', '\"The', 'Dude\"', 'Lebowski,', 'mistaken', 'for', 'a', 'millionaire', 'of', 'the', 'same', 'name,', 'seeks', 'restitution', 'for', 'his', 'ruined', 'rug', 'and', 'enlists', 'his', 'bowling', 'buddies', 'to', 'help', 'get', 'it.', 'Joel', 'Coen', 'Ethan', 'Coen', 'Ethan', 'Coen', 'Joel', 'Coen', 'Jeff', 'Bridges', 'John', 'Goodman', 'Julianne', 'Moore'], ['Ireland', 'UK', 'English', \"Hell's\", 'Kitchen', 'Films', 'Universal', 'Pictures', 'R', 'Biography', 'Drama', 'A', \"man's\", 'coerced', 'confession', 'to', 'an', 'I.R.A.', 'bombing', 'he', 'did', 'not', 'commit', 'results', 'in', 'the', 'imprisonment', 'of', 'his', 'father', 'as', 'well.', 'An', 'English', 'lawyer', 'fights', 'to', 'free', 'them.', 'Jim', 'Sheridan', 'Gerry', 'Conlon', 'Terry', 'George', 'Daniel', 'Day-Lewis', 'Pete', 'Postlethwaite', 'Alison', 'Crosbie'], ['USA', 'English', 'Twentieth', 'Century', 'Fox', 'Regency', 'Enterprises', 'TSG', 'Entertainment', 'R', 'Drama', 'Mystery', 'Thriller', 'With', 'his', \"wife's\", 'disappearance', 'having', 'become', 'the', 'focus', 'of', 'an', 'intense', 'media', 'circus,', 'a', 'man', 'sees', 'the', 'spotlight', 'turned', 'on', 'him', 'when', \"it's\", 'suspected', 'that', 'he', 'may', 'not', 'be', 'innocent.', 'David', 'Fincher', 'Gillian', 'Flynn', 'Gillian', 'Flynn', 'Ben', 'Affleck', 'Rosamund', 'Pike', 'Neil', 'Patrick', 'Harris'], ['Australia', 'USA', 'English', 'Japanese', 'Summit', 'Entertainment', 'Cross', 'Creek', 'Pictures', 'Demarest', 'Films', 'R', 'Biography', 'Drama', 'History', 'World', 'War', 'II', 'American', 'Army', 'Medic', 'Desmond', 'T.', 'Doss,', 'who', 'served', 'during', 'the', 'Battle', 'of', 'Okinawa,', 'refuses', 'to', 'kill', 'people,', 'and', 'becomes', 'the', 'first', 'man', 'in', 'American', 'history', 'to', 'receive', 'the', 'Medal', 'of', 'Honor', 'without', 'firing', 'a', 'shot.', 'Mel', 'Gibson', 'Robert', 'Schenkkan', 'Andrew', 'Knight', 'Andrew', 'Garfield', 'Sam', 'Worthington', 'Luke', 'Bracey'], ['Germany', 'USA', 'English', 'French', 'German', 'Fox', 'Searchlight', 'Pictures', 'Indian', 'Paintbrush', 'Studio', 'Babelsberg', 'R', 'Adventure', 'Comedy', 'Crime', 'A', 'writer', 'encounters', 'the', 'owner', 'of', 'an', 'aging', 'high-class', 'hotel,', 'who', 'tells', 'him', 'of', 'his', 'early', 'years', 'serving', 'as', 'a', 'lobby', 'boy', 'in', 'the', \"hotel's\", 'glorious', 'years', 'under', 'an', 'exceptional', 'concierge.', 'Wes', 'Anderson', 'Stefan', 'Zweig', 'Wes', 'Anderson', 'Ralph', 'Fiennes', 'F.', 'Murray', 'Abraham', 'Mathieu', 'Amalric'], ['USA', 'English', 'German', 'Romaine', 'Film', 'Corporation', 'Passed', 'Comedy', 'War', 'During', 'the', 'Nazi', 'occupation', 'of', 'Poland,', 'an', 'acting', 'troupe', 'becomes', 'embroiled', 'in', 'a', 'Polish', \"soldier's\", 'efforts', 'to', 'track', 'down', 'a', 'German', 'spy.', 'Ernst', 'Lubitsch', 'Melchior', 'Lengyel', 'Edwin', 'Justus', 'Mayer', 'Carole', 'Lombard', 'Jack', 'Benny', 'Robert', 'Stack'], ['USA', 'France', 'English', 'Italian', 'French', 'Japanese', 'Chernin', 'Entertainment', 'Turnpike', 'Films', 'Twentieth', 'Century', 'Fox', 'PG-13', 'Action', 'Biography', 'Drama', 'American', 'car', 'designer', 'Carroll', 'Shelby', 'and', 'driver', 'Ken', 'Miles', 'battle', 'corporate', 'interference', 'and', 'the', 'laws', 'of', 'physics', 'to', 'build', 'a', 'revolutionary', 'race', 'car', 'for', 'Ford', 'in', 'order', 'to', 'defeat', 'Ferrari', 'at', 'the', '24', 'Hours', 'of', 'Le', 'Mans', 'in', '1966.', 'James', 'Mangold', 'Jez', 'Butterworth', 'John-Henry', 'Butterworth', 'Matt', 'Damon', 'Christian', 'Bale', 'Jon', 'Bernthal'], ['Sweden', 'Swedish', 'English', 'American', 'International', 'Pictures', '(AIP)', 'Aurora', 'Svensk', 'Filmindustri', '(SF)', 'Not', 'Rated', 'Drama', 'Thriller', 'A', 'nurse', 'is', 'put', 'in', 'charge', 'of', 'a', 'mute', 'actress', 'and', 'finds', 'that', 'their', 'personae', 'are', 'melding', 'together.', 'Ingmar', 'Bergman', 'Ingmar', 'Bergman', 'Bibi', 'Andersson', 'Liv', 'Ullmann', 'Margaretha', 'Krook'], ['USA', 'Austria', 'Switzerland', 'English', 'German', 'French', 'Castle', 'Rock', 'Entertainment', 'Detour', 'Filmproduction', 'Filmhaus', 'Wien', 'Universa', 'Filmproduktions', 'R', 'Drama', 'Romance', 'A', 'young', 'man', 'and', 'woman', 'meet', 'on', 'a', 'train', 'in', 'Europe,', 'and', 'wind', 'up', 'spending', 'one', 'evening', 'together', 'in', 'Vienna.', 'Unfortunately,', 'both', 'know', 'that', 'this', 'will', 'probably', 'be', 'their', 'only', 'night', 'together.', 'Richard', 'Linklater', 'Richard', 'Linklater', 'Kim', 'Krizan', 'Ethan', 'Hawke', 'Julie', 'Delpy', 'Andrea', 'Eckert'], ['USA', 'Canada', 'English', 'French', 'DreamWorks', 'Kemp', 'Company', 'Splendid', 'Pictures', 'PG-13', 'Biography', 'Crime', 'Drama', 'A', 'seasoned', 'FBI', 'agent', 'pursues', 'Frank', 'Abagnale', 'Jr.', 'who,', 'before', 'his', '19th', 'birthday,', 'successfully', 'forged', 'millions', 'of', \"dollars'\", 'worth', 'of', 'checks', 'while', 'posing', 'as', 'a', 'Pan', 'Am', 'pilot,', 'a', 'doctor,', 'and', 'a', 'legal', 'prosecutor.', 'Steven', 'Spielberg', 'Jeff', 'Nathanson', 'Frank', 'Abagnale', 'Jr.', 'Leonardo', 'DiCaprio', 'Tom', 'Hanks', 'Christopher', 'Walken'], ['USA', 'English', 'DreamWorks', 'Animation', 'Mad', 'Hatter', 'Entertainment', 'Vertigo', 'Entertainment', 'PG', 'Animation', 'Action', 'Adventure', 'A', 'hapless', 'young', 'Viking', 'who', 'aspires', 'to', 'hunt', 'dragons', 'becomes', 'the', 'unlikely', 'friend', 'of', 'a', 'young', 'dragon', 'himself,', 'and', 'learns', 'there', 'may', 'be', 'more', 'to', 'the', 'creatures', 'than', 'he', 'assumed.', 'Dean', 'DeBlois', 'Chris', 'Sanders', 'William', 'Davies', 'Dean', 'DeBlois', 'Jay', 'Baruchel', 'Gerard', 'Butler', 'Christopher', 'Mintz-Plasse'], ['USA', 'English', 'Buster', 'Keaton', 'Productions', 'Joseph', 'M.', 'Schenck', 'Productions', 'Passed', 'Action', 'Adventure', 'Comedy', 'When', 'Union', 'spies', 'steal', 'an', \"engineer's\", 'beloved', 'locomotive,', 'he', 'pursues', 'it', 'single-handedly', 'and', 'straight', 'through', 'enemy', 'lines.', 'Clyde', 'Bruckman', 'Buster', 'Keaton', 'Buster', 'Keaton', 'Clyde', 'Bruckman', 'Buster', 'Keaton', 'Marion', 'Mack', 'Glen', 'Cavender'], ['USA', 'English', 'Columbia', 'Pictures', 'Not', 'Rated', 'Comedy', 'Drama', 'A', 'naive', 'man', 'is', 'appointed', 'to', 'fill', 'a', 'vacancy', 'in', 'the', 'United', 'States', 'Senate.', 'His', 'plans', 'promptly', 'collide', 'with', 'political', 'corruption,', 'but', 'he', \"doesn't\", 'back', 'down.', 'Frank', 'Capra', 'Sidney', 'Buchman', 'Lewis', 'R.', 'Foster', 'James', 'Stewart', 'Jean', 'Arthur', 'Claude', 'Rains'], ['USA', 'English', 'Buster', 'Keaton', 'Productions', 'Not', 'Rated', 'Action', 'Comedy', 'Romance', 'A', 'film', 'projectionist', 'longs', 'to', 'be', 'a', 'detective,', 'and', 'puts', 'his', 'meagre', 'skills', 'to', 'work', 'when', 'he', 'is', 'framed', 'by', 'a', 'rival', 'for', 'stealing', 'his', \"girlfriend's\", \"father's\", 'pocketwatch.', 'Buster', 'Keaton', 'Jean', 'C.', 'Havez', 'Joseph', 'A.', 'Mitchell', 'Buster', 'Keaton', 'Kathryn', 'McGuire', 'Joe', 'Keaton'], ['USA', 'English', 'Alcon', 'Entertainment', '8:38', 'Productions', 'Madhouse', 'Entertainment', 'R', 'Crime', 'Drama', 'Mystery', 'When', 'Keller', \"Dover's\", 'daughter', 'and', 'her', 'friend', 'go', 'missing,', 'he', 'takes', 'matters', 'into', 'his', 'own', 'hands', 'as', 'the', 'police', 'pursue', 'multiple', 'leads', 'and', 'the', 'pressure', 'mounts.', 'Denis', 'Villeneuve', 'Aaron', 'Guzikowski', 'Hugh', 'Jackman', 'Jake', 'Gyllenhaal', 'Viola', 'Davis'], ['UK', 'USA', 'English', 'Regency', 'Enterprises', 'River', 'Road', 'Entertainment', 'Plan', 'B', 'Entertainment', 'R', 'Biography', 'Drama', 'History', 'In', 'the', 'antebellum', 'United', 'States,', 'Solomon', 'Northup,', 'a', 'free', 'black', 'man', 'from', 'upstate', 'New', 'York,', 'is', 'abducted', 'and', 'sold', 'into', 'slavery.', 'Steve', 'McQueen', 'John', 'Ridley', 'Solomon', 'Northup', 'Chiwetel', 'Ejiofor', 'Michael', 'Kenneth', 'Williams', 'Michael', 'Fassbender'], ['USA', 'English', 'Jalem', 'Productions', 'GP', 'Crime', 'Drama', 'A', 'laid', 'back', 'Southern', 'man', 'is', 'sentenced', 'to', 'two', 'years', 'in', 'a', 'rural', 'prison,', 'but', 'refuses', 'to', 'conform.', 'Stuart', 'Rosenberg', 'Donn', 'Pearce', 'Frank', 'Pierson', 'Paul', 'Newman', 'George', 'Kennedy', 'Strother', 'Martin'], ['Australia', 'USA', 'South', 'Africa', 'English', 'Russian', 'Warner', 'Bros.', 'Village', 'Roadshow', 'Pictures', 'Kennedy', 'Miller', 'Productions', 'R', 'Action', 'Adventure', 'Sci-Fi', 'In', 'a', 'post-apocalyptic', 'wasteland,', 'a', 'woman', 'rebels', 'against', 'a', 'tyrannical', 'ruler', 'in', 'search', 'for', 'her', 'homeland', 'with', 'the', 'aid', 'of', 'a', 'group', 'of', 'female', 'prisoners,', 'a', 'psychotic', 'worshiper,', 'and', 'a', 'drifter', 'named', 'Max.', 'George', 'Miller', 'George', 'Miller', 'Brendan', 'McCarthy', 'Tom', 'Hardy', 'Charlize', 'Theron', 'Nicholas', 'Hoult'], ['UK', 'USA', 'English', 'German', 'French', 'Peregrine', 'Hawk', 'Films', 'Warner', 'Bros.', 'PG', 'Adventure', 'Drama', 'History', 'An', 'Irish', 'rogue', 'wins', 'the', 'heart', 'of', 'a', 'rich', 'widow', 'and', 'assumes', 'her', 'dead', \"husband's\", 'aristocratic', 'position', 'in', '18th-century', 'England.', 'Stanley', 'Kubrick', 'Stanley', 'Kubrick', 'William', 'Makepeace', 'Thackeray', 'Ryan', \"O'Neal\", 'Marisa', 'Berenson', 'Patrick', 'Magee'], ['France', 'Italy', 'French', 'English', 'Spanish', 'German', 'Italian', 'Russian', 'Compagnie', 'Industrielle', 'et', 'Commerciale', 'Cinématographique', '(CICC)', 'Filmsonor', 'Vera', 'Films', 'Not', 'Rated', 'Adventure', 'Drama', 'Thriller', 'In', 'a', 'decrepit', 'South', 'American', 'village,', 'four', 'men', 'are', 'hired', 'to', 'transport', 'an', 'urgent', 'nitroglycerine', 'shipment', 'without', 'the', 'equipment', 'that', 'would', 'make', 'it', 'safe.', 'Henri-Georges', 'Clouzot', 'Georges', 'Arnaud', 'Henri-Georges', 'Clouzot', 'Yves', 'Montand', 'Charles', 'Vanel', 'Peter', 'van', 'Eyck'], ['USA', 'English', 'Metro-Goldwyn-Mayer', '(MGM)', 'R', 'Drama', 'A', 'television', 'network', 'cynically', 'exploits', 'a', 'deranged', 'former', \"anchor's\", 'ravings', 'and', 'revelations', 'about', 'the', 'news', 'media', 'for', 'its', 'own', 'profit.', 'Sidney', 'Lumet', 'Paddy', 'Chayefsky', 'Faye', 'Dunaway', 'William', 'Holden', 'Peter', 'Finch'], ['USA', 'English', 'Columbia', 'Pictures', 'Act', 'III', 'Act', 'III', 'Communications', 'R', 'Adventure', 'Drama', 'After', 'the', 'death', 'of', 'one', 'of', 'his', 'friends,', 'a', 'writer', 'recounts', 'a', 'boyhood', 'journey', 'with', 'his', 'friends', 'to', 'find', 'the', 'body', 'of', 'a', 'missing', 'boy.', 'Rob', 'Reiner', 'Stephen', 'King', 'Raynold', 'Gideon', 'Wil', 'Wheaton', 'River', 'Phoenix', 'Corey', 'Feldman'], ['USA', 'English', 'Danish', 'Paramount', 'Vantage', 'Art', 'Linson', 'Productions', 'Into', 'the', 'Wild', 'R', 'Adventure', 'Biography', 'Drama', 'After', 'graduating', 'from', 'Emory', 'University,', 'top', 'student', 'and', 'athlete', 'Christopher', 'McCandless', 'abandons', 'his', 'possessions,', 'gives', 'his', 'entire', '$24,000', 'savings', 'account', 'to', 'charity', 'and', 'hitchhikes', 'to', 'Alaska', 'to', 'live', 'in', 'the', 'wilderness.', 'Along', 'the', 'way,', 'Christopher', 'encounters', 'a', 'series', 'of', 'characters', 'that', 'shape', 'his', 'life.', 'Sean', 'Penn', 'Sean', 'Penn', 'Jon', 'Krakauer', 'Emile', 'Hirsch', 'Vince', 'Vaughn', 'Catherine', 'Keener'], ['USA', 'English', 'Irish', 'Warner', 'Bros.', 'Lakeshore', 'Entertainment', 'Malpaso', 'Productions', 'PG-13', 'Drama', 'Sport', 'A', 'determined', 'woman', 'works', 'with', 'a', 'hardened', 'boxing', 'trainer', 'to', 'become', 'a', 'professional.', 'Clint', 'Eastwood', 'Paul', 'Haggis', 'F.X.', 'Toole', 'Hilary', 'Swank', 'Clint', 'Eastwood', 'Morgan', 'Freeman'], ['UK', 'English', 'Latin', 'HandMade', 'Films', 'Python', '(Monty)', 'Pictures', 'R', 'Comedy', 'Born', 'on', 'the', 'original', 'Christmas', 'in', 'the', 'stable', 'next', 'door', 'to', 'Jesus', 'Christ,', 'Brian', 'of', 'Nazareth', '(Graham', 'Chapman)', 'spends', 'his', 'life', 'being', 'mistaken', 'for', 'a', 'messiah.', 'Terry', 'Jones', 'Graham', 'Chapman', 'John', 'Cleese', 'Graham', 'Chapman', 'John', 'Cleese', 'Michael', 'Palin'], ['UK', 'USA', 'English', 'Japanese', 'Stage', '6', 'Films', 'Inferno', 'Distribution', 'Hachiko', 'G', 'Drama', 'Family', 'A', 'college', 'professor', 'bonds', 'with', 'an', 'abandoned', 'dog', 'he', 'takes', 'into', 'his', 'home.', 'Lasse', 'Hallström', 'Stephen', 'P.', 'Lindsey', 'Kaneto', 'Shindô', 'Richard', 'Gere', 'Joan', 'Allen', 'Cary-Hiroyuki', 'Tagawa'], ['USA', 'English', 'Metro-Goldwyn-Mayer', '(MGM)', 'G', 'Adventure', 'Drama', 'History', 'After', 'a', 'Jewish', 'prince', 'is', 'betrayed', 'and', 'sent', 'into', 'slavery', 'by', 'a', 'Roman', 'friend,', 'he', 'regains', 'his', 'freedom', 'and', 'comes', 'back', 'for', 'revenge.', 'William', 'Wyler', 'Lew', 'Wallace', 'Karl', 'Tunberg', 'Charlton', 'Heston', 'Jack', 'Hawkins', 'Stephen', 'Boyd'], ['USA', 'UK', 'English', 'Vietnamese', 'Hemdale', 'Cinema', \"'84\", 'Cinema', '86', 'R', 'Drama', 'War', 'A', 'young', 'soldier', 'in', 'Vietnam', 'faces', 'a', 'moral', 'crisis', 'when', 'confronted', 'with', 'the', 'horrors', 'of', 'war', 'and', 'the', 'duality', 'of', 'man.', 'Oliver', 'Stone', 'Oliver', 'Stone', 'Charlie', 'Sheen', 'Tom', 'Berenger', 'Willem', 'Dafoe'], ['UK', 'Germany', 'USA', 'English', 'German', 'Italian', 'French', 'Spanish', 'Exclusive', 'Media', 'Group', 'Cross', 'Creek', 'Pictures', 'Imagine', 'Entertainment', 'R', 'Biography', 'Drama', 'Sport', 'The', 'merciless', '1970s', 'rivalry', 'between', 'Formula', 'One', 'rivals', 'James', 'Hunt', 'and', 'Niki', 'Lauda.', 'Ron', 'Howard', 'Peter', 'Morgan', 'Daniel', 'Brühl', 'Chris', 'Hemsworth', 'Olivia', 'Wilde'], ['France', 'French', 'Société', 'générale', 'des', 'films', 'Not', 'Rated', 'Biography', 'Drama', 'History', 'In', '1431,', 'Jeanne', \"d'Arc\", 'is', 'placed', 'on', 'trial', 'on', 'charges', 'of', 'heresy.', 'The', 'ecclesiastical', 'jurists', 'attempt', 'to', 'force', 'Jeanne', 'to', 'recant', 'her', 'claims', 'of', 'holy', 'visions.', 'Carl', 'Theodor', 'Dreyer', 'Joseph', 'Delteil', 'Carl', 'Theodor', 'Dreyer', 'Maria', 'Falconetti', 'Eugene', 'Silvain', 'André', 'Berley'], ['USA', 'English', 'Spanish', 'Twentieth', 'Century', 'Fox', 'Marvel', 'Entertainment', 'TSG', 'Entertainment', 'R', 'Action', 'Drama', 'Sci-Fi', 'In', 'a', 'future', 'where', 'mutants', 'are', 'nearly', 'extinct,', 'an', 'elderly', 'and', 'weary', 'Logan', 'leads', 'a', 'quiet', 'life.', 'But', 'when', 'Laura,', 'a', 'mutant', 'child', 'pursued', 'by', 'scientists,', 'comes', 'to', 'him', 'for', 'help,', 'he', 'must', 'get', 'her', 'to', 'safety.', 'James', 'Mangold', 'James', 'Mangold', 'Scott', 'Frank', 'Hugh', 'Jackman', 'Patrick', 'Stewart', 'Dafne', 'Keen'], ['USA', 'English', 'Latin', 'Touchstone', 'Pictures', 'Silver', 'Screen', 'Partners', 'IV', 'A', 'Steven', 'Haft', 'Production', 'PG', 'Comedy', 'Drama', 'English', 'teacher', 'John', 'Keating', 'inspires', 'his', 'students', 'to', 'look', 'at', 'poetry', 'with', 'a', 'different', 'perspective', 'of', 'authentic', 'knowledge', 'and', 'feelings.', '-Camilo', 'Alarcón', 'Peter', 'Weir', 'Tom', 'Schulman', 'Robin', 'Williams', 'Robert', 'Sean', 'Leonard', 'Ethan', 'Hawke'], ['UK', 'USA', 'English', 'Warner', 'Bros.', 'Heyday', 'Films', 'Moving', 'Picture', 'Company', '(MPC)', 'PG-13', 'Adventure', 'Drama', 'Fantasy', 'Harry,', 'Ron,', 'and', 'Hermione', 'search', 'for', \"Voldemort's\", 'remaining', 'Horcruxes', 'in', 'their', 'effort', 'to', 'destroy', 'the', 'Dark', 'Lord', 'as', 'the', 'final', 'battle', 'rages', 'on', 'at', 'Hogwarts.', 'David', 'Yates', 'Steve', 'Kloves', 'J.K.', 'Rowling', 'Daniel', 'Radcliffe', 'Emma', 'Watson', 'Rupert', 'Grint'], ['Soviet', 'Union', 'Russian', 'Italian', 'Tatar', 'Mosfilm', 'Tvorcheskoe', 'Obedinienie', 'Pisateley', 'i', 'Kinorabotnikov', 'R', 'Biography', 'Drama', 'History', 'The', 'life,', 'times', 'and', 'afflictions', 'of', 'the', 'fifteenth-century', 'Russian', 'iconographer', 'St.', 'Andrei', 'Rublev.', 'Andrei', 'Tarkovsky', 'Andrey', 'Konchalovskiy', 'Andrei', 'Tarkovsky', 'Anatoliy', 'Solonitsyn', 'Ivan', 'Lapikov', 'Nikolay', 'Grinko'], ['France', 'French', 'English', 'Les', 'Films', 'du', 'Carrosse', 'Sédif', 'Productions', 'Not', 'Rated', 'Crime', 'Drama', 'A', 'young', 'boy,', 'left', 'without', 'attention,', 'delves', 'into', 'a', 'life', 'of', 'petty', 'crime.', 'François', 'Truffaut', 'François', 'Truffaut', 'Marcel', 'Moussy', 'Jean-Pierre', 'Léaud', 'Albert', 'Rémy', 'Claire', 'Maurier'], ['UK', 'South', 'Africa', 'Italy', 'English', 'French', 'Kinyarwanda', 'United', 'Artists', 'Lions', 'Gate', 'Films', 'Industrial', 'Development', 'Corporation', 'of', 'South', 'Africa', 'PG-13', 'Biography', 'Drama', 'History', 'Paul', 'Rusesabagina', 'was', 'a', 'hotel', 'manager', 'who', 'housed', 'over', 'a', 'thousand', 'Tutsi', 'refugees', 'during', 'their', 'struggle', 'against', 'the', 'Hutu', 'militia', 'in', 'Rwanda.', 'Terry', 'George', 'Keir', 'Pearson', 'Terry', 'George', 'Don', 'Cheadle', 'Sophie', 'Okonedo', 'Joaquin', 'Phoenix'], ['Mexico', 'Spanish', 'Altavista', 'Films', 'Zeta', 'Film', 'R', 'Drama', 'Thriller', 'A', 'horrific', 'car', 'accident', 'connects', 'three', 'stories,', 'each', 'involving', 'characters', 'dealing', 'with', 'loss,', 'regret,', 'and', \"life's\", 'harsh', 'realities,', 'all', 'in', 'the', 'name', 'of', 'love.', 'Alejandro', 'G.', 'Iñárritu', 'Guillermo', 'Arriaga', 'Emilio', 'Echevarría', 'Gael', 'García', 'Bernal', 'Goya', 'Toledo'], ['India', 'Hindi', 'ROMP', 'UTV', 'Motion', 'Pictures', 'Not', 'Rated', 'Comedy', 'Drama', 'The', 'story', 'of', 'six', 'young', 'Indians', 'who', 'assist', 'an', 'English', 'woman', 'to', 'film', 'a', 'documentary', 'on', 'the', 'freedom', 'fighters', 'from', 'their', 'past,', 'and', 'the', 'events', 'that', 'lead', 'them', 'to', 'relive', 'the', 'long-forgotten', 'saga', 'of', 'freedom.', 'Rakeysh', 'Omprakash', 'Mehra', 'Renzil', \"D'Silva\", 'Prasoon', 'Joshi', 'Aamir', 'Khan', 'Soha', 'Ali', 'Khan', 'Siddharth'], ['South', 'Korea', 'Korean', 'Japanese', 'Moho', 'Film', 'Yong', 'Film', 'Not', 'Rated', 'Drama', 'Romance', 'Thriller', 'A', 'woman', 'is', 'hired', 'as', 'a', 'handmaiden', 'to', 'a', 'Japanese', 'heiress,', 'but', 'secretly', 'she', 'is', 'involved', 'in', 'a', 'plot', 'to', 'defraud', 'her.', 'Chan-wook', 'Park', 'Sarah', 'Waters', 'Seo-kyeong', 'Jeong', 'Min-hee', 'Kim', 'Jung-woo', 'Ha', 'Jin-woong', 'Cho'], ['USA', 'English', 'Participant', 'First', 'Look', 'Media', 'Anonymous', 'Content', 'R', 'Biography', 'Crime', 'Drama', 'The', 'true', 'story', 'of', 'how', 'the', 'Boston', 'Globe', 'uncovered', 'the', 'massive', 'scandal', 'of', 'child', 'molestation', 'and', 'cover-up', 'within', 'the', 'local', 'Catholic', 'Archdiocese,', 'shaking', 'the', 'entire', 'Catholic', 'Church', 'to', 'its', 'core.', 'Tom', 'McCarthy', 'Josh', 'Singer', 'Tom', 'McCarthy', 'Mark', 'Ruffalo', 'Michael', 'Keaton', 'Rachel', 'McAdams'], ['Japan', 'USA', 'Japanese', 'Nibariki', 'Tokuma', 'Shoten', 'Hakuhodo', 'PG', 'Animation', 'Adventure', 'Fantasy', 'Warrior', 'and', 'pacifist', 'Princess', 'Nausicaä', 'desperately', 'struggles', 'to', 'prevent', 'two', 'warring', 'nations', 'from', 'destroying', 'themselves', 'and', 'their', 'dying', 'planet.', 'Hayao', 'Miyazaki', 'Hayao', 'Miyazaki', 'Hayao', 'Miyazaki', 'Sumi', 'Shimamoto', 'Mahito', 'Tsujimura', 'Hisako', 'Kyôda'], ['France', 'French', 'Italian', 'Lilies', 'Films', 'Arte', 'France', 'Cinéma', 'Hold', 'Up', 'Films', 'R', 'Drama', 'Romance', 'On', 'an', 'isolated', 'island', 'in', 'Brittany', 'at', 'the', 'end', 'of', 'the', 'eighteenth', 'century,', 'a', 'female', 'painter', 'is', 'obliged', 'to', 'paint', 'a', 'wedding', 'portrait', 'of', 'a', 'young', 'woman.', 'Céline', 'Sciamma', 'Céline', 'Sciamma', 'Noémie', 'Merlant', 'Adèle', 'Haenel', 'Luàna', 'Bajrami'], ['USA', 'English', 'Chartoff-Winkler', 'Productions', 'PG', 'Drama', 'Sport', 'A', 'small-time', 'boxer', 'gets', 'a', 'supremely', 'rare', 'chance', 'to', 'fight', 'a', 'heavy-weight', 'champion', 'in', 'a', 'bout', 'in', 'which', 'he', 'strives', 'to', 'go', 'the', 'distance', 'for', 'his', 'self-respect.', 'John', 'G.', 'Avildsen', 'Sylvester', 'Stallone', 'Sylvester', 'Stallone', 'Talia', 'Shire', 'Burt', 'Young'], ['USA', 'English', 'French', 'Selznick', 'International', 'Pictures', 'Approved', 'Drama', 'Mystery', 'Romance', 'A', 'self-conscious', 'woman', 'juggles', 'adjusting', 'to', 'her', 'new', 'role', 'as', 'an', \"aristocrat's\", 'wife', 'and', 'avoiding', 'being', 'intimidated', 'by', 'his', 'first', \"wife's\", 'spectral', 'presence.', 'Alfred', 'Hitchcock', 'Daphne', 'Du', 'Maurier', 'Robert', 'E.', 'Sherwood', 'Laurence', 'Olivier', 'Joan', 'Fontaine', 'George', 'Sanders'], ['USA', 'English', 'Pixar', 'Animation', 'Studios', 'Walt', 'Disney', 'Pictures', 'G', 'Animation', 'Adventure', 'Comedy', 'In', 'order', 'to', 'power', 'the', 'city,', 'monsters', 'have', 'to', 'scare', 'children', 'so', 'that', 'they', 'scream.', 'However,', 'the', 'children', 'are', 'toxic', 'to', 'the', 'monsters,', 'and', 'after', 'a', 'child', 'gets', 'through,', '2', 'monsters', 'realize', 'things', 'may', 'not', 'be', 'what', 'they', 'think.', 'Pete', 'Docter', 'David', 'Silverman', 'Pete', 'Docter', 'Jill', 'Culton', 'Billy', 'Crystal', 'John', 'Goodman', 'Mary', 'Gibbs'], ['France', 'French', 'Canal+', 'Cofinergie', '6', 'Egg', 'Pictures', 'Not', 'Rated', 'Crime', 'Drama', '24', 'hours', 'in', 'the', 'lives', 'of', 'three', 'young', 'men', 'in', 'the', 'French', 'suburbs', 'the', 'day', 'after', 'a', 'violent', 'riot.', 'Mathieu', 'Kassovitz', 'Mathieu', 'Kassovitz', 'Vincent', 'Cassel', 'Hubert', 'Koundé', 'Saïd', 'Taghmaoui'], ['USA', 'English', 'Columbia', 'Pictures', 'Approved', 'Comedy', 'Romance', 'A', 'spoiled', 'heiress', 'running', 'away', 'from', 'her', 'family', 'is', 'helped', 'by', 'a', 'man', 'who', 'is', 'actually', 'a', 'reporter', 'in', 'need', 'of', 'a', 'story.', 'Frank', 'Capra', 'Robert', 'Riskin', 'Samuel', 'Hopkins', 'Adams', 'Clark', 'Gable', 'Claudette', 'Colbert', 'Walter', 'Connolly'], ['India', 'Hindi', 'Jar', 'Pictures', 'AKFPL', 'Bohra', 'Bros', 'Productions', 'R', 'Action', 'Crime', 'Drama', 'A', 'clash', 'between', 'Sultan', 'and', 'Shahid', 'Khan', 'leads', 'to', 'the', 'expulsion', 'of', 'Khan', 'from', 'Wasseypur,', 'and', 'ignites', 'a', 'deadly', 'blood', 'feud', 'spanning', 'three', 'generations.', 'Anurag', 'Kashyap', 'Akhilesh', 'Jaiswal', 'Anurag', 'Kashyap', 'Manoj', 'Bajpayee', 'Richa', 'Chadha', 'Nawazuddin', 'Siddiqui'], ['Hong', 'Kong', 'China', 'Cantonese', 'Shanghainese', 'French', 'Spanish', 'Block', '2', 'Pictures', 'Jet', 'Tone', 'Production', 'Orly', 'Films', 'PG', 'Drama', 'Romance', 'Two', 'neighbors,', 'a', 'woman', 'and', 'a', 'man,', 'form', 'a', 'strong', 'bond', 'after', 'both', 'suspect', 'extramarital', 'activities', 'of', 'their', 'spouses.', 'However,', 'they', 'agree', 'to', 'keep', 'their', 'bond', 'platonic', 'so', 'as', 'not', 'to', 'commit', 'similar', 'wrongs.', 'Kar-Wai', 'Wong', 'Kar-Wai', 'Wong', 'Tony', 'Chiu-Wai', 'Leung', 'Maggie', 'Cheung', 'Ping', 'Lam', 'Siu'], ['USA', 'France', 'English', 'French', 'Warner', 'Independent', 'Pictures', '(WIP)', 'Castle', 'Rock', 'Entertainment', 'Detour', 'Filmproduction', 'R', 'Drama', 'Romance', 'Nine', 'years', 'after', 'Jesse', 'and', 'Celine', 'first', 'met,', 'they', 'encounter', 'each', 'other', 'again', 'on', 'the', 'French', 'leg', 'of', \"Jesse's\", 'book', 'tour.', 'Richard', 'Linklater', 'Richard', 'Linklater', 'Julie', 'Delpy', 'Ethan', 'Hawke', 'Julie', 'Delpy', 'Vernon', 'Dobtcheff'], ['USA', 'English', 'Act', 'III', 'Communications', 'Buttercup', 'Films', 'Ltd.', 'The', 'Princess', 'Bride', 'Ltd.', 'PG', 'Adventure', 'Family', 'Fantasy', 'While', 'home', 'sick', 'in', 'bed,', 'a', 'young', \"boy's\", 'grandfather', 'reads', 'him', 'the', 'story', 'of', 'a', 'farmboy-turned-pirate', 'who', 'encounters', 'numerous', 'obstacles,', 'enemies', 'and', 'allies', 'in', 'his', 'quest', 'to', 'be', 'reunited', 'with', 'his', 'true', 'love.', 'Rob', 'Reiner', 'William', 'Goldman', 'William', 'Goldman', 'Cary', 'Elwes', 'Mandy', 'Patinkin', 'Robin', 'Wright'], ['USA', 'English', 'DreamWorks', 'Reliance', 'Film', '&', 'Entertainment', 'Participant', 'PG-13', 'Drama', 'An', 'aspiring', 'author', 'during', 'the', 'civil', 'rights', 'movement', 'of', 'the', '1960s', 'decides', 'to', 'write', 'a', 'book', 'detailing', 'the', 'African', 'American', \"maids'\", 'point', 'of', 'view', 'on', 'the', 'white', 'families', 'for', 'which', 'they', 'work,', 'and', 'the', 'hardships', 'they', 'go', 'through', 'on', 'a', 'daily', 'basis.', 'Tate', 'Taylor', 'Tate', 'Taylor', 'Kathryn', 'Stockett', 'Emma', 'Stone', 'Viola', 'Davis', 'Octavia', 'Spencer'], ['West', 'Germany', 'France', 'UK', 'English', 'Spanish', 'Road', 'Movies', 'Filmproduktion', 'Argos', 'Films', 'Westdeutscher', 'Rundfunk', '(WDR)', 'R', 'Drama', 'Travis', 'Henderson,', 'an', 'aimless', 'drifter', 'who', 'has', 'been', 'missing', 'for', 'four', 'years,', 'wanders', 'out', 'of', 'the', 'desert', 'and', 'must', 'reconnect', 'with', 'society,', 'himself,', 'his', 'life,', 'and', 'his', 'family.', 'Wim', 'Wenders', 'L.M.', 'Kit', 'Carson', 'Sam', 'Shepard', 'Harry', 'Dean', 'Stanton', 'Nastassja', 'Kinski', 'Dean', 'Stockwell'], ['Spain', 'Spanish', 'Atresmedia', 'Cine', 'Think', 'Studio', 'Nostromo', 'Pictures', 'G', 'Crime', 'Mystery', 'Thriller', 'A', 'successful', 'entrepreneur', 'accused', 'of', 'murder', 'and', 'a', 'witness', 'preparation', 'expert', 'have', 'less', 'than', 'three', 'hours', 'to', 'come', 'up', 'with', 'an', 'impregnable', 'defence.', 'Oriol', 'Paulo', 'Oriol', 'Paulo', 'Mario', 'Casas', 'Ana', 'Wagener', 'Jose', 'Coronado'], ['India', 'Hindi', 'Panorama', 'Studios', 'Rajkumar', 'Theaters', 'Private', 'Limited', 'Viacom18', 'Motion', 'Pictures', 'Not', 'Rated', 'Crime', 'Drama', 'Mystery', 'Desperate', 'measures', 'are', 'taken', 'by', 'a', 'man', 'who', 'tries', 'to', 'save', 'his', 'family', 'from', 'the', 'dark', 'side', 'of', 'the', 'law,', 'after', 'they', 'commit', 'an', 'unexpected', 'crime.', 'Nishikant', 'Kamat', 'Jeethu', 'Joseph', 'Upendra', 'Sidhaye', 'Ajay', 'Devgn', 'Shriya', 'Saran', 'Tabu'], ['UK', 'USA', 'English', 'Spanish', 'Cinema', \"'84\", 'Euro', 'Film', 'Funding', 'Hemdale', 'R', 'Action', 'Sci-Fi', 'In', '1984,', 'a', 'human', 'soldier', 'is', 'tasked', 'to', 'stop', 'an', 'indestructible', 'cyborg', 'killing', 'machine,', 'both', 'sent', 'from', '2029,', 'from', 'executing', 'a', 'young', 'woman,', 'whose', 'unborn', 'son', 'is', 'the', 'key', 'to', \"humanity's\", 'future', 'salvation.', 'James', 'Cameron', 'James', 'Cameron', 'Gale', 'Anne', 'Hurd', 'Arnold', 'Schwarzenegger', 'Linda', 'Hamilton', 'Michael', 'Biehn'], ['USA', 'English', 'Spanish', 'Latin', 'Paramount', 'Pictures', 'Approved', 'Drama', 'Film-Noir', 'A', 'frustrated', 'former', 'big-city', 'journalist', 'now', 'stuck', 'working', 'for', 'an', 'Albuquerque', 'newspaper', 'exploits', 'a', 'story', 'about', 'a', 'man', 'trapped', 'in', 'a', 'cave', 'to', 'rekindle', 'his', 'career,', 'but', 'the', 'situation', 'quickly', 'escalates', 'into', 'an', 'out-of-control', 'circus.', 'Billy', 'Wilder', 'Billy', 'Wilder', 'Lesser', 'Samuels', 'Kirk', 'Douglas', 'Jan', 'Sterling', 'Robert', 'Arthur'], ['Turkey', 'France', 'Germany', 'Turkish', 'English', 'Zeynofilm', 'Memento', 'Films', 'Production', 'Bredok', 'Filmproduction', 'Not', 'Rated', 'Drama', 'A', 'hotel', 'owner', 'and', 'landlord', 'in', 'a', 'remote', 'Turkish', 'village', 'deals', 'with', 'conflicts', 'within', 'his', 'family', 'and', 'a', 'tenant', 'behind', 'on', 'his', 'rent.', 'Nuri', 'Bilge', 'Ceylan', 'Ebru', 'Ceylan', 'Nuri', 'Bilge', 'Ceylan', 'Haluk', 'Bilginer', 'Melisa', 'Sözen', 'Demet', 'Akbag'], ['India', 'Hindi', 'English', 'Awadhi', 'Urdu', 'Aamir', 'Khan', 'Productions', 'Jhamu', 'Sughand', 'Productions', 'PG', 'Adventure', 'Drama', 'Musical', 'The', 'people', 'of', 'a', 'small', 'village', 'in', 'Victorian', 'India', 'stake', 'their', 'future', 'on', 'a', 'game', 'of', 'cricket', 'against', 'their', 'ruthless', 'British', 'rulers.', 'Ashutosh', 'Gowariker', 'Ashutosh', 'Gowariker', 'Ashutosh', 'Gowariker', 'Aamir', 'Khan', 'Raghuvir', 'Yadav', 'Gracy', 'Singh'], ['USA', 'English', 'Spanish', 'Campanile', 'Productions', 'George', 'Roy', 'Hill-Paul', 'Monash', 'Production', 'Newman-Foreman', 'Company', 'PG', 'Biography', 'Crime', 'Drama', 'Wyoming,', 'early', '1900s.', 'Butch', 'Cassidy', 'and', 'The', 'Sundance', 'Kid', 'are', 'the', 'leaders', 'of', 'a', 'band', 'of', 'outlaws.', 'After', 'a', 'train', 'robbery', 'goes', 'wrong', 'they', 'find', 'themselves', 'on', 'the', 'run', 'with', 'a', 'posse', 'hard', 'on', 'their', 'heels.', 'Their', 'solution', '-', 'escape', 'to', 'Bolivia.', 'George', 'Roy', 'Hill', 'William', 'Goldman', 'Paul', 'Newman', 'Robert', 'Redford', 'Katharine', 'Ross'], ['USA', 'English', 'Walt', 'Disney', 'Pictures', 'Silver', 'Screen', 'Partners', 'IV', 'Walt', 'Disney', 'Animation', 'Studios', 'G', 'Animation', 'Adventure', 'Comedy', 'A', 'kindhearted', 'street', 'urchin', 'and', 'a', 'power-hungry', 'Grand', 'Vizier', 'vie', 'for', 'a', 'magic', 'lamp', 'that', 'has', 'the', 'power', 'to', 'make', 'their', 'deepest', 'wishes', 'come', 'true.', 'Ron', 'Clements', 'John', 'Musker', 'Ron', 'Clements', 'John', 'Musker', 'Scott', 'Weinger', 'Robin', 'Williams', 'Linda', 'Larkin'], ['Japan', 'Japanese', 'Akira', 'Committee', 'Company', 'Ltd.', 'Akira', 'Studio', 'TMS', 'Entertainment', 'R', 'Animation', 'Drama', 'Sci-Fi', 'A', 'secret', 'military', 'project', 'endangers', 'Neo-Tokyo', 'when', 'it', 'turns', 'a', 'biker', 'gang', 'member', 'into', 'a', 'rampaging', 'psychic', 'psychopath', 'who', 'can', 'only', 'be', 'stopped', 'by', 'two', 'teenagers', 'and', 'a', 'group', 'of', 'psychics.', 'Katsuhiro', 'Ôtomo', 'Katsuhiro', 'Ôtomo', 'Izô', 'Hashimoto', 'Mitsuo', 'Iwata', 'Nozomu', 'Sasaki', 'Mami', 'Koyama'], ['Japan', 'Japanese', 'Toho', 'Company', 'Kurosawa', 'Production', 'Co.', 'Not', 'Rated', 'Drama', 'History', 'A', 'war-hardened', 'general,', 'egged', 'on', 'by', 'his', 'ambitious', 'wife,', 'works', 'to', 'fulfill', 'a', 'prophecy', 'that', 'he', 'would', 'become', 'lord', 'of', \"Spider's\", 'Web', 'Castle.', 'Akira', 'Kurosawa', 'Hideo', 'Oguni', 'Shinobu', 'Hashimoto', 'Toshirô', 'Mifune', 'Minoru', 'Chiaki', 'Isuzu', 'Yamada'], ['Switzerland', 'France', 'Poland', 'French', 'MK2', 'Productions', 'France', '3', 'Cinéma', 'CAB', 'Productions', 'R', 'Drama', 'Mystery', 'Romance', 'A', 'model', 'discovers', 'a', 'retired', 'judge', 'is', 'keen', 'on', 'invading', \"people's\", 'privacy.', 'Krzysztof', 'Kieslowski', 'Krzysztof', 'Kieslowski', 'Krzysztof', 'Piesiewicz', 'Irène', 'Jacob', 'Jean-Louis', 'Trintignant', 'Frédérique', 'Feder']]\n"
     ]
    }
   ],
   "source": [
    "corpus = [t.split(' ') for t in temp]\n",
    "print(corpus)"
   ]
  },
  {
   "cell_type": "code",
   "execution_count": 297,
   "metadata": {},
   "outputs": [
    {
     "name": "stderr",
     "output_type": "stream",
     "text": [
      "C:\\ProgramData\\Anaconda3\\lib\\site-packages\\gensim\\models\\base_any2vec.py:743: UserWarning: C extension not loaded, training will be slow. Install a C compiler and reinstall gensim for fast training.\n",
      "  \"C extension not loaded, training will be slow. \"\n"
     ]
    }
   ],
   "source": [
    "model = Word2Vec(corpus, size=50, window=5, min_count=1, workers=multiprocessing.cpu_count(),iter=10)"
   ]
  },
  {
   "cell_type": "markdown",
   "metadata": {},
   "source": [
    "#### Word2Vec model's method"
   ]
  },
  {
   "cell_type": "markdown",
   "metadata": {},
   "source": [
    "- word vectors"
   ]
  },
  {
   "cell_type": "code",
   "execution_count": 301,
   "metadata": {},
   "outputs": [
    {
     "data": {
      "text/plain": [
       "array([-0.06258275,  0.04238755, -0.01123265,  0.18025228, -0.02378378,\n",
       "        0.01619811, -0.14295757, -0.03961238,  0.00078774,  0.0052074 ,\n",
       "       -0.04341641,  0.09207518,  0.02324331, -0.01271566,  0.11685536,\n",
       "       -0.03095049, -0.0825461 ,  0.04561036, -0.22359745, -0.18868926,\n",
       "        0.07883931,  0.12923737, -0.03889457, -0.17834055, -0.19388248,\n",
       "        0.16701464,  0.07879965,  0.03129641, -0.14563966,  0.07747281,\n",
       "        0.08989087, -0.07582206, -0.18439564,  0.06183587, -0.14444388,\n",
       "        0.12470742,  0.10156769,  0.07324093, -0.10319933,  0.18476109,\n",
       "        0.01217167,  0.0323372 , -0.05350762,  0.07793166, -0.0384212 ,\n",
       "       -0.00196554,  0.05191206,  0.07672918,  0.21816877,  0.00832309],\n",
       "      dtype=float32)"
      ]
     },
     "execution_count": 301,
     "metadata": {},
     "output_type": "execute_result"
    }
   ],
   "source": [
    "model.wv['Nolan']"
   ]
  },
  {
   "cell_type": "markdown",
   "metadata": {},
   "source": [
    "- The similarity between two words"
   ]
  },
  {
   "cell_type": "code",
   "execution_count": 302,
   "metadata": {},
   "outputs": [
    {
     "name": "stderr",
     "output_type": "stream",
     "text": [
      "C:\\ProgramData\\Anaconda3\\lib\\site-packages\\ipykernel_launcher.py:1: DeprecationWarning: Call to deprecated `similarity` (Method will be removed in 4.0.0, use self.wv.similarity() instead).\n",
      "  \"\"\"Entry point for launching an IPython kernel.\n"
     ]
    },
    {
     "data": {
      "text/plain": [
       "0.9940369"
      ]
     },
     "execution_count": 302,
     "metadata": {},
     "output_type": "execute_result"
    }
   ],
   "source": [
    "model.similarity('Nolan', 'man')"
   ]
  },
  {
   "cell_type": "markdown",
   "metadata": {},
   "source": [
    "- The most similar ten words of the certain word"
   ]
  },
  {
   "cell_type": "code",
   "execution_count": 304,
   "metadata": {},
   "outputs": [
    {
     "name": "stderr",
     "output_type": "stream",
     "text": [
      "C:\\ProgramData\\Anaconda3\\lib\\site-packages\\ipykernel_launcher.py:1: DeprecationWarning: Call to deprecated `most_similar` (Method will be removed in 4.0.0, use self.wv.most_similar() instead).\n",
      "  \"\"\"Entry point for launching an IPython kernel.\n"
     ]
    },
    {
     "data": {
      "text/plain": [
       "[('Christopher', 0.9963294267654419),\n",
       " ('a', 0.9960401058197021),\n",
       " ('R', 0.9958541393280029),\n",
       " ('his', 0.9956852793693542),\n",
       " ('from', 0.9956228733062744),\n",
       " ('to', 0.9955018758773804),\n",
       " ('an', 0.9953747391700745),\n",
       " ('Action', 0.9952875971794128),\n",
       " ('and', 0.9951527118682861),\n",
       " ('Crime', 0.9951463937759399)]"
      ]
     },
     "execution_count": 304,
     "metadata": {},
     "output_type": "execute_result"
    }
   ],
   "source": [
    "model.most_similar('Nolan')"
   ]
  },
  {
   "cell_type": "markdown",
   "metadata": {},
   "source": [
    "- The similarity between two sentence"
   ]
  },
  {
   "cell_type": "code",
   "execution_count": 311,
   "metadata": {},
   "outputs": [
    {
     "name": "stderr",
     "output_type": "stream",
     "text": [
      "C:\\ProgramData\\Anaconda3\\lib\\site-packages\\ipykernel_launcher.py:1: DeprecationWarning: Call to deprecated `n_similarity` (Method will be removed in 4.0.0, use self.wv.n_similarity() instead).\n",
      "  \"\"\"Entry point for launching an IPython kernel.\n"
     ]
    },
    {
     "data": {
      "text/plain": [
       "0.9999112"
      ]
     },
     "execution_count": 311,
     "metadata": {},
     "output_type": "execute_result"
    }
   ],
   "source": [
    "model.n_similarity(corpus[20],corpus[1])"
   ]
  },
  {
   "cell_type": "markdown",
   "metadata": {},
   "source": [
    "#### Create similarity matrix"
   ]
  },
  {
   "cell_type": "code",
   "execution_count": 312,
   "metadata": {},
   "outputs": [
    {
     "name": "stderr",
     "output_type": "stream",
     "text": [
      "C:\\ProgramData\\Anaconda3\\lib\\site-packages\\ipykernel_launcher.py:4: DeprecationWarning: Call to deprecated `n_similarity` (Method will be removed in 4.0.0, use self.wv.n_similarity() instead).\n",
      "  after removing the cwd from sys.path.\n"
     ]
    }
   ],
   "source": [
    "ma = [[0]*250 for _ in range(250)]\n",
    "for i in range(250):\n",
    "    for j in range(250):\n",
    "        ma[i][j] = model.n_similarity(corpus[i],corpus[j])"
   ]
  },
  {
   "cell_type": "code",
   "execution_count": 305,
   "metadata": {},
   "outputs": [],
   "source": [
    "import numpy as np"
   ]
  },
  {
   "cell_type": "code",
   "execution_count": 317,
   "metadata": {},
   "outputs": [],
   "source": [
    "np.matrix(ma)\n",
    "simi_matrix = pd.DataFrame(np.matrix(ma))"
   ]
  },
  {
   "cell_type": "code",
   "execution_count": 318,
   "metadata": {},
   "outputs": [
    {
     "data": {
      "text/html": [
       "<div>\n",
       "<style scoped>\n",
       "    .dataframe tbody tr th:only-of-type {\n",
       "        vertical-align: middle;\n",
       "    }\n",
       "\n",
       "    .dataframe tbody tr th {\n",
       "        vertical-align: top;\n",
       "    }\n",
       "\n",
       "    .dataframe thead th {\n",
       "        text-align: right;\n",
       "    }\n",
       "</style>\n",
       "<table border=\"1\" class=\"dataframe\">\n",
       "  <thead>\n",
       "    <tr style=\"text-align: right;\">\n",
       "      <th></th>\n",
       "      <th>0</th>\n",
       "      <th>1</th>\n",
       "      <th>2</th>\n",
       "      <th>3</th>\n",
       "      <th>4</th>\n",
       "      <th>5</th>\n",
       "      <th>6</th>\n",
       "      <th>7</th>\n",
       "      <th>8</th>\n",
       "      <th>9</th>\n",
       "      <th>...</th>\n",
       "      <th>240</th>\n",
       "      <th>241</th>\n",
       "      <th>242</th>\n",
       "      <th>243</th>\n",
       "      <th>244</th>\n",
       "      <th>245</th>\n",
       "      <th>246</th>\n",
       "      <th>247</th>\n",
       "      <th>248</th>\n",
       "      <th>249</th>\n",
       "    </tr>\n",
       "  </thead>\n",
       "  <tbody>\n",
       "    <tr>\n",
       "      <th>0</th>\n",
       "      <td>1.000000</td>\n",
       "      <td>0.999895</td>\n",
       "      <td>0.999905</td>\n",
       "      <td>0.999899</td>\n",
       "      <td>0.999874</td>\n",
       "      <td>0.999918</td>\n",
       "      <td>0.999893</td>\n",
       "      <td>0.999885</td>\n",
       "      <td>0.999839</td>\n",
       "      <td>0.999893</td>\n",
       "      <td>...</td>\n",
       "      <td>0.999862</td>\n",
       "      <td>0.999897</td>\n",
       "      <td>0.999873</td>\n",
       "      <td>0.999858</td>\n",
       "      <td>0.999892</td>\n",
       "      <td>0.999895</td>\n",
       "      <td>0.999789</td>\n",
       "      <td>0.999848</td>\n",
       "      <td>0.999838</td>\n",
       "      <td>0.999780</td>\n",
       "    </tr>\n",
       "    <tr>\n",
       "      <th>1</th>\n",
       "      <td>0.999895</td>\n",
       "      <td>1.000000</td>\n",
       "      <td>0.999959</td>\n",
       "      <td>0.999903</td>\n",
       "      <td>0.999935</td>\n",
       "      <td>0.999907</td>\n",
       "      <td>0.999906</td>\n",
       "      <td>0.999928</td>\n",
       "      <td>0.999876</td>\n",
       "      <td>0.999917</td>\n",
       "      <td>...</td>\n",
       "      <td>0.999910</td>\n",
       "      <td>0.999920</td>\n",
       "      <td>0.999903</td>\n",
       "      <td>0.999871</td>\n",
       "      <td>0.999918</td>\n",
       "      <td>0.999930</td>\n",
       "      <td>0.999837</td>\n",
       "      <td>0.999887</td>\n",
       "      <td>0.999898</td>\n",
       "      <td>0.999808</td>\n",
       "    </tr>\n",
       "    <tr>\n",
       "      <th>2</th>\n",
       "      <td>0.999905</td>\n",
       "      <td>0.999959</td>\n",
       "      <td>1.000000</td>\n",
       "      <td>0.999923</td>\n",
       "      <td>0.999915</td>\n",
       "      <td>0.999914</td>\n",
       "      <td>0.999947</td>\n",
       "      <td>0.999940</td>\n",
       "      <td>0.999880</td>\n",
       "      <td>0.999944</td>\n",
       "      <td>...</td>\n",
       "      <td>0.999922</td>\n",
       "      <td>0.999933</td>\n",
       "      <td>0.999927</td>\n",
       "      <td>0.999904</td>\n",
       "      <td>0.999920</td>\n",
       "      <td>0.999950</td>\n",
       "      <td>0.999811</td>\n",
       "      <td>0.999877</td>\n",
       "      <td>0.999897</td>\n",
       "      <td>0.999792</td>\n",
       "    </tr>\n",
       "    <tr>\n",
       "      <th>3</th>\n",
       "      <td>0.999899</td>\n",
       "      <td>0.999903</td>\n",
       "      <td>0.999923</td>\n",
       "      <td>1.000000</td>\n",
       "      <td>0.999906</td>\n",
       "      <td>0.999890</td>\n",
       "      <td>0.999897</td>\n",
       "      <td>0.999919</td>\n",
       "      <td>0.999897</td>\n",
       "      <td>0.999914</td>\n",
       "      <td>...</td>\n",
       "      <td>0.999934</td>\n",
       "      <td>0.999934</td>\n",
       "      <td>0.999917</td>\n",
       "      <td>0.999877</td>\n",
       "      <td>0.999892</td>\n",
       "      <td>0.999937</td>\n",
       "      <td>0.999787</td>\n",
       "      <td>0.999875</td>\n",
       "      <td>0.999871</td>\n",
       "      <td>0.999788</td>\n",
       "    </tr>\n",
       "    <tr>\n",
       "      <th>4</th>\n",
       "      <td>0.999874</td>\n",
       "      <td>0.999935</td>\n",
       "      <td>0.999915</td>\n",
       "      <td>0.999906</td>\n",
       "      <td>1.000000</td>\n",
       "      <td>0.999897</td>\n",
       "      <td>0.999892</td>\n",
       "      <td>0.999935</td>\n",
       "      <td>0.999892</td>\n",
       "      <td>0.999908</td>\n",
       "      <td>...</td>\n",
       "      <td>0.999926</td>\n",
       "      <td>0.999937</td>\n",
       "      <td>0.999911</td>\n",
       "      <td>0.999873</td>\n",
       "      <td>0.999922</td>\n",
       "      <td>0.999920</td>\n",
       "      <td>0.999844</td>\n",
       "      <td>0.999857</td>\n",
       "      <td>0.999882</td>\n",
       "      <td>0.999803</td>\n",
       "    </tr>\n",
       "  </tbody>\n",
       "</table>\n",
       "<p>5 rows × 250 columns</p>\n",
       "</div>"
      ],
      "text/plain": [
       "        0         1         2         3         4         5         6    \\\n",
       "0  1.000000  0.999895  0.999905  0.999899  0.999874  0.999918  0.999893   \n",
       "1  0.999895  1.000000  0.999959  0.999903  0.999935  0.999907  0.999906   \n",
       "2  0.999905  0.999959  1.000000  0.999923  0.999915  0.999914  0.999947   \n",
       "3  0.999899  0.999903  0.999923  1.000000  0.999906  0.999890  0.999897   \n",
       "4  0.999874  0.999935  0.999915  0.999906  1.000000  0.999897  0.999892   \n",
       "\n",
       "        7         8         9    ...       240       241       242       243  \\\n",
       "0  0.999885  0.999839  0.999893  ...  0.999862  0.999897  0.999873  0.999858   \n",
       "1  0.999928  0.999876  0.999917  ...  0.999910  0.999920  0.999903  0.999871   \n",
       "2  0.999940  0.999880  0.999944  ...  0.999922  0.999933  0.999927  0.999904   \n",
       "3  0.999919  0.999897  0.999914  ...  0.999934  0.999934  0.999917  0.999877   \n",
       "4  0.999935  0.999892  0.999908  ...  0.999926  0.999937  0.999911  0.999873   \n",
       "\n",
       "        244       245       246       247       248       249  \n",
       "0  0.999892  0.999895  0.999789  0.999848  0.999838  0.999780  \n",
       "1  0.999918  0.999930  0.999837  0.999887  0.999898  0.999808  \n",
       "2  0.999920  0.999950  0.999811  0.999877  0.999897  0.999792  \n",
       "3  0.999892  0.999937  0.999787  0.999875  0.999871  0.999788  \n",
       "4  0.999922  0.999920  0.999844  0.999857  0.999882  0.999803  \n",
       "\n",
       "[5 rows x 250 columns]"
      ]
     },
     "execution_count": 318,
     "metadata": {},
     "output_type": "execute_result"
    }
   ],
   "source": [
    "simi_matrix.head()"
   ]
  },
  {
   "cell_type": "markdown",
   "metadata": {},
   "source": [
    "#### Recommend the most similar movie"
   ]
  },
  {
   "cell_type": "code",
   "execution_count": 331,
   "metadata": {},
   "outputs": [],
   "source": [
    "def recommend(name,nums=8):\n",
    "    names = list(data['Name'].values)\n",
    "    index = names.index(name)\n",
    "    vals = list(simi_matrix[index].values)\n",
    "    value = sorted(vals,reverse=True)\n",
    "    res = []\n",
    "    for i in range(1,nums+1):\n",
    "        name_index = vals.index(value[i])\n",
    "        res.append(names[name_index])\n",
    "    return res"
   ]
  },
  {
   "cell_type": "code",
   "execution_count": 333,
   "metadata": {},
   "outputs": [
    {
     "data": {
      "text/plain": [
       "['The Godfather: Part II',\n",
       " 'The Thing',\n",
       " 'Ford v Ferrari',\n",
       " 'V for Vendetta',\n",
       " 'Taxi Driver',\n",
       " 'In the Name of the Father',\n",
       " 'The Pianist',\n",
       " 'Psycho']"
      ]
     },
     "execution_count": 333,
     "metadata": {},
     "output_type": "execute_result"
    }
   ],
   "source": [
    "recommend('The Godfather')"
   ]
  },
  {
   "cell_type": "code",
   "execution_count": 334,
   "metadata": {},
   "outputs": [
    {
     "data": {
      "text/plain": [
       "['The Dark Knight',\n",
       " 'The Dark Knight Rises',\n",
       " 'Mad Max: Fury Road',\n",
       " 'Catch Me If You Can',\n",
       " 'The Prestige',\n",
       " 'Ford v Ferrari',\n",
       " 'The Wolf of Wall Street',\n",
       " 'The Elephant Man']"
      ]
     },
     "execution_count": 334,
     "metadata": {},
     "output_type": "execute_result"
    }
   ],
   "source": [
    "recommend('Inception')"
   ]
  },
  {
   "cell_type": "code",
   "execution_count": 335,
   "metadata": {},
   "outputs": [
    {
     "data": {
      "text/plain": [
       "['The Lord of the Rings: The Two Towers',\n",
       " 'The Lord of the Rings: The Fellowship of the Ring',\n",
       " 'Léon: The Professional',\n",
       " 'The Godfather: Part II',\n",
       " 'Prisoners',\n",
       " 'Toy Story 3',\n",
       " 'The Green Mile',\n",
       " 'Amadeus']"
      ]
     },
     "execution_count": 335,
     "metadata": {},
     "output_type": "execute_result"
    }
   ],
   "source": [
    "recommend('The Lord of the Rings: The Return of the King')"
   ]
  },
  {
   "cell_type": "markdown",
   "metadata": {},
   "source": [
    "### Score prediction"
   ]
  },
  {
   "cell_type": "markdown",
   "metadata": {},
   "source": [
    "#### Prepare TF-IDF features"
   ]
  },
  {
   "cell_type": "code",
   "execution_count": 340,
   "metadata": {},
   "outputs": [],
   "source": [
    "from sklearn.feature_extraction.text import TfidfVectorizer\n",
    "\n",
    "TV = TfidfVectorizer(max_features=100)\n",
    "X = TV.fit_transform(temp)"
   ]
  },
  {
   "cell_type": "code",
   "execution_count": 341,
   "metadata": {},
   "outputs": [
    {
     "data": {
      "text/plain": [
       "<250x100 sparse matrix of type '<class 'numpy.float64'>'\n",
       "\twith 3915 stored elements in Compressed Sparse Row format>"
      ]
     },
     "execution_count": 341,
     "metadata": {},
     "output_type": "execute_result"
    }
   ],
   "source": [
    "X"
   ]
  },
  {
   "cell_type": "markdown",
   "metadata": {},
   "source": [
    "#### Create new train data for machine learning model"
   ]
  },
  {
   "cell_type": "code",
   "execution_count": 346,
   "metadata": {},
   "outputs": [
    {
     "data": {
      "text/html": [
       "<div>\n",
       "<style scoped>\n",
       "    .dataframe tbody tr th:only-of-type {\n",
       "        vertical-align: middle;\n",
       "    }\n",
       "\n",
       "    .dataframe tbody tr th {\n",
       "        vertical-align: top;\n",
       "    }\n",
       "\n",
       "    .dataframe thead th {\n",
       "        text-align: right;\n",
       "    }\n",
       "</style>\n",
       "<table border=\"1\" class=\"dataframe\">\n",
       "  <thead>\n",
       "    <tr style=\"text-align: right;\">\n",
       "      <th></th>\n",
       "      <th>0</th>\n",
       "      <th>1</th>\n",
       "      <th>2</th>\n",
       "      <th>3</th>\n",
       "      <th>4</th>\n",
       "      <th>5</th>\n",
       "      <th>6</th>\n",
       "      <th>7</th>\n",
       "      <th>8</th>\n",
       "      <th>9</th>\n",
       "      <th>...</th>\n",
       "      <th>91</th>\n",
       "      <th>92</th>\n",
       "      <th>93</th>\n",
       "      <th>94</th>\n",
       "      <th>95</th>\n",
       "      <th>96</th>\n",
       "      <th>97</th>\n",
       "      <th>98</th>\n",
       "      <th>99</th>\n",
       "      <th>Name</th>\n",
       "    </tr>\n",
       "  </thead>\n",
       "  <tbody>\n",
       "    <tr>\n",
       "      <th>0</th>\n",
       "      <td>0.000000</td>\n",
       "      <td>0.000000</td>\n",
       "      <td>0.0</td>\n",
       "      <td>0.0</td>\n",
       "      <td>0.0</td>\n",
       "      <td>0.0</td>\n",
       "      <td>0.000000</td>\n",
       "      <td>0.000000</td>\n",
       "      <td>0.265385</td>\n",
       "      <td>0.0</td>\n",
       "      <td>...</td>\n",
       "      <td>0.0</td>\n",
       "      <td>0.0</td>\n",
       "      <td>0.00000</td>\n",
       "      <td>0.000000</td>\n",
       "      <td>0.0</td>\n",
       "      <td>0.0</td>\n",
       "      <td>0.0</td>\n",
       "      <td>0.0</td>\n",
       "      <td>0.0</td>\n",
       "      <td>The Shawshank Redemption</td>\n",
       "    </tr>\n",
       "    <tr>\n",
       "      <th>1</th>\n",
       "      <td>0.000000</td>\n",
       "      <td>0.000000</td>\n",
       "      <td>0.0</td>\n",
       "      <td>0.0</td>\n",
       "      <td>0.0</td>\n",
       "      <td>0.0</td>\n",
       "      <td>0.000000</td>\n",
       "      <td>0.203629</td>\n",
       "      <td>0.000000</td>\n",
       "      <td>0.0</td>\n",
       "      <td>...</td>\n",
       "      <td>0.0</td>\n",
       "      <td>0.0</td>\n",
       "      <td>0.00000</td>\n",
       "      <td>0.000000</td>\n",
       "      <td>0.0</td>\n",
       "      <td>0.0</td>\n",
       "      <td>0.0</td>\n",
       "      <td>0.0</td>\n",
       "      <td>0.0</td>\n",
       "      <td>The Godfather</td>\n",
       "    </tr>\n",
       "    <tr>\n",
       "      <th>2</th>\n",
       "      <td>0.000000</td>\n",
       "      <td>0.000000</td>\n",
       "      <td>0.0</td>\n",
       "      <td>0.0</td>\n",
       "      <td>0.0</td>\n",
       "      <td>0.0</td>\n",
       "      <td>0.244592</td>\n",
       "      <td>0.000000</td>\n",
       "      <td>0.197571</td>\n",
       "      <td>0.0</td>\n",
       "      <td>...</td>\n",
       "      <td>0.0</td>\n",
       "      <td>0.0</td>\n",
       "      <td>0.00000</td>\n",
       "      <td>0.000000</td>\n",
       "      <td>0.0</td>\n",
       "      <td>0.0</td>\n",
       "      <td>0.0</td>\n",
       "      <td>0.0</td>\n",
       "      <td>0.0</td>\n",
       "      <td>The Godfather: Part II</td>\n",
       "    </tr>\n",
       "    <tr>\n",
       "      <th>3</th>\n",
       "      <td>0.154879</td>\n",
       "      <td>0.139394</td>\n",
       "      <td>0.0</td>\n",
       "      <td>0.0</td>\n",
       "      <td>0.0</td>\n",
       "      <td>0.0</td>\n",
       "      <td>0.000000</td>\n",
       "      <td>0.000000</td>\n",
       "      <td>0.155623</td>\n",
       "      <td>0.0</td>\n",
       "      <td>...</td>\n",
       "      <td>0.0</td>\n",
       "      <td>0.0</td>\n",
       "      <td>0.15656</td>\n",
       "      <td>0.160102</td>\n",
       "      <td>0.0</td>\n",
       "      <td>0.0</td>\n",
       "      <td>0.0</td>\n",
       "      <td>0.0</td>\n",
       "      <td>0.0</td>\n",
       "      <td>The Dark Knight</td>\n",
       "    </tr>\n",
       "    <tr>\n",
       "      <th>4</th>\n",
       "      <td>0.000000</td>\n",
       "      <td>0.000000</td>\n",
       "      <td>0.0</td>\n",
       "      <td>0.0</td>\n",
       "      <td>0.0</td>\n",
       "      <td>0.0</td>\n",
       "      <td>0.000000</td>\n",
       "      <td>0.000000</td>\n",
       "      <td>0.000000</td>\n",
       "      <td>0.0</td>\n",
       "      <td>...</td>\n",
       "      <td>0.0</td>\n",
       "      <td>0.0</td>\n",
       "      <td>0.00000</td>\n",
       "      <td>0.000000</td>\n",
       "      <td>0.0</td>\n",
       "      <td>0.0</td>\n",
       "      <td>0.0</td>\n",
       "      <td>0.0</td>\n",
       "      <td>0.0</td>\n",
       "      <td>12 Angry Men</td>\n",
       "    </tr>\n",
       "  </tbody>\n",
       "</table>\n",
       "<p>5 rows × 101 columns</p>\n",
       "</div>"
      ],
      "text/plain": [
       "          0         1    2    3    4    5         6         7         8    9  \\\n",
       "0  0.000000  0.000000  0.0  0.0  0.0  0.0  0.000000  0.000000  0.265385  0.0   \n",
       "1  0.000000  0.000000  0.0  0.0  0.0  0.0  0.000000  0.203629  0.000000  0.0   \n",
       "2  0.000000  0.000000  0.0  0.0  0.0  0.0  0.244592  0.000000  0.197571  0.0   \n",
       "3  0.154879  0.139394  0.0  0.0  0.0  0.0  0.000000  0.000000  0.155623  0.0   \n",
       "4  0.000000  0.000000  0.0  0.0  0.0  0.0  0.000000  0.000000  0.000000  0.0   \n",
       "\n",
       "   ...   91   92       93        94   95   96   97   98   99  \\\n",
       "0  ...  0.0  0.0  0.00000  0.000000  0.0  0.0  0.0  0.0  0.0   \n",
       "1  ...  0.0  0.0  0.00000  0.000000  0.0  0.0  0.0  0.0  0.0   \n",
       "2  ...  0.0  0.0  0.00000  0.000000  0.0  0.0  0.0  0.0  0.0   \n",
       "3  ...  0.0  0.0  0.15656  0.160102  0.0  0.0  0.0  0.0  0.0   \n",
       "4  ...  0.0  0.0  0.00000  0.000000  0.0  0.0  0.0  0.0  0.0   \n",
       "\n",
       "                       Name  \n",
       "0  The Shawshank Redemption  \n",
       "1             The Godfather  \n",
       "2    The Godfather: Part II  \n",
       "3           The Dark Knight  \n",
       "4              12 Angry Men  \n",
       "\n",
       "[5 rows x 101 columns]"
      ]
     },
     "execution_count": 346,
     "metadata": {},
     "output_type": "execute_result"
    }
   ],
   "source": [
    "train2 = pd.DataFrame.sparse.from_spmatrix(X)\n",
    "train2['Name'] = train['Name'].values\n",
    "train2.head()"
   ]
  },
  {
   "cell_type": "code",
   "execution_count": 347,
   "metadata": {},
   "outputs": [
    {
     "data": {
      "text/plain": [
       "Index(['Name', 'Score', 'Year', 'Url', 'Country1', 'Country2', 'Country3',\n",
       "       'Country4', 'Country5', 'Country6', 'Language1', 'Language2',\n",
       "       'Language3', 'Language4', 'Language5', 'Language6', 'Gross_revenue',\n",
       "       'Production1', 'Production2', 'Production3', 'Runtime', 'Rating',\n",
       "       'Genre1', 'Genre2', 'Genre3', 'Nums_score', 'Nums_review',\n",
       "       'Nums_critic', 'Story', 'Director1', 'Director2', 'Writer1', 'Writer2',\n",
       "       'Star1', 'Star2', 'Star3'],\n",
       "      dtype='object')"
      ]
     },
     "execution_count": 347,
     "metadata": {},
     "output_type": "execute_result"
    }
   ],
   "source": [
    "train.columns"
   ]
  },
  {
   "cell_type": "code",
   "execution_count": 367,
   "metadata": {},
   "outputs": [
    {
     "name": "stderr",
     "output_type": "stream",
     "text": [
      "C:\\ProgramData\\Anaconda3\\lib\\site-packages\\ipykernel_launcher.py:2: SettingWithCopyWarning: \n",
      "A value is trying to be set on a copy of a slice from a DataFrame.\n",
      "Try using .loc[row_indexer,col_indexer] = value instead\n",
      "\n",
      "See the caveats in the documentation: http://pandas.pydata.org/pandas-docs/stable/user_guide/indexing.html#returning-a-view-versus-a-copy\n",
      "  \n",
      "C:\\ProgramData\\Anaconda3\\lib\\site-packages\\ipykernel_launcher.py:3: SettingWithCopyWarning: \n",
      "A value is trying to be set on a copy of a slice from a DataFrame.\n",
      "Try using .loc[row_indexer,col_indexer] = value instead\n",
      "\n",
      "See the caveats in the documentation: http://pandas.pydata.org/pandas-docs/stable/user_guide/indexing.html#returning-a-view-versus-a-copy\n",
      "  This is separate from the ipykernel package so we can avoid doing imports until\n",
      "C:\\ProgramData\\Anaconda3\\lib\\site-packages\\ipykernel_launcher.py:4: SettingWithCopyWarning: \n",
      "A value is trying to be set on a copy of a slice from a DataFrame.\n",
      "Try using .loc[row_indexer,col_indexer] = value instead\n",
      "\n",
      "See the caveats in the documentation: http://pandas.pydata.org/pandas-docs/stable/user_guide/indexing.html#returning-a-view-versus-a-copy\n",
      "  after removing the cwd from sys.path.\n"
     ]
    },
    {
     "data": {
      "text/html": [
       "<div>\n",
       "<style scoped>\n",
       "    .dataframe tbody tr th:only-of-type {\n",
       "        vertical-align: middle;\n",
       "    }\n",
       "\n",
       "    .dataframe tbody tr th {\n",
       "        vertical-align: top;\n",
       "    }\n",
       "\n",
       "    .dataframe thead th {\n",
       "        text-align: right;\n",
       "    }\n",
       "</style>\n",
       "<table border=\"1\" class=\"dataframe\">\n",
       "  <thead>\n",
       "    <tr style=\"text-align: right;\">\n",
       "      <th></th>\n",
       "      <th>Name</th>\n",
       "      <th>Score</th>\n",
       "      <th>Year</th>\n",
       "      <th>Gross_revenue</th>\n",
       "      <th>Runtime</th>\n",
       "      <th>Nums_score</th>\n",
       "      <th>Nums_review</th>\n",
       "      <th>Nums_critic</th>\n",
       "    </tr>\n",
       "  </thead>\n",
       "  <tbody>\n",
       "    <tr>\n",
       "      <th>0</th>\n",
       "      <td>The Shawshank Redemption</td>\n",
       "      <td>9.2</td>\n",
       "      <td>1994</td>\n",
       "      <td>28786657</td>\n",
       "      <td>142</td>\n",
       "      <td>2236965</td>\n",
       "      <td>7738</td>\n",
       "      <td>225</td>\n",
       "    </tr>\n",
       "    <tr>\n",
       "      <th>1</th>\n",
       "      <td>The Godfather</td>\n",
       "      <td>9.1</td>\n",
       "      <td>1972</td>\n",
       "      <td>246120974</td>\n",
       "      <td>175</td>\n",
       "      <td>1542452</td>\n",
       "      <td>3726</td>\n",
       "      <td>248</td>\n",
       "    </tr>\n",
       "    <tr>\n",
       "      <th>2</th>\n",
       "      <td>The Godfather: Part II</td>\n",
       "      <td>9.0</td>\n",
       "      <td>1974</td>\n",
       "      <td>48035783</td>\n",
       "      <td>202</td>\n",
       "      <td>1078827</td>\n",
       "      <td>964</td>\n",
       "      <td>176</td>\n",
       "    </tr>\n",
       "    <tr>\n",
       "      <th>3</th>\n",
       "      <td>The Dark Knight</td>\n",
       "      <td>9.0</td>\n",
       "      <td>2008</td>\n",
       "      <td>1004934033</td>\n",
       "      <td>152</td>\n",
       "      <td>2207569</td>\n",
       "      <td>6697</td>\n",
       "      <td>421</td>\n",
       "    </tr>\n",
       "    <tr>\n",
       "      <th>4</th>\n",
       "      <td>12 Angry Men</td>\n",
       "      <td>8.9</td>\n",
       "      <td>1957</td>\n",
       "      <td>576</td>\n",
       "      <td>96</td>\n",
       "      <td>654121</td>\n",
       "      <td>1511</td>\n",
       "      <td>140</td>\n",
       "    </tr>\n",
       "  </tbody>\n",
       "</table>\n",
       "</div>"
      ],
      "text/plain": [
       "                       Name  Score  Year  Gross_revenue  Runtime  Nums_score  \\\n",
       "0  The Shawshank Redemption    9.2  1994       28786657      142     2236965   \n",
       "1             The Godfather    9.1  1972      246120974      175     1542452   \n",
       "2    The Godfather: Part II    9.0  1974       48035783      202     1078827   \n",
       "3           The Dark Knight    9.0  2008     1004934033      152     2207569   \n",
       "4              12 Angry Men    8.9  1957            576       96      654121   \n",
       "\n",
       "   Nums_review  Nums_critic  \n",
       "0         7738          225  \n",
       "1         3726          248  \n",
       "2          964          176  \n",
       "3         6697          421  \n",
       "4         1511          140  "
      ]
     },
     "execution_count": 367,
     "metadata": {},
     "output_type": "execute_result"
    }
   ],
   "source": [
    "train3 = train[['Name','Score','Year','Gross_revenue','Runtime','Nums_score','Nums_review','Nums_critic']]\n",
    "train3['Score'] = train3['Score'].apply(lambda x:float(str(x)))\n",
    "train3['Year'] = train3['Year'].apply(lambda x:int(str(x)))\n",
    "train3['Gross_revenue'] = train3['Gross_revenue'].apply(lambda x:int(str(x)))\n",
    "train3.head()"
   ]
  },
  {
   "cell_type": "code",
   "execution_count": 369,
   "metadata": {},
   "outputs": [
    {
     "name": "stdout",
     "output_type": "stream",
     "text": [
      "<class 'pandas.core.frame.DataFrame'>\n",
      "Int64Index: 250 entries, 0 to 249\n",
      "Data columns (total 8 columns):\n",
      "Name             250 non-null object\n",
      "Score            250 non-null float64\n",
      "Year             250 non-null int64\n",
      "Gross_revenue    250 non-null int64\n",
      "Runtime          250 non-null int64\n",
      "Nums_score       250 non-null int64\n",
      "Nums_review      250 non-null int64\n",
      "Nums_critic      250 non-null int64\n",
      "dtypes: float64(1), int64(6), object(1)\n",
      "memory usage: 27.6+ KB\n"
     ]
    }
   ],
   "source": [
    "train3.info()"
   ]
  },
  {
   "cell_type": "markdown",
   "metadata": {},
   "source": [
    "- Look the correaltion of numerical variables"
   ]
  },
  {
   "cell_type": "code",
   "execution_count": 377,
   "metadata": {},
   "outputs": [
    {
     "data": {
      "text/html": [
       "<div>\n",
       "<style scoped>\n",
       "    .dataframe tbody tr th:only-of-type {\n",
       "        vertical-align: middle;\n",
       "    }\n",
       "\n",
       "    .dataframe tbody tr th {\n",
       "        vertical-align: top;\n",
       "    }\n",
       "\n",
       "    .dataframe thead th {\n",
       "        text-align: right;\n",
       "    }\n",
       "</style>\n",
       "<table border=\"1\" class=\"dataframe\">\n",
       "  <thead>\n",
       "    <tr style=\"text-align: right;\">\n",
       "      <th></th>\n",
       "      <th>Score</th>\n",
       "      <th>Year</th>\n",
       "      <th>Gross_revenue</th>\n",
       "      <th>Runtime</th>\n",
       "      <th>Nums_score</th>\n",
       "      <th>Nums_review</th>\n",
       "      <th>Nums_critic</th>\n",
       "    </tr>\n",
       "  </thead>\n",
       "  <tbody>\n",
       "    <tr>\n",
       "      <th>Score</th>\n",
       "      <td>1.000000</td>\n",
       "      <td>0.003983</td>\n",
       "      <td>0.231971</td>\n",
       "      <td>0.185795</td>\n",
       "      <td>0.654957</td>\n",
       "      <td>0.524692</td>\n",
       "      <td>0.105675</td>\n",
       "    </tr>\n",
       "    <tr>\n",
       "      <th>Year</th>\n",
       "      <td>0.003983</td>\n",
       "      <td>1.000000</td>\n",
       "      <td>0.383626</td>\n",
       "      <td>0.166454</td>\n",
       "      <td>0.364457</td>\n",
       "      <td>0.313838</td>\n",
       "      <td>0.505418</td>\n",
       "    </tr>\n",
       "    <tr>\n",
       "      <th>Gross_revenue</th>\n",
       "      <td>0.231971</td>\n",
       "      <td>0.383626</td>\n",
       "      <td>1.000000</td>\n",
       "      <td>0.126890</td>\n",
       "      <td>0.501424</td>\n",
       "      <td>0.625136</td>\n",
       "      <td>0.520099</td>\n",
       "    </tr>\n",
       "    <tr>\n",
       "      <th>Runtime</th>\n",
       "      <td>0.185795</td>\n",
       "      <td>0.166454</td>\n",
       "      <td>0.126890</td>\n",
       "      <td>1.000000</td>\n",
       "      <td>0.163108</td>\n",
       "      <td>0.190406</td>\n",
       "      <td>0.068576</td>\n",
       "    </tr>\n",
       "    <tr>\n",
       "      <th>Nums_score</th>\n",
       "      <td>0.654957</td>\n",
       "      <td>0.364457</td>\n",
       "      <td>0.501424</td>\n",
       "      <td>0.163108</td>\n",
       "      <td>1.000000</td>\n",
       "      <td>0.699194</td>\n",
       "      <td>0.467373</td>\n",
       "    </tr>\n",
       "    <tr>\n",
       "      <th>Nums_review</th>\n",
       "      <td>0.524692</td>\n",
       "      <td>0.313838</td>\n",
       "      <td>0.625136</td>\n",
       "      <td>0.190406</td>\n",
       "      <td>0.699194</td>\n",
       "      <td>1.000000</td>\n",
       "      <td>0.482882</td>\n",
       "    </tr>\n",
       "    <tr>\n",
       "      <th>Nums_critic</th>\n",
       "      <td>0.105675</td>\n",
       "      <td>0.505418</td>\n",
       "      <td>0.520099</td>\n",
       "      <td>0.068576</td>\n",
       "      <td>0.467373</td>\n",
       "      <td>0.482882</td>\n",
       "      <td>1.000000</td>\n",
       "    </tr>\n",
       "  </tbody>\n",
       "</table>\n",
       "</div>"
      ],
      "text/plain": [
       "                  Score      Year  Gross_revenue   Runtime  Nums_score  \\\n",
       "Score          1.000000  0.003983       0.231971  0.185795    0.654957   \n",
       "Year           0.003983  1.000000       0.383626  0.166454    0.364457   \n",
       "Gross_revenue  0.231971  0.383626       1.000000  0.126890    0.501424   \n",
       "Runtime        0.185795  0.166454       0.126890  1.000000    0.163108   \n",
       "Nums_score     0.654957  0.364457       0.501424  0.163108    1.000000   \n",
       "Nums_review    0.524692  0.313838       0.625136  0.190406    0.699194   \n",
       "Nums_critic    0.105675  0.505418       0.520099  0.068576    0.467373   \n",
       "\n",
       "               Nums_review  Nums_critic  \n",
       "Score             0.524692     0.105675  \n",
       "Year              0.313838     0.505418  \n",
       "Gross_revenue     0.625136     0.520099  \n",
       "Runtime           0.190406     0.068576  \n",
       "Nums_score        0.699194     0.467373  \n",
       "Nums_review       1.000000     0.482882  \n",
       "Nums_critic       0.482882     1.000000  "
      ]
     },
     "execution_count": 377,
     "metadata": {},
     "output_type": "execute_result"
    }
   ],
   "source": [
    "train3.corr()"
   ]
  },
  {
   "cell_type": "code",
   "execution_count": 370,
   "metadata": {},
   "outputs": [
    {
     "data": {
      "text/html": [
       "<div>\n",
       "<style scoped>\n",
       "    .dataframe tbody tr th:only-of-type {\n",
       "        vertical-align: middle;\n",
       "    }\n",
       "\n",
       "    .dataframe tbody tr th {\n",
       "        vertical-align: top;\n",
       "    }\n",
       "\n",
       "    .dataframe thead th {\n",
       "        text-align: right;\n",
       "    }\n",
       "</style>\n",
       "<table border=\"1\" class=\"dataframe\">\n",
       "  <thead>\n",
       "    <tr style=\"text-align: right;\">\n",
       "      <th></th>\n",
       "      <th>Name</th>\n",
       "      <th>Score</th>\n",
       "      <th>Year</th>\n",
       "      <th>Gross_revenue</th>\n",
       "      <th>Runtime</th>\n",
       "      <th>Nums_score</th>\n",
       "      <th>Nums_review</th>\n",
       "      <th>Nums_critic</th>\n",
       "      <th>0</th>\n",
       "      <th>1</th>\n",
       "      <th>...</th>\n",
       "      <th>90</th>\n",
       "      <th>91</th>\n",
       "      <th>92</th>\n",
       "      <th>93</th>\n",
       "      <th>94</th>\n",
       "      <th>95</th>\n",
       "      <th>96</th>\n",
       "      <th>97</th>\n",
       "      <th>98</th>\n",
       "      <th>99</th>\n",
       "    </tr>\n",
       "  </thead>\n",
       "  <tbody>\n",
       "    <tr>\n",
       "      <th>0</th>\n",
       "      <td>The Shawshank Redemption</td>\n",
       "      <td>9.2</td>\n",
       "      <td>1994</td>\n",
       "      <td>28786657</td>\n",
       "      <td>142</td>\n",
       "      <td>2236965</td>\n",
       "      <td>7738</td>\n",
       "      <td>225</td>\n",
       "      <td>0.000000</td>\n",
       "      <td>0.000000</td>\n",
       "      <td>...</td>\n",
       "      <td>0.232978</td>\n",
       "      <td>0.0</td>\n",
       "      <td>0.0</td>\n",
       "      <td>0.00000</td>\n",
       "      <td>0.000000</td>\n",
       "      <td>0.0</td>\n",
       "      <td>0.0</td>\n",
       "      <td>0.0</td>\n",
       "      <td>0.0</td>\n",
       "      <td>0.0</td>\n",
       "    </tr>\n",
       "    <tr>\n",
       "      <th>1</th>\n",
       "      <td>The Godfather</td>\n",
       "      <td>9.1</td>\n",
       "      <td>1972</td>\n",
       "      <td>246120974</td>\n",
       "      <td>175</td>\n",
       "      <td>1542452</td>\n",
       "      <td>3726</td>\n",
       "      <td>248</td>\n",
       "      <td>0.000000</td>\n",
       "      <td>0.000000</td>\n",
       "      <td>...</td>\n",
       "      <td>0.123231</td>\n",
       "      <td>0.0</td>\n",
       "      <td>0.0</td>\n",
       "      <td>0.00000</td>\n",
       "      <td>0.000000</td>\n",
       "      <td>0.0</td>\n",
       "      <td>0.0</td>\n",
       "      <td>0.0</td>\n",
       "      <td>0.0</td>\n",
       "      <td>0.0</td>\n",
       "    </tr>\n",
       "    <tr>\n",
       "      <th>2</th>\n",
       "      <td>The Godfather: Part II</td>\n",
       "      <td>9.0</td>\n",
       "      <td>1974</td>\n",
       "      <td>48035783</td>\n",
       "      <td>202</td>\n",
       "      <td>1078827</td>\n",
       "      <td>964</td>\n",
       "      <td>176</td>\n",
       "      <td>0.000000</td>\n",
       "      <td>0.000000</td>\n",
       "      <td>...</td>\n",
       "      <td>0.086723</td>\n",
       "      <td>0.0</td>\n",
       "      <td>0.0</td>\n",
       "      <td>0.00000</td>\n",
       "      <td>0.000000</td>\n",
       "      <td>0.0</td>\n",
       "      <td>0.0</td>\n",
       "      <td>0.0</td>\n",
       "      <td>0.0</td>\n",
       "      <td>0.0</td>\n",
       "    </tr>\n",
       "    <tr>\n",
       "      <th>3</th>\n",
       "      <td>The Dark Knight</td>\n",
       "      <td>9.0</td>\n",
       "      <td>2008</td>\n",
       "      <td>1004934033</td>\n",
       "      <td>152</td>\n",
       "      <td>2207569</td>\n",
       "      <td>6697</td>\n",
       "      <td>421</td>\n",
       "      <td>0.154879</td>\n",
       "      <td>0.139394</td>\n",
       "      <td>...</td>\n",
       "      <td>0.068310</td>\n",
       "      <td>0.0</td>\n",
       "      <td>0.0</td>\n",
       "      <td>0.15656</td>\n",
       "      <td>0.160102</td>\n",
       "      <td>0.0</td>\n",
       "      <td>0.0</td>\n",
       "      <td>0.0</td>\n",
       "      <td>0.0</td>\n",
       "      <td>0.0</td>\n",
       "    </tr>\n",
       "    <tr>\n",
       "      <th>4</th>\n",
       "      <td>12 Angry Men</td>\n",
       "      <td>8.9</td>\n",
       "      <td>1957</td>\n",
       "      <td>576</td>\n",
       "      <td>96</td>\n",
       "      <td>654121</td>\n",
       "      <td>1511</td>\n",
       "      <td>140</td>\n",
       "      <td>0.000000</td>\n",
       "      <td>0.000000</td>\n",
       "      <td>...</td>\n",
       "      <td>0.214965</td>\n",
       "      <td>0.0</td>\n",
       "      <td>0.0</td>\n",
       "      <td>0.00000</td>\n",
       "      <td>0.000000</td>\n",
       "      <td>0.0</td>\n",
       "      <td>0.0</td>\n",
       "      <td>0.0</td>\n",
       "      <td>0.0</td>\n",
       "      <td>0.0</td>\n",
       "    </tr>\n",
       "  </tbody>\n",
       "</table>\n",
       "<p>5 rows × 108 columns</p>\n",
       "</div>"
      ],
      "text/plain": [
       "                       Name  Score  Year  Gross_revenue  Runtime  Nums_score  \\\n",
       "0  The Shawshank Redemption    9.2  1994       28786657      142     2236965   \n",
       "1             The Godfather    9.1  1972      246120974      175     1542452   \n",
       "2    The Godfather: Part II    9.0  1974       48035783      202     1078827   \n",
       "3           The Dark Knight    9.0  2008     1004934033      152     2207569   \n",
       "4              12 Angry Men    8.9  1957            576       96      654121   \n",
       "\n",
       "   Nums_review  Nums_critic         0         1  ...        90   91   92  \\\n",
       "0         7738          225  0.000000  0.000000  ...  0.232978  0.0  0.0   \n",
       "1         3726          248  0.000000  0.000000  ...  0.123231  0.0  0.0   \n",
       "2          964          176  0.000000  0.000000  ...  0.086723  0.0  0.0   \n",
       "3         6697          421  0.154879  0.139394  ...  0.068310  0.0  0.0   \n",
       "4         1511          140  0.000000  0.000000  ...  0.214965  0.0  0.0   \n",
       "\n",
       "        93        94   95   96   97   98   99  \n",
       "0  0.00000  0.000000  0.0  0.0  0.0  0.0  0.0  \n",
       "1  0.00000  0.000000  0.0  0.0  0.0  0.0  0.0  \n",
       "2  0.00000  0.000000  0.0  0.0  0.0  0.0  0.0  \n",
       "3  0.15656  0.160102  0.0  0.0  0.0  0.0  0.0  \n",
       "4  0.00000  0.000000  0.0  0.0  0.0  0.0  0.0  \n",
       "\n",
       "[5 rows x 108 columns]"
      ]
     },
     "execution_count": 370,
     "metadata": {},
     "output_type": "execute_result"
    }
   ],
   "source": [
    "train_data = pd.merge(left=train3,right=train2,on=['Name'])\n",
    "train_data.head()"
   ]
  },
  {
   "cell_type": "markdown",
   "metadata": {},
   "source": [
    "#### Split X, y and randomly split them to trainset, testset"
   ]
  },
  {
   "cell_type": "code",
   "execution_count": 351,
   "metadata": {},
   "outputs": [],
   "source": [
    "cols = [col for col in list(train_data.columns) if col not in ('Name','Score')]"
   ]
  },
  {
   "cell_type": "code",
   "execution_count": 372,
   "metadata": {},
   "outputs": [
    {
     "data": {
      "text/plain": [
       "1"
      ]
     },
     "execution_count": 372,
     "metadata": {},
     "output_type": "execute_result"
    }
   ],
   "source": [
    "from sklearn.model_selection import ShuffleSplit\n",
    "X = train_data[cols].values\n",
    "y = train_data['Score'].values\n",
    "rs = ShuffleSplit(n_splits=1, test_size=0.3, random_state=0)\n",
    "rs.get_n_splits(X)"
   ]
  },
  {
   "cell_type": "code",
   "execution_count": 376,
   "metadata": {},
   "outputs": [
    {
     "name": "stdout",
     "output_type": "stream",
     "text": [
      "TRAIN: [106 243   4 219  61 124  52  66  26 109 241 222  40  13   3 244  24  30\n",
      " 223  60  56 137 129  19 187 134  54 200  80  51   2 249 104 184  86  10\n",
      " 168 178 233  41  14  27  50 226  20 206  46 171 245 123 145 215  62 138\n",
      " 190 153 135  43 196 144 159 112 182  98 158  93 149 239 113   0  94  95\n",
      "  69  49  48  85 247 141  23 220 143  78 100 131 201 248   6  68  84 121\n",
      " 234 189 212 207 191  91 213  11 119 102  35  57 169  65   1 120 199  42\n",
      " 105 132 236  17  38 133  53 164 214 128  34  28 183 114 163 151  31 205\n",
      " 127 185 221 232  32 167 142 209 147  29 177  99  82 246 175  79 197 208\n",
      " 115 148 242  72  77  25 165  81 235 174 238  39 230 193  58 140  88 216\n",
      "  70  87  36  21 211   9 103 195  67 192 117  47 172]\n",
      "TEST: [225 122  92 157 154 161 198  83  63 155 218 231 108 186 116  73 203 139\n",
      " 152  96 156  45 237 111 150  90   8  55 194  37 204  76 110 173 166 136\n",
      " 130   5  22 126 118  12 107 176  89  97 162  44  64 179  71 160 180  75\n",
      "  59 101 229  18 188  15 217  74   7 227 181 228  33 202 125 224 240 210\n",
      " 170  16 146]\n"
     ]
    }
   ],
   "source": [
    "for train_index, test_index in rs.split(X):\n",
    "    print(\"TRAIN:\", train_index) \n",
    "    print(\"TEST:\", test_index)\n",
    "    X_train, X_test = X[train_index], X[test_index]\n",
    "    y_train, y_test = y[train_index], y[test_index]"
   ]
  },
  {
   "cell_type": "markdown",
   "metadata": {},
   "source": [
    "#### Build Linear Regression model"
   ]
  },
  {
   "cell_type": "code",
   "execution_count": 380,
   "metadata": {},
   "outputs": [
    {
     "data": {
      "text/plain": [
       "LinearRegression(copy_X=True, fit_intercept=True, n_jobs=None, normalize=False)"
      ]
     },
     "execution_count": 380,
     "metadata": {},
     "output_type": "execute_result"
    }
   ],
   "source": [
    "from sklearn.linear_model import LinearRegression\n",
    "\n",
    "lin_reg = LinearRegression()\n",
    "lin_reg.fit(X_train, y_train)"
   ]
  },
  {
   "cell_type": "markdown",
   "metadata": {},
   "source": [
    "- Find the mean squared error"
   ]
  },
  {
   "cell_type": "code",
   "execution_count": 386,
   "metadata": {},
   "outputs": [
    {
     "name": "stdout",
     "output_type": "stream",
     "text": [
      "Train set:  0.0076799561619233\n",
      "Test set:  0.06572300299669807\n"
     ]
    }
   ],
   "source": [
    "from sklearn.metrics import mean_squared_error\n",
    "score_predictions = lin_reg.predict(X_train)\n",
    "lin_mse = mean_squared_error(y_train, score_predictions)\n",
    "print('Train set: ',lin_mse)\n",
    "score_predictions = lin_reg.predict(X_test)\n",
    "lin_mse = mean_squared_error(y_test, score_predictions)\n",
    "print('Test set: ',lin_mse)"
   ]
  },
  {
   "cell_type": "markdown",
   "metadata": {},
   "source": [
    "- Find the weights of parameters and R square"
   ]
  },
  {
   "cell_type": "code",
   "execution_count": 409,
   "metadata": {},
   "outputs": [],
   "source": [
    "temp = []\n",
    "for w,c in zip(list(lin_reg.coef_),cols):\n",
    "    temp.append([w,c])\n",
    "temp.sort(key=lambda x:abs(x[0]),reverse=True)"
   ]
  },
  {
   "cell_type": "code",
   "execution_count": 410,
   "metadata": {},
   "outputs": [
    {
     "data": {
      "text/plain": [
       "[[-0.8635054618888202, 25],\n",
       " [-0.7757719506433561, 2],\n",
       " [-0.7497754718535969, 14],\n",
       " [0.640416302132077, 79],\n",
       " [0.6055665789989417, 98],\n",
       " [0.5682800395808939, 50],\n",
       " [0.48733333985938065, 20],\n",
       " [-0.41506252020553475, 97],\n",
       " [0.4011418465266935, 16],\n",
       " [0.35903749112156663, 76]]"
      ]
     },
     "execution_count": 410,
     "metadata": {},
     "output_type": "execute_result"
    }
   ],
   "source": [
    "temp[:10]"
   ]
  },
  {
   "cell_type": "code",
   "execution_count": 421,
   "metadata": {},
   "outputs": [
    {
     "data": {
      "text/plain": [
       "0.8624054280789881"
      ]
     },
     "execution_count": 421,
     "metadata": {},
     "output_type": "execute_result"
    }
   ],
   "source": [
    "lin_reg.score(X_train, y_train)"
   ]
  },
  {
   "cell_type": "code",
   "execution_count": 422,
   "metadata": {},
   "outputs": [
    {
     "data": {
      "text/plain": [
       "-0.4983054707644734"
      ]
     },
     "execution_count": 422,
     "metadata": {},
     "output_type": "execute_result"
    }
   ],
   "source": [
    "lin_reg.score(X_test, y_test)"
   ]
  },
  {
   "cell_type": "markdown",
   "metadata": {},
   "source": [
    "#### Build Random Forest Regression model"
   ]
  },
  {
   "cell_type": "code",
   "execution_count": 387,
   "metadata": {},
   "outputs": [
    {
     "data": {
      "text/plain": [
       "RandomForestRegressor(bootstrap=True, ccp_alpha=0.0, criterion='mse',\n",
       "                      max_depth=None, max_features='auto', max_leaf_nodes=None,\n",
       "                      max_samples=None, min_impurity_decrease=0.0,\n",
       "                      min_impurity_split=None, min_samples_leaf=1,\n",
       "                      min_samples_split=2, min_weight_fraction_leaf=0.0,\n",
       "                      n_estimators=100, n_jobs=None, oob_score=False,\n",
       "                      random_state=None, verbose=0, warm_start=False)"
      ]
     },
     "execution_count": 387,
     "metadata": {},
     "output_type": "execute_result"
    }
   ],
   "source": [
    "from sklearn.ensemble import RandomForestRegressor\n",
    "forest_reg = RandomForestRegressor()\n",
    "forest_reg.fit(X_train, y_train)"
   ]
  },
  {
   "cell_type": "markdown",
   "metadata": {},
   "source": [
    "- Find the mean squared error"
   ]
  },
  {
   "cell_type": "code",
   "execution_count": 411,
   "metadata": {},
   "outputs": [
    {
     "name": "stdout",
     "output_type": "stream",
     "text": [
      "Train set:  0.0039638685714288215\n",
      "Test set:  0.025947600000000157\n"
     ]
    }
   ],
   "source": [
    "score_predictions = forest_reg.predict(X_train)\n",
    "rf_mse = mean_squared_error(y_train, score_predictions)\n",
    "print('Train set: ',rf_mse)\n",
    "score_predictions = forest_reg.predict(X_test)\n",
    "rf_mse = mean_squared_error(y_test, score_predictions)\n",
    "print('Test set: ',rf_mse)"
   ]
  },
  {
   "cell_type": "markdown",
   "metadata": {},
   "source": [
    "- Find the important features"
   ]
  },
  {
   "cell_type": "code",
   "execution_count": 419,
   "metadata": {},
   "outputs": [
    {
     "data": {
      "text/plain": [
       "array([2.70435199e-02, 1.90088355e-02, 1.95372113e-02, 4.62367455e-01,\n",
       "       1.25743143e-01, 2.99253405e-02, 1.52874584e-03, 2.36673124e-03,\n",
       "       1.29341797e-03, 1.20341055e-03, 1.67061998e-04, 2.59964492e-03,\n",
       "       5.74071849e-04, 1.52480572e-03, 2.94805295e-02, 9.25217204e-04,\n",
       "       1.36632197e-03, 1.51302572e-03, 3.04555338e-04, 4.70226933e-04,\n",
       "       5.37030427e-04, 1.53731478e-03, 1.36489332e-02, 1.10388564e-03,\n",
       "       1.99129693e-02, 2.70581167e-04, 1.43794730e-03, 1.98996859e-03,\n",
       "       7.50279220e-03, 1.12148471e-03, 6.31285731e-03, 1.32032530e-02,\n",
       "       3.86908484e-03, 2.28605068e-03, 3.10886148e-03, 8.25692397e-04,\n",
       "       1.15726846e-03, 4.21997145e-03, 2.98909798e-04, 2.40755267e-03,\n",
       "       5.29128084e-03, 1.39728767e-03, 8.85604180e-03, 5.79588687e-04,\n",
       "       2.85094007e-03, 1.38801962e-03, 4.36526159e-03, 7.48464011e-03,\n",
       "       4.28762227e-04, 1.08036717e-02, 8.30725759e-04, 8.78248127e-03,\n",
       "       4.81333681e-04, 1.01734452e-03, 1.84536789e-03, 4.34598047e-04,\n",
       "       2.37968970e-03, 3.00646630e-03, 8.47622248e-04, 3.33172913e-04,\n",
       "       1.40790043e-04, 1.64603645e-03, 1.27589223e-03, 7.36582445e-04,\n",
       "       2.02459523e-03, 1.11750340e-03, 1.78847593e-04, 8.10750761e-04,\n",
       "       9.56329711e-03, 5.59003136e-04, 2.99260223e-03, 5.20908589e-04,\n",
       "       9.36252449e-04, 2.14435524e-04, 2.41613666e-03, 6.29405291e-03,\n",
       "       5.23971689e-03, 6.13412625e-04, 2.21379078e-03, 2.78320702e-04,\n",
       "       2.54661093e-04, 7.88219837e-04, 7.43868684e-04, 3.06913651e-03,\n",
       "       4.89744437e-04, 2.29956048e-03, 1.77406546e-03, 1.99624120e-02,\n",
       "       1.45222263e-03, 8.15228624e-04, 7.98956842e-04, 1.05483931e-03,\n",
       "       1.50632144e-02, 3.22545479e-04, 1.57867703e-03, 1.33847720e-03,\n",
       "       1.43065334e-02, 3.01640720e-04, 1.14514232e-03, 3.74154395e-04,\n",
       "       1.36873588e-03, 5.04474181e-03, 4.11908122e-03, 1.22578070e-04,\n",
       "       1.86271288e-03, 6.75943125e-04])"
      ]
     },
     "execution_count": 419,
     "metadata": {},
     "output_type": "execute_result"
    }
   ],
   "source": [
    "forest_reg.feature_importances_"
   ]
  },
  {
   "cell_type": "code",
   "execution_count": 416,
   "metadata": {},
   "outputs": [],
   "source": [
    "temp = []\n",
    "for w,c in zip(list(forest_reg.feature_importances_),cols):\n",
    "    temp.append([w,c])\n",
    "temp.sort(key=lambda x:x[0],reverse=True)"
   ]
  },
  {
   "cell_type": "code",
   "execution_count": 418,
   "metadata": {},
   "outputs": [
    {
     "data": {
      "text/plain": [
       "[[0.4623674553509341, 'Nums_score'],\n",
       " [0.12574314294345068, 'Nums_review'],\n",
       " [0.029925340511104744, 'Nums_critic'],\n",
       " [0.029480529516424877, 8],\n",
       " [0.027043519882957147, 'Year'],\n",
       " [0.019962412030952007, 81],\n",
       " [0.019912969271263656, 18],\n",
       " [0.01953721131329042, 'Runtime'],\n",
       " [0.019008835517725434, 'Gross_revenue'],\n",
       " [0.015063214426085415, 86]]"
      ]
     },
     "execution_count": 418,
     "metadata": {},
     "output_type": "execute_result"
    }
   ],
   "source": [
    "temp[:10]"
   ]
  },
  {
   "cell_type": "markdown",
   "metadata": {},
   "source": [
    "#### Comparison of two model"
   ]
  },
  {
   "cell_type": "code",
   "execution_count": 426,
   "metadata": {},
   "outputs": [
    {
     "name": "stderr",
     "output_type": "stream",
     "text": [
      "C:\\ProgramData\\Anaconda3\\lib\\site-packages\\ipykernel_launcher.py:6: SettingWithCopyWarning: \n",
      "A value is trying to be set on a copy of a slice from a DataFrame.\n",
      "Try using .loc[row_indexer,col_indexer] = value instead\n",
      "\n",
      "See the caveats in the documentation: http://pandas.pydata.org/pandas-docs/stable/user_guide/indexing.html#returning-a-view-versus-a-copy\n",
      "  \n",
      "C:\\ProgramData\\Anaconda3\\lib\\site-packages\\ipykernel_launcher.py:7: SettingWithCopyWarning: \n",
      "A value is trying to be set on a copy of a slice from a DataFrame.\n",
      "Try using .loc[row_indexer,col_indexer] = value instead\n",
      "\n",
      "See the caveats in the documentation: http://pandas.pydata.org/pandas-docs/stable/user_guide/indexing.html#returning-a-view-versus-a-copy\n",
      "  import sys\n"
     ]
    }
   ],
   "source": [
    "pred_data = data[['Name']]\n",
    "pred_data['Score'] = y\n",
    "pred_data['LR_Predict'] = lin_reg.predict(X)\n",
    "pred_data['RF_Predict'] = forest_reg.predict(X)"
   ]
  },
  {
   "cell_type": "code",
   "execution_count": 432,
   "metadata": {},
   "outputs": [
    {
     "data": {
      "text/html": [
       "<div>\n",
       "<style scoped>\n",
       "    .dataframe tbody tr th:only-of-type {\n",
       "        vertical-align: middle;\n",
       "    }\n",
       "\n",
       "    .dataframe tbody tr th {\n",
       "        vertical-align: top;\n",
       "    }\n",
       "\n",
       "    .dataframe thead th {\n",
       "        text-align: right;\n",
       "    }\n",
       "</style>\n",
       "<table border=\"1\" class=\"dataframe\">\n",
       "  <thead>\n",
       "    <tr style=\"text-align: right;\">\n",
       "      <th></th>\n",
       "      <th>Name</th>\n",
       "      <th>Score</th>\n",
       "      <th>LR_Predict</th>\n",
       "      <th>RF_Predict</th>\n",
       "    </tr>\n",
       "  </thead>\n",
       "  <tbody>\n",
       "    <tr>\n",
       "      <th>0</th>\n",
       "      <td>The Shawshank Redemption</td>\n",
       "      <td>9.2</td>\n",
       "      <td>9.211239</td>\n",
       "      <td>9.084</td>\n",
       "    </tr>\n",
       "    <tr>\n",
       "      <th>1</th>\n",
       "      <td>The Godfather</td>\n",
       "      <td>9.1</td>\n",
       "      <td>9.113875</td>\n",
       "      <td>8.967</td>\n",
       "    </tr>\n",
       "    <tr>\n",
       "      <th>2</th>\n",
       "      <td>The Godfather: Part II</td>\n",
       "      <td>9.0</td>\n",
       "      <td>8.766778</td>\n",
       "      <td>8.797</td>\n",
       "    </tr>\n",
       "    <tr>\n",
       "      <th>3</th>\n",
       "      <td>The Dark Knight</td>\n",
       "      <td>9.0</td>\n",
       "      <td>8.972794</td>\n",
       "      <td>8.882</td>\n",
       "    </tr>\n",
       "    <tr>\n",
       "      <th>4</th>\n",
       "      <td>12 Angry Men</td>\n",
       "      <td>8.9</td>\n",
       "      <td>8.639945</td>\n",
       "      <td>8.610</td>\n",
       "    </tr>\n",
       "    <tr>\n",
       "      <th>5</th>\n",
       "      <td>Schindler's List</td>\n",
       "      <td>8.9</td>\n",
       "      <td>8.808170</td>\n",
       "      <td>8.509</td>\n",
       "    </tr>\n",
       "    <tr>\n",
       "      <th>6</th>\n",
       "      <td>The Lord of the Rings: The Return of the King</td>\n",
       "      <td>8.9</td>\n",
       "      <td>8.918161</td>\n",
       "      <td>8.870</td>\n",
       "    </tr>\n",
       "    <tr>\n",
       "      <th>7</th>\n",
       "      <td>Pulp Fiction</td>\n",
       "      <td>8.8</td>\n",
       "      <td>8.838876</td>\n",
       "      <td>8.942</td>\n",
       "    </tr>\n",
       "    <tr>\n",
       "      <th>8</th>\n",
       "      <td>The Good, the Bad and the Ugly</td>\n",
       "      <td>8.8</td>\n",
       "      <td>8.675652</td>\n",
       "      <td>8.317</td>\n",
       "    </tr>\n",
       "    <tr>\n",
       "      <th>9</th>\n",
       "      <td>The Lord of the Rings: The Fellowship of the Ring</td>\n",
       "      <td>8.8</td>\n",
       "      <td>8.842794</td>\n",
       "      <td>8.845</td>\n",
       "    </tr>\n",
       "    <tr>\n",
       "      <th>10</th>\n",
       "      <td>Fight Club</td>\n",
       "      <td>8.8</td>\n",
       "      <td>8.774123</td>\n",
       "      <td>8.846</td>\n",
       "    </tr>\n",
       "    <tr>\n",
       "      <th>11</th>\n",
       "      <td>Forrest Gump</td>\n",
       "      <td>8.8</td>\n",
       "      <td>8.873373</td>\n",
       "      <td>8.847</td>\n",
       "    </tr>\n",
       "    <tr>\n",
       "      <th>12</th>\n",
       "      <td>Inception</td>\n",
       "      <td>8.7</td>\n",
       "      <td>8.551233</td>\n",
       "      <td>8.828</td>\n",
       "    </tr>\n",
       "    <tr>\n",
       "      <th>13</th>\n",
       "      <td>Star Wars: Episode V - The Empire Strikes Back</td>\n",
       "      <td>8.7</td>\n",
       "      <td>8.631529</td>\n",
       "      <td>8.631</td>\n",
       "    </tr>\n",
       "    <tr>\n",
       "      <th>14</th>\n",
       "      <td>The Lord of the Rings: The Two Towers</td>\n",
       "      <td>8.7</td>\n",
       "      <td>8.818199</td>\n",
       "      <td>8.653</td>\n",
       "    </tr>\n",
       "  </tbody>\n",
       "</table>\n",
       "</div>"
      ],
      "text/plain": [
       "                                                 Name  Score  LR_Predict  \\\n",
       "0                            The Shawshank Redemption    9.2    9.211239   \n",
       "1                                       The Godfather    9.1    9.113875   \n",
       "2                              The Godfather: Part II    9.0    8.766778   \n",
       "3                                     The Dark Knight    9.0    8.972794   \n",
       "4                                        12 Angry Men    8.9    8.639945   \n",
       "5                                    Schindler's List    8.9    8.808170   \n",
       "6       The Lord of the Rings: The Return of the King    8.9    8.918161   \n",
       "7                                        Pulp Fiction    8.8    8.838876   \n",
       "8                      The Good, the Bad and the Ugly    8.8    8.675652   \n",
       "9   The Lord of the Rings: The Fellowship of the Ring    8.8    8.842794   \n",
       "10                                         Fight Club    8.8    8.774123   \n",
       "11                                       Forrest Gump    8.8    8.873373   \n",
       "12                                          Inception    8.7    8.551233   \n",
       "13     Star Wars: Episode V - The Empire Strikes Back    8.7    8.631529   \n",
       "14              The Lord of the Rings: The Two Towers    8.7    8.818199   \n",
       "\n",
       "    RF_Predict  \n",
       "0        9.084  \n",
       "1        8.967  \n",
       "2        8.797  \n",
       "3        8.882  \n",
       "4        8.610  \n",
       "5        8.509  \n",
       "6        8.870  \n",
       "7        8.942  \n",
       "8        8.317  \n",
       "9        8.845  \n",
       "10       8.846  \n",
       "11       8.847  \n",
       "12       8.828  \n",
       "13       8.631  \n",
       "14       8.653  "
      ]
     },
     "execution_count": 432,
     "metadata": {},
     "output_type": "execute_result"
    }
   ],
   "source": [
    "pred_data.head(15)"
   ]
  },
  {
   "cell_type": "code",
   "execution_count": 430,
   "metadata": {},
   "outputs": [
    {
     "data": {
      "text/plain": [
       "0.025092870212355737"
      ]
     },
     "execution_count": 430,
     "metadata": {},
     "output_type": "execute_result"
    }
   ],
   "source": [
    "mean_squared_error(y, lin_reg.predict(X))"
   ]
  },
  {
   "cell_type": "code",
   "execution_count": 431,
   "metadata": {},
   "outputs": [
    {
     "data": {
      "text/plain": [
       "0.010558988000000224"
      ]
     },
     "execution_count": 431,
     "metadata": {},
     "output_type": "execute_result"
    }
   ],
   "source": [
    "mean_squared_error(y, forest_reg.predict(X))"
   ]
  }
 ],
 "metadata": {
  "kernelspec": {
   "display_name": "Python 3",
   "language": "python",
   "name": "python3"
  },
  "language_info": {
   "codemirror_mode": {
    "name": "ipython",
    "version": 3
   },
   "file_extension": ".py",
   "mimetype": "text/x-python",
   "name": "python",
   "nbconvert_exporter": "python",
   "pygments_lexer": "ipython3",
   "version": "3.7.3"
  },
  "toc": {
   "base_numbering": 1,
   "nav_menu": {},
   "number_sections": true,
   "sideBar": false,
   "skip_h1_title": false,
   "title_cell": "Table of Contents",
   "title_sidebar": "Contents",
   "toc_cell": false,
   "toc_position": {},
   "toc_section_display": true,
   "toc_window_display": false
  }
 },
 "nbformat": 4,
 "nbformat_minor": 2
}
